{
  "nbformat": 4,
  "nbformat_minor": 0,
  "metadata": {
    "colab": {
      "provenance": [],
      "collapsed_sections": [
        "W9xBOh42f62A"
      ]
    },
    "kernelspec": {
      "name": "python3",
      "display_name": "Python 3"
    },
    "language_info": {
      "name": "python"
    }
  },
  "cells": [
    {
      "cell_type": "markdown",
      "source": [
        "# Download data"
      ],
      "metadata": {
        "id": "aDAASzlvftzo"
      }
    },
    {
      "cell_type": "code",
      "source": [
        "# ------------------------------------------ #\n",
        "# GETTING DATA FROM DATA MENDELEY REPOSITORY #\n",
        "# ------------------------------------------ #\n",
        "!rm -f cammesa_db_2012_2018.csv\n",
        "!wget --no-verbose https://data.mendeley.com/public-files/datasets/92g8n7pjp2/files/df476d46-77c7-49bb-a456-2b4693c38486/file_downloaded > /dev/null\n",
        "!mv file_downloaded cammesa_db_2012_2018.csv\n",
        "!ls -lh --color=auto"
      ],
      "metadata": {
        "colab": {
          "base_uri": "https://localhost:8080/"
        },
        "id": "vhJSgBphiaHS",
        "outputId": "6726edab-e60d-4151-d0c0-2ab86a2b0b78"
      },
      "execution_count": null,
      "outputs": [
        {
          "output_type": "stream",
          "name": "stdout",
          "text": [
            "2023-05-23 12:29:15 URL:https://prod-dcd-datasets-public-files-eu-west-1.s3.eu-west-1.amazonaws.com/e2683ab3-3c59-42ad-a832-779d49fe766b [4271457/4271457] -> \"file_downloaded\" [1]\n",
            "total 12M\n",
            "-rw-r--r-- 1 1000 1000 415K Jun  5  2021 cammesa_daily.csv\n",
            "-rw-r--r-- 1 root root 4.1M Mar 21 14:25 cammesa_db_2012_2018.csv\n",
            "-rw-r--r-- 1 1000 1000 5.9M Jun  5  2021 cammesa_hourly.csv\n",
            "-rw-r--r-- 1 1000 1000  15K Jun  5  2021 cammesa_monthly.csv\n",
            "-rw-r--r-- 1 root root 1.4M Jun  5  2021 CAMMESA.tgz\n",
            "-rw-r--r-- 1 1000 1000  63K Jun  5  2021 cammesa_weekly.csv\n",
            "drwxr-xr-x 1 root root 4.0K May 19 13:32 \u001b[0m\u001b[01;34msample_data\u001b[0m\n"
          ]
        }
      ]
    },
    {
      "cell_type": "code",
      "source": [
        "!pip install pmdarima"
      ],
      "metadata": {
        "colab": {
          "base_uri": "https://localhost:8080/"
        },
        "id": "oEYHmPUV0TOG",
        "outputId": "c3183a7c-0d46-4488-945e-3de788a99c7b"
      },
      "execution_count": null,
      "outputs": [
        {
          "output_type": "stream",
          "name": "stdout",
          "text": [
            "Looking in indexes: https://pypi.org/simple, https://us-python.pkg.dev/colab-wheels/public/simple/\n",
            "Collecting pmdarima\n",
            "  Downloading pmdarima-2.0.3-cp310-cp310-manylinux_2_17_x86_64.manylinux2014_x86_64.manylinux_2_28_x86_64.whl (1.8 MB)\n",
            "\u001b[2K     \u001b[90m━━━━━━━━━━━━━━━━━━━━━━━━━━━━━━━━━━━━━━━━\u001b[0m \u001b[32m1.8/1.8 MB\u001b[0m \u001b[31m33.2 MB/s\u001b[0m eta \u001b[36m0:00:00\u001b[0m\n",
            "\u001b[?25hRequirement already satisfied: joblib>=0.11 in /usr/local/lib/python3.10/dist-packages (from pmdarima) (1.2.0)\n",
            "Requirement already satisfied: Cython!=0.29.18,!=0.29.31,>=0.29 in /usr/local/lib/python3.10/dist-packages (from pmdarima) (0.29.34)\n",
            "Requirement already satisfied: numpy>=1.21.2 in /usr/local/lib/python3.10/dist-packages (from pmdarima) (1.22.4)\n",
            "Requirement already satisfied: pandas>=0.19 in /usr/local/lib/python3.10/dist-packages (from pmdarima) (1.5.3)\n",
            "Requirement already satisfied: scikit-learn>=0.22 in /usr/local/lib/python3.10/dist-packages (from pmdarima) (1.2.2)\n",
            "Requirement already satisfied: scipy>=1.3.2 in /usr/local/lib/python3.10/dist-packages (from pmdarima) (1.10.1)\n",
            "Requirement already satisfied: statsmodels>=0.13.2 in /usr/local/lib/python3.10/dist-packages (from pmdarima) (0.13.5)\n",
            "Requirement already satisfied: urllib3 in /usr/local/lib/python3.10/dist-packages (from pmdarima) (1.26.15)\n",
            "Requirement already satisfied: setuptools!=50.0.0,>=38.6.0 in /usr/local/lib/python3.10/dist-packages (from pmdarima) (67.7.2)\n",
            "Requirement already satisfied: python-dateutil>=2.8.1 in /usr/local/lib/python3.10/dist-packages (from pandas>=0.19->pmdarima) (2.8.2)\n",
            "Requirement already satisfied: pytz>=2020.1 in /usr/local/lib/python3.10/dist-packages (from pandas>=0.19->pmdarima) (2022.7.1)\n",
            "Requirement already satisfied: threadpoolctl>=2.0.0 in /usr/local/lib/python3.10/dist-packages (from scikit-learn>=0.22->pmdarima) (3.1.0)\n",
            "Requirement already satisfied: patsy>=0.5.2 in /usr/local/lib/python3.10/dist-packages (from statsmodels>=0.13.2->pmdarima) (0.5.3)\n",
            "Requirement already satisfied: packaging>=21.3 in /usr/local/lib/python3.10/dist-packages (from statsmodels>=0.13.2->pmdarima) (23.1)\n",
            "Requirement already satisfied: six in /usr/local/lib/python3.10/dist-packages (from patsy>=0.5.2->statsmodels>=0.13.2->pmdarima) (1.16.0)\n",
            "Installing collected packages: pmdarima\n",
            "Successfully installed pmdarima-2.0.3\n"
          ]
        }
      ]
    },
    {
      "cell_type": "code",
      "source": [
        "import pandas as pd\n",
        "\n",
        "# ---------------------------------------------- #\n",
        "# IMPORTING DATA AND GENERATING VARIABLE 'isWrk' #\n",
        "# ---------------------------------------------- #\n",
        "df = pd.read_csv('cammesa_db_2012_2018.csv')\n",
        "df['date'] = [f'{datetime[:4]}-{datetime[5:7]:02}-{datetime[8:10]:02}' for datetime in df['datetime']]\n",
        "df['date'] = pd.to_datetime(df['date'])\n",
        "df['day'] = [date.day_name() for date in df['date']]\n",
        "df['Wrk'] = [(day!='Sunday' and day!='Saturday') and not holiday for day, holiday in zip(df['day'], df['Holiday'])]\n",
        "df.head()\n",
        "\n",
        "\n",
        "# -------------------------------------- #\n",
        "# TRANSFORMING FROM HOURLY TO DAILY DATA #\n",
        "# -------------------------------------- #\n",
        "import numpy as np\n",
        "step=24\n",
        "data = {\n",
        "        'date':[],\n",
        "        'EMAE':[],\n",
        "        'Wrk':[],\n",
        "        'Temp':[],\n",
        "        'Hum': [],\n",
        "        'DemGBA':[],\n",
        "        }\n",
        "for i in range(0, df.shape[0], step):\n",
        "  f = min(i+step, df.shape[0])\n",
        "  assert len(set(df[\"day\"].iloc[i:f]))==1\n",
        "  assert len(set(df[\"EMAE\"].iloc[i:f]))==1\n",
        "  assert len(set(df[\"Wrk\"].iloc[i:f]))==1\n",
        "  assert len(set(df[\"date\"].iloc[i:f]))==1\n",
        "  data['EMAE'].append(df['EMAE'][i])\n",
        "  data['Wrk'].append(1 if df['Wrk'][i] else 0)\n",
        "  data['date'].append(df['date'][i])\n",
        "  data['Temp'].append(np.average(df['Temp'].iloc[i:f]))\n",
        "  data['Hum'].append(np.average(df['Hum'].iloc[i:f]))\n",
        "  data['DemGBA'].append(np.sum(df['DemGBA'].iloc[i:f]))\n",
        "\n",
        "\n",
        "df = pd.DataFrame(data)\n",
        "\n",
        "# REMOVE LEAP DAYS\n",
        "# df = df[ np.array([not '02-29' in str(date) for date in df['date']])]\n",
        "\n",
        "\n",
        "\n",
        "df = df.set_index('date')\n",
        "df.index = df.index.to_period(freq='D')\n",
        "\n",
        "shifted = df.shift(1)\n",
        "shifted.columns = [f'l.{column}' for column in shifted.columns]\n",
        "df = pd.concat([df,shifted], axis=1)\n",
        "df = df.dropna()\n",
        "print(df.shape)\n",
        "df.head()"
      ],
      "metadata": {
        "colab": {
          "base_uri": "https://localhost:8080/",
          "height": 255
        },
        "id": "B_yY3ZEflg1H",
        "outputId": "8a05751e-f557-40b0-f4bf-24dda9262490"
      },
      "execution_count": null,
      "outputs": [
        {
          "output_type": "stream",
          "name": "stdout",
          "text": [
            "(2556, 10)\n"
          ]
        },
        {
          "output_type": "execute_result",
          "data": {
            "text/plain": [
              "              EMAE  Wrk       Temp       Hum  DemGBA  l.EMAE  l.Wrk  \\\n",
              "date                                                                  \n",
              "2012-01-02  145.95    1  27.337500  0.575000  134833  145.95    0.0   \n",
              "2012-01-03  145.95    1  23.150000  0.665833  137700  145.95    1.0   \n",
              "2012-01-04  145.95    1  23.266667  0.601667  132699  145.95    1.0   \n",
              "2012-01-05  145.95    1  27.508333  0.490000  144844  145.95    1.0   \n",
              "2012-01-06  145.95    1  28.808333  0.450000  151924  145.95    1.0   \n",
              "\n",
              "               l.Temp     l.Hum  l.DemGBA  \n",
              "date                                       \n",
              "2012-01-02  24.295833  0.635000   99924.0  \n",
              "2012-01-03  27.337500  0.575000  134833.0  \n",
              "2012-01-04  23.150000  0.665833  137700.0  \n",
              "2012-01-05  23.266667  0.601667  132699.0  \n",
              "2012-01-06  27.508333  0.490000  144844.0  "
            ],
            "text/html": [
              "\n",
              "  <div id=\"df-9f41b6a7-d7a8-4717-b57d-a5784229c541\">\n",
              "    <div class=\"colab-df-container\">\n",
              "      <div>\n",
              "<style scoped>\n",
              "    .dataframe tbody tr th:only-of-type {\n",
              "        vertical-align: middle;\n",
              "    }\n",
              "\n",
              "    .dataframe tbody tr th {\n",
              "        vertical-align: top;\n",
              "    }\n",
              "\n",
              "    .dataframe thead th {\n",
              "        text-align: right;\n",
              "    }\n",
              "</style>\n",
              "<table border=\"1\" class=\"dataframe\">\n",
              "  <thead>\n",
              "    <tr style=\"text-align: right;\">\n",
              "      <th></th>\n",
              "      <th>EMAE</th>\n",
              "      <th>Wrk</th>\n",
              "      <th>Temp</th>\n",
              "      <th>Hum</th>\n",
              "      <th>DemGBA</th>\n",
              "      <th>l.EMAE</th>\n",
              "      <th>l.Wrk</th>\n",
              "      <th>l.Temp</th>\n",
              "      <th>l.Hum</th>\n",
              "      <th>l.DemGBA</th>\n",
              "    </tr>\n",
              "    <tr>\n",
              "      <th>date</th>\n",
              "      <th></th>\n",
              "      <th></th>\n",
              "      <th></th>\n",
              "      <th></th>\n",
              "      <th></th>\n",
              "      <th></th>\n",
              "      <th></th>\n",
              "      <th></th>\n",
              "      <th></th>\n",
              "      <th></th>\n",
              "    </tr>\n",
              "  </thead>\n",
              "  <tbody>\n",
              "    <tr>\n",
              "      <th>2012-01-02</th>\n",
              "      <td>145.95</td>\n",
              "      <td>1</td>\n",
              "      <td>27.337500</td>\n",
              "      <td>0.575000</td>\n",
              "      <td>134833</td>\n",
              "      <td>145.95</td>\n",
              "      <td>0.0</td>\n",
              "      <td>24.295833</td>\n",
              "      <td>0.635000</td>\n",
              "      <td>99924.0</td>\n",
              "    </tr>\n",
              "    <tr>\n",
              "      <th>2012-01-03</th>\n",
              "      <td>145.95</td>\n",
              "      <td>1</td>\n",
              "      <td>23.150000</td>\n",
              "      <td>0.665833</td>\n",
              "      <td>137700</td>\n",
              "      <td>145.95</td>\n",
              "      <td>1.0</td>\n",
              "      <td>27.337500</td>\n",
              "      <td>0.575000</td>\n",
              "      <td>134833.0</td>\n",
              "    </tr>\n",
              "    <tr>\n",
              "      <th>2012-01-04</th>\n",
              "      <td>145.95</td>\n",
              "      <td>1</td>\n",
              "      <td>23.266667</td>\n",
              "      <td>0.601667</td>\n",
              "      <td>132699</td>\n",
              "      <td>145.95</td>\n",
              "      <td>1.0</td>\n",
              "      <td>23.150000</td>\n",
              "      <td>0.665833</td>\n",
              "      <td>137700.0</td>\n",
              "    </tr>\n",
              "    <tr>\n",
              "      <th>2012-01-05</th>\n",
              "      <td>145.95</td>\n",
              "      <td>1</td>\n",
              "      <td>27.508333</td>\n",
              "      <td>0.490000</td>\n",
              "      <td>144844</td>\n",
              "      <td>145.95</td>\n",
              "      <td>1.0</td>\n",
              "      <td>23.266667</td>\n",
              "      <td>0.601667</td>\n",
              "      <td>132699.0</td>\n",
              "    </tr>\n",
              "    <tr>\n",
              "      <th>2012-01-06</th>\n",
              "      <td>145.95</td>\n",
              "      <td>1</td>\n",
              "      <td>28.808333</td>\n",
              "      <td>0.450000</td>\n",
              "      <td>151924</td>\n",
              "      <td>145.95</td>\n",
              "      <td>1.0</td>\n",
              "      <td>27.508333</td>\n",
              "      <td>0.490000</td>\n",
              "      <td>144844.0</td>\n",
              "    </tr>\n",
              "  </tbody>\n",
              "</table>\n",
              "</div>\n",
              "      <button class=\"colab-df-convert\" onclick=\"convertToInteractive('df-9f41b6a7-d7a8-4717-b57d-a5784229c541')\"\n",
              "              title=\"Convert this dataframe to an interactive table.\"\n",
              "              style=\"display:none;\">\n",
              "        \n",
              "  <svg xmlns=\"http://www.w3.org/2000/svg\" height=\"24px\"viewBox=\"0 0 24 24\"\n",
              "       width=\"24px\">\n",
              "    <path d=\"M0 0h24v24H0V0z\" fill=\"none\"/>\n",
              "    <path d=\"M18.56 5.44l.94 2.06.94-2.06 2.06-.94-2.06-.94-.94-2.06-.94 2.06-2.06.94zm-11 1L8.5 8.5l.94-2.06 2.06-.94-2.06-.94L8.5 2.5l-.94 2.06-2.06.94zm10 10l.94 2.06.94-2.06 2.06-.94-2.06-.94-.94-2.06-.94 2.06-2.06.94z\"/><path d=\"M17.41 7.96l-1.37-1.37c-.4-.4-.92-.59-1.43-.59-.52 0-1.04.2-1.43.59L10.3 9.45l-7.72 7.72c-.78.78-.78 2.05 0 2.83L4 21.41c.39.39.9.59 1.41.59.51 0 1.02-.2 1.41-.59l7.78-7.78 2.81-2.81c.8-.78.8-2.07 0-2.86zM5.41 20L4 18.59l7.72-7.72 1.47 1.35L5.41 20z\"/>\n",
              "  </svg>\n",
              "      </button>\n",
              "      \n",
              "  <style>\n",
              "    .colab-df-container {\n",
              "      display:flex;\n",
              "      flex-wrap:wrap;\n",
              "      gap: 12px;\n",
              "    }\n",
              "\n",
              "    .colab-df-convert {\n",
              "      background-color: #E8F0FE;\n",
              "      border: none;\n",
              "      border-radius: 50%;\n",
              "      cursor: pointer;\n",
              "      display: none;\n",
              "      fill: #1967D2;\n",
              "      height: 32px;\n",
              "      padding: 0 0 0 0;\n",
              "      width: 32px;\n",
              "    }\n",
              "\n",
              "    .colab-df-convert:hover {\n",
              "      background-color: #E2EBFA;\n",
              "      box-shadow: 0px 1px 2px rgba(60, 64, 67, 0.3), 0px 1px 3px 1px rgba(60, 64, 67, 0.15);\n",
              "      fill: #174EA6;\n",
              "    }\n",
              "\n",
              "    [theme=dark] .colab-df-convert {\n",
              "      background-color: #3B4455;\n",
              "      fill: #D2E3FC;\n",
              "    }\n",
              "\n",
              "    [theme=dark] .colab-df-convert:hover {\n",
              "      background-color: #434B5C;\n",
              "      box-shadow: 0px 1px 3px 1px rgba(0, 0, 0, 0.15);\n",
              "      filter: drop-shadow(0px 1px 2px rgba(0, 0, 0, 0.3));\n",
              "      fill: #FFFFFF;\n",
              "    }\n",
              "  </style>\n",
              "\n",
              "      <script>\n",
              "        const buttonEl =\n",
              "          document.querySelector('#df-9f41b6a7-d7a8-4717-b57d-a5784229c541 button.colab-df-convert');\n",
              "        buttonEl.style.display =\n",
              "          google.colab.kernel.accessAllowed ? 'block' : 'none';\n",
              "\n",
              "        async function convertToInteractive(key) {\n",
              "          const element = document.querySelector('#df-9f41b6a7-d7a8-4717-b57d-a5784229c541');\n",
              "          const dataTable =\n",
              "            await google.colab.kernel.invokeFunction('convertToInteractive',\n",
              "                                                     [key], {});\n",
              "          if (!dataTable) return;\n",
              "\n",
              "          const docLinkHtml = 'Like what you see? Visit the ' +\n",
              "            '<a target=\"_blank\" href=https://colab.research.google.com/notebooks/data_table.ipynb>data table notebook</a>'\n",
              "            + ' to learn more about interactive tables.';\n",
              "          element.innerHTML = '';\n",
              "          dataTable['output_type'] = 'display_data';\n",
              "          await google.colab.output.renderOutput(dataTable, element);\n",
              "          const docLink = document.createElement('div');\n",
              "          docLink.innerHTML = docLinkHtml;\n",
              "          element.appendChild(docLink);\n",
              "        }\n",
              "      </script>\n",
              "    </div>\n",
              "  </div>\n",
              "  "
            ]
          },
          "metadata": {},
          "execution_count": 32
        }
      ]
    },
    {
      "cell_type": "markdown",
      "source": [
        "# OLD"
      ],
      "metadata": {
        "id": "W9xBOh42f62A"
      }
    },
    {
      "cell_type": "code",
      "execution_count": null,
      "metadata": {
        "id": "T3u89AGmfEgp",
        "colab": {
          "base_uri": "https://localhost:8080/"
        },
        "outputId": "e46906bd-5604-405a-9d77-6b680af9dc08"
      },
      "outputs": [
        {
          "output_type": "stream",
          "name": "stdout",
          "text": [
            "--2023-05-23 12:24:34--  https://cs.uns.edu.ar/~mmaisonnave/resources/tesis/CAMMESA.tgz\n",
            "Resolving cs.uns.edu.ar (cs.uns.edu.ar)... 200.49.226.11\n",
            "Connecting to cs.uns.edu.ar (cs.uns.edu.ar)|200.49.226.11|:443... connected.\n",
            "HTTP request sent, awaiting response... 200 OK\n",
            "Length: 1375608 (1.3M) [application/x-gzip]\n",
            "Saving to: ‘CAMMESA.tgz’\n",
            "\n",
            "CAMMESA.tgz         100%[===================>]   1.31M  1.15MB/s    in 1.1s    \n",
            "\n",
            "2023-05-23 12:24:36 (1.15 MB/s) - ‘CAMMESA.tgz’ saved [1375608/1375608]\n",
            "\n"
          ]
        }
      ],
      "source": [
        "!rm -f CAMMESA.tgz\n",
        "!wget https://cs.uns.edu.ar/~mmaisonnave/resources/tesis/CAMMESA.tgz  >> /dev/null\n",
        "!tar zxvf CAMMESA.tgz >> /dev/null"
      ]
    },
    {
      "cell_type": "code",
      "source": [
        "import pandas as pd\n",
        "old = pd.read_csv('cammesa_daily.csv')\n",
        "\n",
        "\n",
        "month2number = {\n",
        "    'enero':1,\n",
        "    'febrero':2,\n",
        "    'marzo':3,\n",
        "    'abril':4,\n",
        "    'mayo':5,\n",
        "    'junio':6,\n",
        "    'julio':7,\n",
        "    'agosto':8,\n",
        "    'septiembre':9,\n",
        "    'octubre':10,\n",
        "    'noviembre':11,\n",
        "    'diciembre':12\n",
        "}\n",
        "\n",
        "old['Date'] = [f'{row[3]}-{month2number[row[1]]}-{row[0]}' for row in old.values]\n",
        "\n",
        "old['Date'] = pd.to_datetime(old['Date'])\n",
        "\n",
        "# df['Date'] = np.array([f'{year}-{month2number[month]}-01' for year,month in zip(df['Year'],df['Month'])])\n",
        "\n",
        "#remove leap days\n",
        "old = old[~((old['Month']=='febrero') & (old['Day']==29))]\n",
        "\n",
        "\n",
        "del old['Month']\n",
        "del old['Year']\n",
        "\n",
        "\n",
        "\n",
        "old['Summer'] = [1 if season=='Summer' else 0 for season in old['Season']]\n",
        "old['Winter'] = [1 if season=='Winter'  else 0 for season in old['Season']]\n",
        "old['isSpecialDay'] = [1 if isSpecial==\"Y\"  else 0 for isSpecial in old['isSpecialDay']]\n",
        "old['isHoliday'] = [1 if isHoliday==\"Y\"  else 0 for isHoliday in old['isHoliday']]\n",
        "old['isWeekend'] = [1 if weekday==\"Sunday\" or weekday==\"Saturday\"  else 0 for weekday in old['Weekday']]\n",
        "\n",
        "del old['Season']\n",
        "del old['Weekday']\n",
        "del old['Day']\n",
        "del old['isSpecialDay']\n",
        "del old['Ster']\n",
        "del old['Summer']\n",
        "del old['Winter']\n",
        "# del df['Hour']\n",
        "# df = df[['Date', 'DemGBA', 'Temp', 'EMAE', 'vy', 'vx', 'Hum', 'Pres']]\n",
        "\n",
        "\n",
        "old[\"Wrk\"] = [0 if isWeek or isHol else 1 for isWeek,isHol in zip(old[\"isWeekend\"], old[\"isHoliday\"])]\n",
        "del old['isWeekend']\n",
        "\n",
        "\n",
        "old = old.set_index('Date')\n",
        "old.index = old.index.to_period(freq='D')\n",
        "print(old.shape)\n",
        "old"
      ],
      "metadata": {
        "id": "wmJONDnifx59",
        "colab": {
          "base_uri": "https://localhost:8080/",
          "height": 473
        },
        "outputId": "ad045774-75f2-4b88-9412-4a48f101f419"
      },
      "execution_count": null,
      "outputs": [
        {
          "output_type": "stream",
          "name": "stdout",
          "text": [
            "(2555, 10)\n"
          ]
        },
        {
          "output_type": "execute_result",
          "data": {
            "text/plain": [
              "              DemGBA       Temp  isHoliday    EMAE        vy        vx  \\\n",
              "Date                                                                     \n",
              "2012-01-01   99924.0  24.295833          1  145.95  0.769583  3.617083   \n",
              "2012-01-02  134833.0  27.337500          0  145.95  1.010833  4.014583   \n",
              "2012-01-03  137700.0  23.150000          0  145.95 -1.170833  6.880417   \n",
              "2012-01-04  132699.0  23.266667          0  145.95  2.570833  5.254167   \n",
              "2012-01-05  144844.0  27.508333          0  145.95  4.598750 -0.172083   \n",
              "...              ...        ...        ...     ...       ...       ...   \n",
              "2018-12-27  165301.0  27.533333          0  144.80  5.851250 -1.034583   \n",
              "2018-12-28  161804.0  26.729167          0  144.80  2.013333  8.611667   \n",
              "2018-12-29  139927.0  26.575000          0  144.80  3.351667  3.026250   \n",
              "2018-12-30  113297.0  23.633333          0  144.80 -3.687917  0.845417   \n",
              "2018-12-31  111274.0  23.658333          1  144.80  6.180000  3.565833   \n",
              "\n",
              "                   GHI       Hum         Pres  Wrk  \n",
              "Date                                                \n",
              "2012-01-01  384.250000  0.635000  1015.370833    0  \n",
              "2012-01-02  375.875000  0.575000  1012.525000    1  \n",
              "2012-01-03  359.708333  0.665833  1014.275000    1  \n",
              "2012-01-04  382.250000  0.601667  1016.408333    1  \n",
              "2012-01-05  377.291667  0.490000  1013.479167    1  \n",
              "...                ...       ...          ...  ...  \n",
              "2018-12-27  157.166667  0.682917  1006.829167    1  \n",
              "2018-12-28  301.708333  0.684167  1008.508333    1  \n",
              "2018-12-29  263.333333  0.730000  1005.650000    0  \n",
              "2018-12-30  313.083333  0.667500  1009.525000    0  \n",
              "2018-12-31    0.000000  0.542083  1012.808333    0  \n",
              "\n",
              "[2555 rows x 10 columns]"
            ],
            "text/html": [
              "\n",
              "  <div id=\"df-d41ac565-a324-4823-9ecd-e59f6e43b3ef\">\n",
              "    <div class=\"colab-df-container\">\n",
              "      <div>\n",
              "<style scoped>\n",
              "    .dataframe tbody tr th:only-of-type {\n",
              "        vertical-align: middle;\n",
              "    }\n",
              "\n",
              "    .dataframe tbody tr th {\n",
              "        vertical-align: top;\n",
              "    }\n",
              "\n",
              "    .dataframe thead th {\n",
              "        text-align: right;\n",
              "    }\n",
              "</style>\n",
              "<table border=\"1\" class=\"dataframe\">\n",
              "  <thead>\n",
              "    <tr style=\"text-align: right;\">\n",
              "      <th></th>\n",
              "      <th>DemGBA</th>\n",
              "      <th>Temp</th>\n",
              "      <th>isHoliday</th>\n",
              "      <th>EMAE</th>\n",
              "      <th>vy</th>\n",
              "      <th>vx</th>\n",
              "      <th>GHI</th>\n",
              "      <th>Hum</th>\n",
              "      <th>Pres</th>\n",
              "      <th>Wrk</th>\n",
              "    </tr>\n",
              "    <tr>\n",
              "      <th>Date</th>\n",
              "      <th></th>\n",
              "      <th></th>\n",
              "      <th></th>\n",
              "      <th></th>\n",
              "      <th></th>\n",
              "      <th></th>\n",
              "      <th></th>\n",
              "      <th></th>\n",
              "      <th></th>\n",
              "      <th></th>\n",
              "    </tr>\n",
              "  </thead>\n",
              "  <tbody>\n",
              "    <tr>\n",
              "      <th>2012-01-01</th>\n",
              "      <td>99924.0</td>\n",
              "      <td>24.295833</td>\n",
              "      <td>1</td>\n",
              "      <td>145.95</td>\n",
              "      <td>0.769583</td>\n",
              "      <td>3.617083</td>\n",
              "      <td>384.250000</td>\n",
              "      <td>0.635000</td>\n",
              "      <td>1015.370833</td>\n",
              "      <td>0</td>\n",
              "    </tr>\n",
              "    <tr>\n",
              "      <th>2012-01-02</th>\n",
              "      <td>134833.0</td>\n",
              "      <td>27.337500</td>\n",
              "      <td>0</td>\n",
              "      <td>145.95</td>\n",
              "      <td>1.010833</td>\n",
              "      <td>4.014583</td>\n",
              "      <td>375.875000</td>\n",
              "      <td>0.575000</td>\n",
              "      <td>1012.525000</td>\n",
              "      <td>1</td>\n",
              "    </tr>\n",
              "    <tr>\n",
              "      <th>2012-01-03</th>\n",
              "      <td>137700.0</td>\n",
              "      <td>23.150000</td>\n",
              "      <td>0</td>\n",
              "      <td>145.95</td>\n",
              "      <td>-1.170833</td>\n",
              "      <td>6.880417</td>\n",
              "      <td>359.708333</td>\n",
              "      <td>0.665833</td>\n",
              "      <td>1014.275000</td>\n",
              "      <td>1</td>\n",
              "    </tr>\n",
              "    <tr>\n",
              "      <th>2012-01-04</th>\n",
              "      <td>132699.0</td>\n",
              "      <td>23.266667</td>\n",
              "      <td>0</td>\n",
              "      <td>145.95</td>\n",
              "      <td>2.570833</td>\n",
              "      <td>5.254167</td>\n",
              "      <td>382.250000</td>\n",
              "      <td>0.601667</td>\n",
              "      <td>1016.408333</td>\n",
              "      <td>1</td>\n",
              "    </tr>\n",
              "    <tr>\n",
              "      <th>2012-01-05</th>\n",
              "      <td>144844.0</td>\n",
              "      <td>27.508333</td>\n",
              "      <td>0</td>\n",
              "      <td>145.95</td>\n",
              "      <td>4.598750</td>\n",
              "      <td>-0.172083</td>\n",
              "      <td>377.291667</td>\n",
              "      <td>0.490000</td>\n",
              "      <td>1013.479167</td>\n",
              "      <td>1</td>\n",
              "    </tr>\n",
              "    <tr>\n",
              "      <th>...</th>\n",
              "      <td>...</td>\n",
              "      <td>...</td>\n",
              "      <td>...</td>\n",
              "      <td>...</td>\n",
              "      <td>...</td>\n",
              "      <td>...</td>\n",
              "      <td>...</td>\n",
              "      <td>...</td>\n",
              "      <td>...</td>\n",
              "      <td>...</td>\n",
              "    </tr>\n",
              "    <tr>\n",
              "      <th>2018-12-27</th>\n",
              "      <td>165301.0</td>\n",
              "      <td>27.533333</td>\n",
              "      <td>0</td>\n",
              "      <td>144.80</td>\n",
              "      <td>5.851250</td>\n",
              "      <td>-1.034583</td>\n",
              "      <td>157.166667</td>\n",
              "      <td>0.682917</td>\n",
              "      <td>1006.829167</td>\n",
              "      <td>1</td>\n",
              "    </tr>\n",
              "    <tr>\n",
              "      <th>2018-12-28</th>\n",
              "      <td>161804.0</td>\n",
              "      <td>26.729167</td>\n",
              "      <td>0</td>\n",
              "      <td>144.80</td>\n",
              "      <td>2.013333</td>\n",
              "      <td>8.611667</td>\n",
              "      <td>301.708333</td>\n",
              "      <td>0.684167</td>\n",
              "      <td>1008.508333</td>\n",
              "      <td>1</td>\n",
              "    </tr>\n",
              "    <tr>\n",
              "      <th>2018-12-29</th>\n",
              "      <td>139927.0</td>\n",
              "      <td>26.575000</td>\n",
              "      <td>0</td>\n",
              "      <td>144.80</td>\n",
              "      <td>3.351667</td>\n",
              "      <td>3.026250</td>\n",
              "      <td>263.333333</td>\n",
              "      <td>0.730000</td>\n",
              "      <td>1005.650000</td>\n",
              "      <td>0</td>\n",
              "    </tr>\n",
              "    <tr>\n",
              "      <th>2018-12-30</th>\n",
              "      <td>113297.0</td>\n",
              "      <td>23.633333</td>\n",
              "      <td>0</td>\n",
              "      <td>144.80</td>\n",
              "      <td>-3.687917</td>\n",
              "      <td>0.845417</td>\n",
              "      <td>313.083333</td>\n",
              "      <td>0.667500</td>\n",
              "      <td>1009.525000</td>\n",
              "      <td>0</td>\n",
              "    </tr>\n",
              "    <tr>\n",
              "      <th>2018-12-31</th>\n",
              "      <td>111274.0</td>\n",
              "      <td>23.658333</td>\n",
              "      <td>1</td>\n",
              "      <td>144.80</td>\n",
              "      <td>6.180000</td>\n",
              "      <td>3.565833</td>\n",
              "      <td>0.000000</td>\n",
              "      <td>0.542083</td>\n",
              "      <td>1012.808333</td>\n",
              "      <td>0</td>\n",
              "    </tr>\n",
              "  </tbody>\n",
              "</table>\n",
              "<p>2555 rows × 10 columns</p>\n",
              "</div>\n",
              "      <button class=\"colab-df-convert\" onclick=\"convertToInteractive('df-d41ac565-a324-4823-9ecd-e59f6e43b3ef')\"\n",
              "              title=\"Convert this dataframe to an interactive table.\"\n",
              "              style=\"display:none;\">\n",
              "        \n",
              "  <svg xmlns=\"http://www.w3.org/2000/svg\" height=\"24px\"viewBox=\"0 0 24 24\"\n",
              "       width=\"24px\">\n",
              "    <path d=\"M0 0h24v24H0V0z\" fill=\"none\"/>\n",
              "    <path d=\"M18.56 5.44l.94 2.06.94-2.06 2.06-.94-2.06-.94-.94-2.06-.94 2.06-2.06.94zm-11 1L8.5 8.5l.94-2.06 2.06-.94-2.06-.94L8.5 2.5l-.94 2.06-2.06.94zm10 10l.94 2.06.94-2.06 2.06-.94-2.06-.94-.94-2.06-.94 2.06-2.06.94z\"/><path d=\"M17.41 7.96l-1.37-1.37c-.4-.4-.92-.59-1.43-.59-.52 0-1.04.2-1.43.59L10.3 9.45l-7.72 7.72c-.78.78-.78 2.05 0 2.83L4 21.41c.39.39.9.59 1.41.59.51 0 1.02-.2 1.41-.59l7.78-7.78 2.81-2.81c.8-.78.8-2.07 0-2.86zM5.41 20L4 18.59l7.72-7.72 1.47 1.35L5.41 20z\"/>\n",
              "  </svg>\n",
              "      </button>\n",
              "      \n",
              "  <style>\n",
              "    .colab-df-container {\n",
              "      display:flex;\n",
              "      flex-wrap:wrap;\n",
              "      gap: 12px;\n",
              "    }\n",
              "\n",
              "    .colab-df-convert {\n",
              "      background-color: #E8F0FE;\n",
              "      border: none;\n",
              "      border-radius: 50%;\n",
              "      cursor: pointer;\n",
              "      display: none;\n",
              "      fill: #1967D2;\n",
              "      height: 32px;\n",
              "      padding: 0 0 0 0;\n",
              "      width: 32px;\n",
              "    }\n",
              "\n",
              "    .colab-df-convert:hover {\n",
              "      background-color: #E2EBFA;\n",
              "      box-shadow: 0px 1px 2px rgba(60, 64, 67, 0.3), 0px 1px 3px 1px rgba(60, 64, 67, 0.15);\n",
              "      fill: #174EA6;\n",
              "    }\n",
              "\n",
              "    [theme=dark] .colab-df-convert {\n",
              "      background-color: #3B4455;\n",
              "      fill: #D2E3FC;\n",
              "    }\n",
              "\n",
              "    [theme=dark] .colab-df-convert:hover {\n",
              "      background-color: #434B5C;\n",
              "      box-shadow: 0px 1px 3px 1px rgba(0, 0, 0, 0.15);\n",
              "      filter: drop-shadow(0px 1px 2px rgba(0, 0, 0, 0.3));\n",
              "      fill: #FFFFFF;\n",
              "    }\n",
              "  </style>\n",
              "\n",
              "      <script>\n",
              "        const buttonEl =\n",
              "          document.querySelector('#df-d41ac565-a324-4823-9ecd-e59f6e43b3ef button.colab-df-convert');\n",
              "        buttonEl.style.display =\n",
              "          google.colab.kernel.accessAllowed ? 'block' : 'none';\n",
              "\n",
              "        async function convertToInteractive(key) {\n",
              "          const element = document.querySelector('#df-d41ac565-a324-4823-9ecd-e59f6e43b3ef');\n",
              "          const dataTable =\n",
              "            await google.colab.kernel.invokeFunction('convertToInteractive',\n",
              "                                                     [key], {});\n",
              "          if (!dataTable) return;\n",
              "\n",
              "          const docLinkHtml = 'Like what you see? Visit the ' +\n",
              "            '<a target=\"_blank\" href=https://colab.research.google.com/notebooks/data_table.ipynb>data table notebook</a>'\n",
              "            + ' to learn more about interactive tables.';\n",
              "          element.innerHTML = '';\n",
              "          dataTable['output_type'] = 'display_data';\n",
              "          await google.colab.output.renderOutput(dataTable, element);\n",
              "          const docLink = document.createElement('div');\n",
              "          docLink.innerHTML = docLinkHtml;\n",
              "          element.appendChild(docLink);\n",
              "        }\n",
              "      </script>\n",
              "    </div>\n",
              "  </div>\n",
              "  "
            ]
          },
          "metadata": {},
          "execution_count": 22
        }
      ]
    },
    {
      "cell_type": "markdown",
      "source": [
        "# Ajuste de los modelos"
      ],
      "metadata": {
        "id": "j4Bjw71lS04D"
      }
    },
    {
      "cell_type": "markdown",
      "source": [
        "## ARIMA"
      ],
      "metadata": {
        "id": "209vhkxwggZW"
      }
    },
    {
      "cell_type": "markdown",
      "source": [
        "***OLD RESULTS:***\n",
        "\n",
        "![Screenshot_20230512_083904.png](data:image/png;base64,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)"
      ],
      "metadata": {
        "id": "KZgqI6XyzH1l"
      }
    },
    {
      "cell_type": "code",
      "source": [
        "from statsmodels.tsa.ar_model import AutoReg\n",
        "\n",
        "\n",
        "endog='DemGBA'\n",
        "\n",
        "print(f'Endogenous Variables         AIC           HQIC           BIC               lags                 Seasonal')\n",
        "\n",
        "lags=[1,2,3,4, 5]\n",
        "for seasonal in [ True]:\n",
        "  for exog_vars in [['l.Temp', 'l.Hum', 'Wrk'], ['l.Temp', 'l.Wrk'],['l.Temp', 'l.Hum'],['l.Hum', 'Wrk'],['l.Hum'], ['l.Temp'],['Wrk'], []]:\n",
        "    if len(exog_vars)>0:\n",
        "      res = AutoReg(endog=df['DemGBA'], lags = lags, exog=df[exog_vars],seasonal=seasonal, ).fit()\n",
        "    else:\n",
        "      res = AutoReg(endog=df['DemGBA'], lags = lags, seasonal=seasonal, ).fit()\n",
        "    print(f\"{','.join(exog_vars) if len(exog_vars)>0 else '[]':20}        \"\\\n",
        "          f\"{res.aic:10,.2f}    {res.hqic:10,.2f}    {res.bic:10,.2f}         \"\\\n",
        "          f\" {lags}      {seasonal}\")\n",
        "  print('---')"
      ],
      "metadata": {
        "colab": {
          "base_uri": "https://localhost:8080/"
        },
        "id": "XAMX8zFUhm0G",
        "outputId": "544dd8b2-59f2-4f21-b9e7-8eea0d73416a"
      },
      "execution_count": null,
      "outputs": [
        {
          "output_type": "stream",
          "name": "stdout",
          "text": [
            "Endogenous Variables         AIC           HQIC           BIC               lags                 Seasonal\n",
            "l.Temp,l.Hum,Wrk             53,455.20     53,489.11     53,548.71          [1, 2, 3, 4, 5]      True\n",
            "l.Temp,l.Wrk                 53,613.98     53,645.77     53,701.65          [1, 2, 3, 4, 5]      True\n",
            "l.Temp,l.Hum                 53,822.23     53,854.02     53,909.89          [1, 2, 3, 4, 5]      True\n",
            "l.Hum,Wrk                    53,468.16     53,499.95     53,555.82          [1, 2, 3, 4, 5]      True\n",
            "l.Hum                        53,835.55     53,865.23     53,917.37          [1, 2, 3, 4, 5]      True\n",
            "l.Temp                       53,821.70     53,851.37     53,903.52          [1, 2, 3, 4, 5]      True\n",
            "Wrk                          53,466.62     53,496.30     53,548.44          [1, 2, 3, 4, 5]      True\n",
            "[]                           53,833.55     53,861.11     53,909.53          [1, 2, 3, 4, 5]      True\n",
            "---\n"
          ]
        }
      ]
    },
    {
      "cell_type": "markdown",
      "source": [
        "## LINEAR REGRESSION"
      ],
      "metadata": {
        "id": "6NbEUoTBgiXU"
      }
    },
    {
      "cell_type": "code",
      "source": [
        "from statsmodels.regression.linear_model import OLS\n",
        "from statsmodels.tools import add_constant\n",
        "\n",
        "\n",
        "\n",
        "import statsmodels.api as sm\n",
        "import numpy as np\n",
        "from sklearn.linear_model import LinearRegression\n",
        "from sklearn.metrics import mean_squared_error\n",
        "\n",
        "rng = np.random.default_rng(seed=64429)\n",
        "data= {'Endogenous Variables':[], 'AIC':[], }\n",
        "repetitions=20\n",
        "\n",
        "\n",
        "for vars in [['l.Temp', 'l.Hum', 'Wrk'], ['l.Temp', 'Wrk'],['l.Temp', 'l.Hum'],['l.Hum', 'Wrk'],['l.Hum'], ['l.Temp'],['Wrk'],]:\n",
        "  X = df[vars]\n",
        "  y = df[['DemGBA']]\n",
        "\n",
        "  regr = OLS(y, add_constant(X)).fit()\n",
        "\n",
        "  data['AIC'].append(regr.aic)\n",
        "  data['Endogenous Variables'].append(list(vars))\n",
        "pd.DataFrame(data)\n",
        "# print('Endogenous Variables'+' '*26+'MSE')\n",
        "# for vars, auxdf in pd.DataFrame(data).groupby(by='Endogenous Variables'):\n",
        "#   print(f\"{str(list(vars)):29} {np.average(auxdf['MSE']):,}\")"
      ],
      "metadata": {
        "colab": {
          "base_uri": "https://localhost:8080/",
          "height": 269
        },
        "id": "KzqXNiKDgkxT",
        "outputId": "8265a23f-437e-49e3-af38-803fd4b17702"
      },
      "execution_count": null,
      "outputs": [
        {
          "output_type": "execute_result",
          "data": {
            "text/plain": [
              "   Endogenous Variables           AIC\n",
              "0  [l.Temp, l.Hum, Wrk]  57399.508559\n",
              "1         [l.Temp, Wrk]  57397.645885\n",
              "2       [l.Temp, l.Hum]  58065.967190\n",
              "3          [l.Hum, Wrk]  57461.956817\n",
              "4               [l.Hum]  58115.143857\n",
              "5              [l.Temp]  58064.240451\n",
              "6                 [Wrk]  57464.810037"
            ],
            "text/html": [
              "\n",
              "  <div id=\"df-cb714ac5-c5d2-48f0-86d3-4e2abb2ea7d5\">\n",
              "    <div class=\"colab-df-container\">\n",
              "      <div>\n",
              "<style scoped>\n",
              "    .dataframe tbody tr th:only-of-type {\n",
              "        vertical-align: middle;\n",
              "    }\n",
              "\n",
              "    .dataframe tbody tr th {\n",
              "        vertical-align: top;\n",
              "    }\n",
              "\n",
              "    .dataframe thead th {\n",
              "        text-align: right;\n",
              "    }\n",
              "</style>\n",
              "<table border=\"1\" class=\"dataframe\">\n",
              "  <thead>\n",
              "    <tr style=\"text-align: right;\">\n",
              "      <th></th>\n",
              "      <th>Endogenous Variables</th>\n",
              "      <th>AIC</th>\n",
              "    </tr>\n",
              "  </thead>\n",
              "  <tbody>\n",
              "    <tr>\n",
              "      <th>0</th>\n",
              "      <td>[l.Temp, l.Hum, Wrk]</td>\n",
              "      <td>57399.508559</td>\n",
              "    </tr>\n",
              "    <tr>\n",
              "      <th>1</th>\n",
              "      <td>[l.Temp, Wrk]</td>\n",
              "      <td>57397.645885</td>\n",
              "    </tr>\n",
              "    <tr>\n",
              "      <th>2</th>\n",
              "      <td>[l.Temp, l.Hum]</td>\n",
              "      <td>58065.967190</td>\n",
              "    </tr>\n",
              "    <tr>\n",
              "      <th>3</th>\n",
              "      <td>[l.Hum, Wrk]</td>\n",
              "      <td>57461.956817</td>\n",
              "    </tr>\n",
              "    <tr>\n",
              "      <th>4</th>\n",
              "      <td>[l.Hum]</td>\n",
              "      <td>58115.143857</td>\n",
              "    </tr>\n",
              "    <tr>\n",
              "      <th>5</th>\n",
              "      <td>[l.Temp]</td>\n",
              "      <td>58064.240451</td>\n",
              "    </tr>\n",
              "    <tr>\n",
              "      <th>6</th>\n",
              "      <td>[Wrk]</td>\n",
              "      <td>57464.810037</td>\n",
              "    </tr>\n",
              "  </tbody>\n",
              "</table>\n",
              "</div>\n",
              "      <button class=\"colab-df-convert\" onclick=\"convertToInteractive('df-cb714ac5-c5d2-48f0-86d3-4e2abb2ea7d5')\"\n",
              "              title=\"Convert this dataframe to an interactive table.\"\n",
              "              style=\"display:none;\">\n",
              "        \n",
              "  <svg xmlns=\"http://www.w3.org/2000/svg\" height=\"24px\"viewBox=\"0 0 24 24\"\n",
              "       width=\"24px\">\n",
              "    <path d=\"M0 0h24v24H0V0z\" fill=\"none\"/>\n",
              "    <path d=\"M18.56 5.44l.94 2.06.94-2.06 2.06-.94-2.06-.94-.94-2.06-.94 2.06-2.06.94zm-11 1L8.5 8.5l.94-2.06 2.06-.94-2.06-.94L8.5 2.5l-.94 2.06-2.06.94zm10 10l.94 2.06.94-2.06 2.06-.94-2.06-.94-.94-2.06-.94 2.06-2.06.94z\"/><path d=\"M17.41 7.96l-1.37-1.37c-.4-.4-.92-.59-1.43-.59-.52 0-1.04.2-1.43.59L10.3 9.45l-7.72 7.72c-.78.78-.78 2.05 0 2.83L4 21.41c.39.39.9.59 1.41.59.51 0 1.02-.2 1.41-.59l7.78-7.78 2.81-2.81c.8-.78.8-2.07 0-2.86zM5.41 20L4 18.59l7.72-7.72 1.47 1.35L5.41 20z\"/>\n",
              "  </svg>\n",
              "      </button>\n",
              "      \n",
              "  <style>\n",
              "    .colab-df-container {\n",
              "      display:flex;\n",
              "      flex-wrap:wrap;\n",
              "      gap: 12px;\n",
              "    }\n",
              "\n",
              "    .colab-df-convert {\n",
              "      background-color: #E8F0FE;\n",
              "      border: none;\n",
              "      border-radius: 50%;\n",
              "      cursor: pointer;\n",
              "      display: none;\n",
              "      fill: #1967D2;\n",
              "      height: 32px;\n",
              "      padding: 0 0 0 0;\n",
              "      width: 32px;\n",
              "    }\n",
              "\n",
              "    .colab-df-convert:hover {\n",
              "      background-color: #E2EBFA;\n",
              "      box-shadow: 0px 1px 2px rgba(60, 64, 67, 0.3), 0px 1px 3px 1px rgba(60, 64, 67, 0.15);\n",
              "      fill: #174EA6;\n",
              "    }\n",
              "\n",
              "    [theme=dark] .colab-df-convert {\n",
              "      background-color: #3B4455;\n",
              "      fill: #D2E3FC;\n",
              "    }\n",
              "\n",
              "    [theme=dark] .colab-df-convert:hover {\n",
              "      background-color: #434B5C;\n",
              "      box-shadow: 0px 1px 3px 1px rgba(0, 0, 0, 0.15);\n",
              "      filter: drop-shadow(0px 1px 2px rgba(0, 0, 0, 0.3));\n",
              "      fill: #FFFFFF;\n",
              "    }\n",
              "  </style>\n",
              "\n",
              "      <script>\n",
              "        const buttonEl =\n",
              "          document.querySelector('#df-cb714ac5-c5d2-48f0-86d3-4e2abb2ea7d5 button.colab-df-convert');\n",
              "        buttonEl.style.display =\n",
              "          google.colab.kernel.accessAllowed ? 'block' : 'none';\n",
              "\n",
              "        async function convertToInteractive(key) {\n",
              "          const element = document.querySelector('#df-cb714ac5-c5d2-48f0-86d3-4e2abb2ea7d5');\n",
              "          const dataTable =\n",
              "            await google.colab.kernel.invokeFunction('convertToInteractive',\n",
              "                                                     [key], {});\n",
              "          if (!dataTable) return;\n",
              "\n",
              "          const docLinkHtml = 'Like what you see? Visit the ' +\n",
              "            '<a target=\"_blank\" href=https://colab.research.google.com/notebooks/data_table.ipynb>data table notebook</a>'\n",
              "            + ' to learn more about interactive tables.';\n",
              "          element.innerHTML = '';\n",
              "          dataTable['output_type'] = 'display_data';\n",
              "          await google.colab.output.renderOutput(dataTable, element);\n",
              "          const docLink = document.createElement('div');\n",
              "          docLink.innerHTML = docLinkHtml;\n",
              "          element.appendChild(docLink);\n",
              "        }\n",
              "      </script>\n",
              "    </div>\n",
              "  </div>\n",
              "  "
            ]
          },
          "metadata": {},
          "execution_count": 72
        }
      ]
    },
    {
      "cell_type": "markdown",
      "source": [
        "# Forecasting"
      ],
      "metadata": {
        "id": "KbxIPAWQTGMT"
      }
    },
    {
      "cell_type": "markdown",
      "source": [
        "**OLD RESULTS**\n",
        "\n",
        "![Screenshot_20230512_085401.png](data:image/png;base64,iVBORw0KGgoAAAANSUhEUgAAA+QAAAC4CAIAAADlm7FXAAAACXBIWXMAAA7EAAAOxAGVKw4bAAAgAElEQVR4XuzdeTwU7x8A8I9z5cwRorAjLNa17i4q0UGlQ0mnUrqUDqVCJ6VLRZRvhxI6VZR06hDdF3J0uSJnrnWs3fn9sYu1dlG/b99Uz/uPXjvP88y0a57nmc8888wMH47jgCAIgiAIgiBIz8PPmYAgCIIgCIIgSM+AgnUEQRAEQRAE6aFQsI4gCIIgCIIgPRQK1hEEQRAEQRCkh0LBOoIgCIIgCIL0UChYRxAEQRAEQZAeSpAzgYfqusb8ktq8kurC0joAUO4jpiIvqaooId5LmLMogiAIgiAIgiD/hq5H1mvrm648/HDmbvaj9C8FpbU44DjgBaW1j9K/RN/OuvLwQ219E+c6/6HqM3OwIf5vOZMRBEEQ5Be5t45M8rzDmdo1dERDkO/0zM8MY5p3nsqZ+afoIlj/VFQVfTvr6zeev//rN2r07axPxdWcGd2W4KHB+jO3mHG6krMQgiDfK3mjAbNFDdAxHjxqjl9MGrOZfgi2wzBsWOA7ZjFa0mojDMOcT1cCAL3oYejyycPMyNpk4yEOs9ecfMVq+6idIt3zzM8Mw9QnHS9iLtacdyVhGOaRAAAAtZnnt8wdNchIR8fAwmbK4h2JhcxSzDrJzszvGWuDPU5JxDTMfNPz9okfgsdiNnuyW5cVTSY4mvVlK4D84RovzcOwhZcaOdN/R7zaaQ9lsvnJx48fL8xV5Mz4k3Q2DeZTUdWt53mtiwL8/P36SMlI9AKAipr63K9th+pbz3JtjFWIfaVaU76P4ZIz20aLtSyJ95Vkz0QQ5EdpL4o+MFGmqepzSvh2n9ll4rdC7KUBABSVaNfi3npp60Hj/fgHYkrSVQAAjMxQ13nHZdw2BW/REqcWZabGZRU2gqEoa2OonSLdo9T3a1x8/ly3/vAtMe6dnJLIFwAA+JawfuaGzME+20+Y9uWr+PT69s38cgBl1krS4wJPLdBp2YSQjFrLx55GXl1dvKygoBGMCW2JhYWF/Bim2rqsNXlbQFsugvw+Om+nyK/Bc2S9tr6JPVIHgP59pPrKSBCEBAlCgn1lJNQUpNlzbz3P+/H5MKKKWjptVKQFAACy99tgU3ZGb3cZYaKnZzbWIzKrgVWc9uHS+imDySRdS8d1cbnNbBtqzLng42xNIWnpmIycE5CYT2/JaP4ct3HKIDJJd6Dj+qjds9iuM9I/xm2eaWuuR9I2sLB1Xn85v2UVBPn9EWRV1dU1tCkjXddPJ1fevfWCwUxXHGOvcPXKCxwak648MLUfwYzHc+8kZqnN2rLawUxHU8fEauLS3d5j2Zo513aKIB3o2ttXxcXnAZQnXMmxsTdjHmcYz67frLLz3DXD2kBLS99y1MyNe+brt60kIKvGVr00FFvOEXseDMPwgoJCgKJjjhg2Ync6QG1hYbUyhhEAINXPmHlxoP00mNKTzpiNT8QBNzsLfT1jm/khz2tasr7viJYbNhabEvGVrRQA5OwfqT7r3I9f4UZ+opJ7+5dOtbU01NbSNbFx2Xg+s3WqAl58d+cMawOStsmY5aeDl5DIa1qqTOXTsGWOQ4x1SWRjq3GuYU/rW1b5+Tptp7TcxIB5o83J2mSLkTP8Lr5v+V68fyPPEAsvSzmwyN6CrEXSHzTR89jrlvbAu6XUPTu6ymX0IIquljbFasrqoy++tWzrL8AzWL/znDNqlevdrvOUlujFvgjcVvm/vYq9q7op7smrm5uwJ5u3XmD2Tx/Dlq++KT7zSFxcuKtI9MnHraXpb/a7rb3de05I3PXYXQ60c0uXHP3MzMn9x2NlAsE55ErcPwtEz5xMaV0FiqPWrbwuOSf0atKdK//4TFAVorXlIcifgU4tfn7xTg4IEQgtLV5x7Li+CXEvqXevpJg6DGcNl4tLSfIXvUj+yHPaG4J0C8nBoTEu/lP5tbj3dg4WrLM6fikp8eZ3KY8rWgdRflN9MaxXYUEB0NPSciQlS9PSaqGwsBAwjAgAYLH5+cePH487cTnZyL2cyL/kbPKr+8GDP+5dH5HDTP3OI5oqhSKb/uZtuz9i3Zu3nwZQjNC1rh6ppoyqOtH70NnE2/Hhy1SfrXfd+Yy598ovrFtyqs5258WrUV5YwvEbrdEH/mjv4v35plujbiZdj9m7yEKKzhpl+S900k4bn26buSpFecGhKzeuhq/Wees3x/8RcxCV52/kGWJVXljrduSLhW9MwtUTnupvdszffLvtwMO9pTSUVfcetSLo9LXbiSd9KJ/3zfVN+HuOVdyD9eq6xk7mqfPy9Rv1BwfXH/kYts1VHBLYdnNNn3GLZmiI8gsojpkwWPjNm3cAAG/OncnQdPVbOFADIztsWDlavLX0w6jTheZLts+x1CBqDfPYMls9LTL6FQBA2pmotAHzti610sR0Rq/zHM3WpRUXFND7mdlQVBT7qpKHTF04BmvLQ5Df3Sv/IRoaAzTJA6fsf9ZryJr5A1tz+oxxUEuMCbj81NLBuuW8u8/k9etNP263NR86cZ5X4Mlb2d/w1vLQSTtFEA4DHBz44o4GxeXaOZjytSSaLg6YLXJllqW5ncuyTaEXnxa1O1yUHXdqq17YvPM9d/IvH4ap1RUUVL5PT+8/ebJ+Wlo6XlDwRQ7DugqWCSPmLzKUEuCXtpw4om/Om7R6gB84oulTjJrfvMkGoL88vnLDuRwAePvmrbiRkXrrmkhPoj7Je83UYUaaKv2IRuPXzDQufvAgBwCgMDb6fu8pPutG6WCa1su9nZRbu9v6goJySd2hg7WUFPtpGI9e4GzROv3wP8CznZZfOBAlNDtws6Mx1l9Vz87ba2L9hfMpOADv38gzxCqKjbor7rTRewwZU6dM3rx6VP3lyIRa1n/EvaWA7ChPn5l2ptqq/VTINl7zhlMfPHjdssYfj/uc9byvrRfo2pR9oyrKSLQuln6rY8tk+VxUTcbkOFO71G4urJBcW7yspKTE+iQmJlb7tYoOwMj9XCSsqanGTBYikdQhlfm5Mje3po+OlgxrDXUSSfhLbi4NDOHT50ICiURkpguStDB4xCoE5HGzKGe3jbK9NcTCyNDcbvxoXRnuJzAI8hsiLYgIGi9ZmX5m/3nJZUEzNNgqt/SYcVqb1yU7HAkiQEuPR9B1PZrk+P7Jg4cpj+9HrhobYhlwPmxyf1Yuz3aKIJzUxzkIDAssmnveiK8muiVR0cbvSsrCN8n3HqWm3No9I+SfeccveJmyzhXbz1mXUOrBTwXuh2FCFws/pGWVGMycKHtnfdprjcJGognrEMObvJIS6yqDmLgYfPtWBdCL9v1HNGOK9qfHb+ug8eqp67Hi6gunSLx9W2Y0zbD1rAjpUZrzbuwNOHT12YeiirpmHADkdakAAJ8/fwZNJxKrU9bS0mrdgaLDp00+uHyB1bvBg00MTaztHQaqiLTk/Qd4tdPszEz6p+Qx6qFsZY3zywD68PyNPEOs3NxcGDBVi9UeRLW1Vehnc/MBtAGAe0sBwIuTw3YEnUvN/lJa04QDgKADlzD0D8U9WM8v4TL37fPXSmiZ/VL6ra6grIqzBEB+ac2PBOuiilo6OtwGJfj42SNnnHneyQeCQq3fW1Cw9SOO4wB8XPsrnhkgqOt+5v6oZw8epKbcPrn2UPj9ozd2WrUNbSDIb01EDtPUUgQt3c35Y6Z6a94IG9/WPKVHr9xd90XbigCZbGuAgPQAy3EDLMfNWT5j79ixQSffTN7AmrDIs50iSAcqk3wDRBssjPjgPnsyXy9FA5upBjZTFy2zWTRkeejVRaaTmWNAzDnr7GV7LAF1dbUvn26mZegYGGjJ6OclJOYWSmKYLGc5TvzcDmjff0RToVCkw9+8/Via2n/+3JrkB18HvHmnbmT0ow94QH6u96HuSy+r+QZfGk/uKyFUe2aG4R6cAcDcwdz2LwDI2QXeuj/r0f2U1AdXd84OOet95Zzrf3rhhGc7tdqRxmWKF8/fyDPEYv547r+eR0spPrPKLVxgSciZcEr/3gS+G55aS/7L6UG/GPdR5MIy7nNgPn+tfPn+y8v3X7hG6gDAfGXSTyWkpqZEzcsvZy7hubl5LTkyqqripe8yK1iLHzIzm/qqqAgBCBGJyo3v3n1ipjdnZX9sWQUAAAQk1MzHzFy+9cTFDebFt+6ktctEkD8Bn8Ycd7MHgQeest+TIaE3bq6dhhBbSjsC/fsrQW1t65VJBPkefcycZg1V4XU0BpDqryyB19b89EPGz6CGYc2vE+8SDAx7CxgaDHh5/U4Jhv3YpaYfOKKBPoVS8+bumUe9rKY5DKlKPv7krbARZUDLekiPQn39IlNurNsMI2UJIX6g5+S0xh9EIhGy3mWy4s3s7Ox2sw4J8uRhk9289184NEPq+c3kX/agXLZ2qqGlJfD2yZOON7vy/o0APEIsNTVVyMnMZM2Lp757l8evqtKPba2O3r14gVvNWWyp2pvAD/ApJ4f9XmwAMVFRaGhseQ7JH4d7sP5foxZnZbR5X9Lpn1vPyZn8MjI09RsDmj6fDb1c3JozxHm6cmrIhhMpOZ+z7h7wjXivPX2qIQAAedp08vtjm0KTP+Tl3NwVnMh2eHgV6RcWl/our7j4Y8q5m5kEbZ0f63ERpGeTGjNrHO1M0BnW46+5Kjvj6bQ2NDbpaXr2u+eJhz0P3Jexsia3Zn9XO0UQTk8Cpy3YGXn90eus7LSH5/z8Ykq1rAe1PhuZXv6ZrXpl5Fe1C116FgJGVMrLKzUw0ARQMDBoys0VwTAFzlLd8wNHNBGKkXZmVFTVkCFKpKGWWafPFhhRDHifFiH/mZovmWx1OKuoDkAUwxTLXj7KagBgfHtxcNf50pbCyo7OQ7+d277rZnbex+SQXReKWuOx0oSgHVF3X70vLC5IS7ycUqaoo927Je/n49lO5SYtm9br8oYlITdff8z7mJYce9BzXXQBdPYbeYZYfSdMt649uy0gIe3Th5fn/XZfJ9g7j26bZ82NGobR3j56UQOA12VGbjuV1b7Kq+jrS72Oi3qRX1JaWtXQg3uPH8N9GoyynGhBWbsBjz5SYjLiotKSbU+Aqayur6ihlla3K6Ys1+HySHe8CplqH9K6pOJ+OclLjy2bg5rb/t2FXquHmTJkVS2nOpolJbIyBAxXHN5R4xuy2MG/Qay/ieP+EDd15t5UmX9gb/7qgIVjgsW1x3u4mD5PEGZNiBTrRU0+vCb8c2m9kNwAi1lh253kWVtDkD+K0MDZzmpjDh16bMIzqBDXH0y+FxPifeRLZVMvORV9G/+IVXZt816+r50iCAdViyG9/4nxP7ezpI5Pqq+mhXu410LN1tzKK172V9oKD9v77ugEtgeZ9ywYhgEoGhgIAICugYEgFBCJfAAAxeETBwa8YpWaj10GALLX3Svuqq2rdvADRzRlY2O5ulKLoRoA9CEUgWOCRkadxznIfyN1t6P97tYlUafjaTusjDyC16zznTs0EggSmN0S18FPIln5spN2hHxYvXn1uBOCxJGrZg5/dIwVmAhL8H0+ut19R+E3XKKf/sgt/6xqu0375+PdTkXMfSKDxf2D/WYeKGeIK2IGgyYv7Q0AwPs38gyxZCbvOFzo679p2slKPjntYauObLLr4i5a4pzd2z5sWGFjSRfqpTxo8Tz7J4HsD6wRsVkTOHnFlrkj9tY0Dwx4FTn1z5qyyYe3zJtjl/axLCWDNQInRhDW7C9HaJtT104jrTk7v6yukXW3sKVO3x+Zs/7fygqyG/1izpuTzmhqOoIgCIIgv1pFxDST80Nvxy3u8j5l5G/EfRqMikLbWXonkToAEIQENfu3RedqPfWlhvlJpy89+VBWW1vy9kzQ2cLh40eiSB1BEARBkF+kMuVczMOs4uraiuxru06+0h8/FkXqCHfco3BJMYJCb1Hmo9ZrqI0EKe7FmGqorOfhKvQWFe/VQx+3xSh7dvTA3g1fG0T6agyedWy7Y08f/kcQBEEQ5A9WnXZmR+C2olqhPuomjqGH5nYyWwr5u3GfBgMAtfVN0bezmJ/VFKTZn7DOrriihvlIRwBwHqHVY4N1BEEQBEEQBPnt8AzWAeBTUdWt56zHSEmKivSVkWA+ZJ2psqa+qKKmmsp6IoSNsQqxL3rOK4IgCIIgCIL8azoL1qF9vM7EnL/eSGv3gEsUqSMIgiAIgiDIv66LYB0Aauub7jzPZ85f70iht+hw4/5o9guCIAiCIAiC/Ou6DtaZauubPhdV55dUM19uqiwn2l9eUq2vJArTf5IbnqQl9H05B0ZzZiAIgiAIgiB/De6PbuxIvJcwGZMbbYHNtyfPtyePtsDImNz/H6nHLca4mXis7SVuP1Vu8FjMzC+1dfmGJwlzPvmvvtc3ZYMxNjOq/SYZNzy0BiyOYz2cHvlzfUs+tNLVcRhFC8OsAzPYMvCSlBAPRytjMolsPnrBrqRi1iunearPuhiwZPIIC31tsonV+CVBtwtaZqIVJ4etmz12sLGujoGl7YyN0W+r2taiZkSumTRYj6RtZD3d70pu+7czc1F52rldS3Q+zdkYGp5tsxmAYTM6ZPyV0k8tcxkzxJhM0jUePHa+f9wHtpe6NuUm7nAba6lHIumZ27kEv2h5fce316e8pg43I5N0TGxmbY77TGtbpQtF5+YYYJiZ3zPW8rcXkZvmj7c2JWvrmQ1zWnXkcWnryAs1O3bzTLuBBtraFOsp66LSuV8YZdf4+qTXgim2ZtrqmMG6e2wZvH8jLf9G4IKxg410SPqDx3kcedaNKpETu3HR9NGW5AEYtvAS6zFiAAC5V9bPGWdtqkfSNhxoN8Mn+m1NWx7SwZ01pHbtFMMwp1NtL41Euo1nteeps/6WO2pq6CInu4FGOiSyiZXj0qCkAvZX+XSKnnPIURvD7II/cOb8PL86KkO46+yZjP8Bq/Xx8UsBAIrOe7pdHBAQtUQPAEBU8c95sqK6OgaPCgoBpNvSSgoLaf0ssf/3VAfp8ZpqG8T1HDysiEGbX7CnF0etdDtUM21vRJA2Ie+a/+qF7hKJl9zV2ItwqEhNfCFmtXDzSnU52vtLu7e6z64/k+hNEQTIvJNQrjlp7Ryysmh56pFtG2cWCl8/PkkRAKh3N831e2jkEx5r2nQnYMXK+WKq170MBDg3zaHf9ENh01WYn8U4XpxQlxKw/pUcWehju9S/F0NY2Xr++MWqcr0a8++FbFkxq1Hu3mZLQQCovus9bekjTbdV+/3UpZqKMqpFmGtU3/B13fJuxI6wHaZSJclBa1e6Civf9KZ0tVMA8PyTq8MaSKrwqTWp4EHCe6UxHtMM1HrXpZ3y3zbXjRF3yV0doPHpnnmrE8m+ey4M61vz6qi315xNfZMCh3X6fkB6HVVogK2bnXbEmsvtMnj+xuzDi5bESC7fGz2OyHh3xm/NnJWySccndd51U+sYKkNmjTO6vCS0XXozn7z5DO95agoSePHjE9t9Zlf1vnNg9H/4hvXfi5nnpfi5Lef3ePrhOd5fRo3s064I0i08qz1PvPtbXnBcVH3sEifNftKEmvdXgrYsmMcXl7hci7NYR83pwavjCWQZqObM+Zn+gqjs94T3DJ9DHYiUDSntE5s+X/d3HWWmS9I1t3HxvZBDxXEczwqy1Zyy2GM4xdjW42jk9okWBiYTdz6uxXEczz/iSLTzDt00eQjFQM9srEfE27r2G+zg88ExRFPftv82cYUWcVpEBY7jWUEjiJMjSljpKb6mxAWxzTiOp/hSTGZ4uA42MnPwO3lizRgTA8sZ4elNrVvo6O4aPU2PBAaO3/XSJw5wu1KP48+3mhPnXmB+uaS1ugOWnX12ePFYc11NkuGQJbHFOI7jiSu0Biy7huM4jlc93jlOf/CyuILmto0iv5WsIFui1c701mXqxbmY1vLrLTs0N8yeaLW7LbtLjBRfs3YbbFUROY2oviCWiuM4XhPrqqHpdrGKmVPwzySi4Zr7nVeiishpxBFBWZzJLFVJa6zHh2XfWKFFdIms4Mz9670KGEocuTcbx3Eczw0bj1ltf93hr82466VLnB79jbVYfXYuZrT2Ib1dGW7o78MnW628+SbUgWjq+5QzF8dxvOnaMk2i49EiHMfx1zusiKMPfGLlNN9cSdZcENtVZ8hUETGNqL82iTO5Bdtv/HJ4AtFi85PWnK2DiJOPfmkr2plri4jEBbENnMkshWHjicYbH3EmI1w1PVxrojn3LGqP/48uqj1P7P1tN91do0N0OlXGmdxRw8uddrZbnz/abkm0PfieM/c/wDUqwxtiXYmmm+KTds21pWhralOG+d6pw3H8yiIiZcNDVpmKyGltRzR60f0Dix0Gkkk6xtaT10S8Zh2QkO/U3Wkwv0Dj020zV6UoLzh05cbV8NU6b/3m+D9iXoClfZWacPTIZIG4bZGwLubgqIrw47frWWtlX7olvfHa0xfJh20+BbjvfdHlhf/vV17Zf8mpHcMqT267pr7zzGbTzJDItok0HWEYkVZQ8BXy0tP5JMXS3r6DpsLCUkUME20pgafs35k9bPul1JePLmxzUBFiX7vm6e5ZbnGq22P22St3PfqG/B6aaTRcQFi4pfURCATIS8+obVemM4zq6jo+WRm2izUtqmuqQUxGRhgA4N2bN80DKBTW2LiykZFC1Zs3ueyluSo4OdOYrG82wnHJ/qRCtvZTmeizMXtK4HwNVA87wGmVOQkxd75Ik8nKAADU1NS3fQepvvGaONTEzNp+zpbYHGYPhdNozSAs1NLGhQkEvm8Z6YUt2+GhOSvMM0Jpo49NJy+IplZXNwvJyIoDANBoTSDU+p8IEAhCtPT092yFfwTnb6TRaGz/CRAIwpCRwT7V64c01+bdj7ye00tPT50zC+Gm9vrp+IaRU8dy6QyQn469v+0ao7EsPeZ8ckM/Pd0uLxpRn+1YnTh4+yoK65Jcj0KN3xXaMGV/4tOXD06vs+rTWRhJzz40b+El4amBFxMTIv2GFx2Y7R3fjflySAed/ZV/rfILB6KEZgdudjTG+qvq2Xl7Tay/cD4FBwDg07W0UjO21JfoTRlqqjrYTJtRUNAynarXcLeFBuL8/BKGC+dbl8dE3+/y/tmyU9Nbp2W5X+7GPHJpw8EUNSsLHehnak3GBhoPqCoo6CTOUsYw4YKCQlpaWu7gyQ6Qllb2paAQx4htrxVm8A1b4T/ZQFFcVBobakeRac2oebpn1vzLKihS/9NIGJtrN906eSKzms5oyE8MinkrABXlFZzFeGh+f+xwouiERZP7cuZU3Qk+9VFvoesgAQCAivJKkJGRyTvhbGyx9EqFrKwMlJeXc67TjvAAey//PcHHTx/Z6qz2/si8GYEvWBOLS+PWb/rkFLhQE1VEDq92WmtoaBnbeT7W9j8bMFIUAKDk61e8Ki7kkuzcoIijmyaKXF81OyClAQD4DcxNRFJjDj+vaMZpX1P3nXzAB+UVne/5prQgz0hs4yabTg7w9S9DjqWozlw4ShwAgGRmLpURG36vqAmnV74ND0+sgYou/pPOcfuNyubmSgVXj8d9pjLodTnngy/nC9RXVLSMmvyAwsMTNQZo6VvPi5X2jDroJM+Zj3BRGht9q5e904jWoR/kv9O+v+1c0lqyhoa2mcO2T8NDo72Nulij7sH21feG+q8yaXuzTU9ClR7nt2E0SU5MVJZkO5zcyfkE7WZI6NcJm3a7DNJQUSFZL/KZKZ9w4WbXt9AgHfziOeudyM7MpH9KHqPOPrXROL8MlAGECAR+AAKBICIoAsBHIAg1NLTc9KSopkZgfuqlpqZAffa5DKDzuXzS9gGn3PWYn1N3O27r8mhDIBCY/4iIiDA/NDQ0AIhzlmMRwDDVsjeFb9PSNQy8TOmTHqYVCBfKEDG259LrGhpyOTVn3N06v6GhUXuYhkIXLRv53ajP37Mtx9Pf3sifj19Me/qcsUrZn/m7deaMl95e73aQNu/EVs7YrSHjyKJVD/UDL7izxr5xAGimNYvJ9u/bV0xckNb+5QhciZm7uDM/6RuYaze+tw6OSFpHseP/enHtlrzppw6iUL0jkuvxqw5VJdn3jgT6rztGilqkJwQMBgPq+kzcvt5BCwB0/RfeMNkVm7LFchjIT9m+K22F3zSTQyBAULF3d9R+kdTpnm96uXflefWNCXa8h07peedXLDovt/bMWlNm5ydmu36fm+f6BYMiGQJC8kM8HC0exvDzcaz1Pbj9RgGT5Qe88lavG6G3kl+wN2XhFBuRsCa+zn5KFxScgq5afav4mHpq10GvA7rn1lt2ciEBAQCAj2ejUuUneg3uuQfyP1aH/rZzpp6x8bNqitKvhgT6+OhoHnVW490gq5M2r00eGnTNvGeG6gAihkbavL8+u9zMzPqKnNkaMWxpWH4BgCZbAtIdPbuNW+1IO+7EMWSQ3X6RCW99ACWd3hqRNNO69ZwFAWlVHR0d5ucCKT5gBut8wF4XcUanD+to+++5UVPH+K+lJzbRDJYQ9ZsVw54kK1RiQ9sG1kFAQoLbuAgubbP7yKj42UtXBFldXm3AJZxHflsipKn7E5x2VZVU8kkrEG4vPsuvoNCN+3fK7/u6eL6xDoleRWlfZZqyIxbOChdeE73fQaklXpKVlYbMygpZl8B4BwB4llwJsrKy7Gt1ik9FV1us8VNhGYB8esqjiuzkCeQQAABGcxPAJkvStfUPT8/qxpf+w4n0IWr2AU0dQ2OBLMNVh264ho4lSMvIAIi2Xj2TUVERpRYX1wKIA7/q2K2xY/1qSsqaJeWlXm02BwX5zgaRSx4/el+WudKStBIAcDoN6O9cSAnOx59ssgQAAHrh5RXTt5dPjzjpqtE2g66PtVfko1XUstJ60T6yBcF2u+T1FVozvx+33wggSXEPv7OgobKkRkiuDy3KOViKqMAaKvkRgtIqmtIqQNI3lcqzmBV00c1yTufjLH89xouoM1maU4IN/49TJORHcOtvOyemqKGlCFq6FN2GN0XBKfIAACAASURBVOaBR1OdtzLbLzcfHqUUF5bMopwFAMDpTcDYP4Z0bfGla8tJnEV/DXEJCc4kPvaAiYGzB0x6XkmX3VmPLEB+WM8N1jW0tASuPXlS72T9XWeXXzIzq0BXCgAqM7NKRFVV2YIJel15aQ1dVFZest20cK4kJCWBSmVdrakv/PKtu38qvL7ya1WjSG/F3i3XhgQxrH/B1cQKA08yqDUblG64XitqPqezu8eZBAxtR5LszHY4jlqwcvew+PXG3/WHQHo+PmEpBQWAyosXk2iGXmZsFxM71iIAqHy4yWXpY7P90b5D2o+y0nJOu7scpC87fXT6ALZzOm09PcFTz59/A/XeAJD37GmZpL6eals+o67sS2WjmKyyNPealf8us05EvZ8cAFisSbjh3tL/pu4Y41O5OHrnFIz3YO/fCMdxnF5fTwMgSOvq9IX7ebkAGgAA3woLqaJKCmwX3wQl5BUBGpMuXitXc7Jgi6NpNaXldXwSfeTEWMN1itNCb45suXD4JWbx7Is6u84uH6gEAACMovhV0/3yJxw75aHf8YRfQFROURToaRcv58hYbNRoy/ienrA9tt/ISuEXkVYUASg4GvuUYOFs2Fa0ueZrcRUuLq/Y+7vHGRgMHK9vYHuyI8JN4/3TF78YL52CZvf/NFxbCo/+lolr182OwcChsaGe0TYJucMqOu6nb05tGWp8d9jZ45nD4fA5Bv1ZKT2SpKQkta6OtfDlSxHrk6qWlkj4kyeV7iroYPF/6mYE+gvITVo2LWzGhiXETctHa0lQ81/fPf9YbtUOZ85yHBjJIX7RxGVm8PRgaEqfqTFWbOd7BcdnDdtbOvPsk80mbYk8yBvoK/rfuJw5x0Oz8eWhyBSAIZxFuKu5smyg92P7ELb3GalhGDXvTv+pBqIA+gY6eWce6Dpj7Ot0RmqY745Jo+at9B92batlp89eQ3qgmsJ3+VV4Xmkj0Mo+ZmQAn1R/bWUJAGrKqX8K+1sOkKRmxe/fcVfG6egU9tO3jrWo5qm/y4LL0ouCnBW+vsv4CtCyKTz3/CKXLZ+GB+wxpX9g3uAnIj8AkxMGcbsZE3a4BXmfVPUwaUraEZ6BTd/KPruy6tKKoT6Px4fl7LNlpXw863ei0sBKX02ar/TVxQMhGcRZm6z4AUBUnqjeOvybK84H9XJq6kpsM7n+To9Dl90i2A7U7ictVPX+/tE9N0QGbRskDgBgOGWaZsQx3326G8cRax8HH0mVHx9hwVzp9bm9Gb0HkuQYuXfCAi7Q7fbNZh8uex003um4xMqbiUtZIZhgb2X11glPgrIEEJBUUleTAwAou7HWedVjrY37xojkM/e8kIyahqIoAHyMC74nSDHoK1CScmLH0RLjDQvY9zzXnpBanPO5glZdXAf0qvyMjAwQ76ulIi3A+zdCye0jsXXaJiq9vr2O2bU3Q911y2i2AbfciFkj99bMPfvIh+0/aSr7+L6kAQpqAOhfMjMyhJh1NePk2ph6Mys9oqwINf9J1J5ztWTPYf3aVkO4qLoWda1u0FZH5nkb8mN4VHtWbseWwru/ZerYddfdCtzwUtnWTENJCi97dz3swAu5ke4UtvH4DqsQZFTUW29dq+4tCELS/dX79+xoV1tfnx4Un1hmYydVeDH8chEwz26EbBe7qzgELAoU9nI0lKEVpSdfvgHO+91YE4+R7uu5wTqImPtEBov7B/vNPFDOEFfEDAZNXtoboItbE7SmuchdWjZ+U6WYxkifw6tM2H9gTU0N8CspdetyMD9lcYDrct/pFiclVC1n24+RedPNt3TU1NQAKCmx3/sngmFK8NzAQA0AxA0MMHhMJCqz5XdB3Mpn17QxM1dvHpEQaI1mcf5eHu4ctySe+QqMPA/78yBgH5ZzwBaAn68iOezAkfxqPlmNQdMP7fe0anci1rEWfb6bkNlQBfvmOuxjpbA21fQ04U4ZDc6tnnyupaz2yptXl6oDiA7fdGyzr0/o/An+/IpG4/f+49nFQ9ZFpQQ/HNsdf7C8jk+6n5b5kuNr3Sj/x7yGP56MotiHiD2X93+tovWSU9Gz2XxqpTNzn/FrLQ4PrvPdu8HpcL14P/LIgOPeg1lD3wK1aSf2Hs+twKXUjMfujlkzjn0SDKOmpg4IJKW2u8w7kX4zIY9GzfObfqslRW7u2Sc+JgAg2Pjh4o5/AsuaRJUNbHxPr5+pxn6xnmtPmBHq4nSqDAAA0nztEwEGbn0V6SLJ+zeCIP4lcW/Y/iKqsIKu1eITGxbpdTlQnx+zyH5vDvPzbkf73ay6KqUgXfJP6MawoooGQZl+pCFrjq2a343nUP/Vii9E3RW03T+mZ8dwPR6Pas/K7dhSOulvAYBb1y0kL8//NmrHmbySGlxcATOaFOTv2e6Go46r/Ib6TNzom+LpM8Jks4L2mHnjKfHXmOkCpKXHjwn4B+2Zd7yosVcfNV1L+4XdCsEQDnydT7f+vRSETxx6afjdq0vZLvWzKTo6YVAwMezBPlte94L+C+ouuhluqN92L3JqZ/NQEaQzqBb9rdJ2WI27ZnPmjo/pTxxH+U96QgT57X1/S/mBrvsHVkH+Qj/xiNDT1D5Keaczb+/I7ra6H0J/kvqk7/Sjk1CrQ34cqkV/q8LUlJKBSxb+zEj9P+oJEeS39/0t5Qe67h9YBfkb/U0j6wiCIAiCIAjyW/mjgnUEQRAEQRAE+ZN07xGhCIIgCIIgCIL851CwjiAIgiAIgiA9FArWv1v1mTmYmd8zzmQEQRAEQRAE+Zf94mA9bjHGzcRjxZwlf4LmuEUaWsuvs78XF6Dm9AzMeGNyuzQE+UHfkg+tdHUcRtHCMOvADLYMvCQlxMPRyphMIpuPXrArqbh9NeyoPutiwJLJIyz0tckmVuOXBN0uaGblFCeHrZs9drCxro6Bpe2MjdFvq1pXKrwR6DFz3BB9jW63KZ5fGKDySdjSsRZkko6JrWtg11/4r5B+apnLmCHGZJKu8eCx8/3jPrS8ahQAmnITd7iNtdQjkfTM7VyCXzCftg/w7fUpr6nDzcgkHRObWZvjPre8qbBrRefmGGDsIwWpfmbs/aaZX2prWdqnON/pw4y0SXqDHb1Op3fxegoA4PWFeVc8oOXfCFwwdrCRDkl/8DiPI88qWzfVlYZn22wGYNiM062rdFLxkA7urCGx73gMwzCnU6WcpZCuNb4+6bVgiq2ZtjpmsO4eZy43nfS3PFBTQxc52Q000iGRTawclwYlFbT0BV2i5xxy1MYwu+APnDk/zy+NyhCefuojwrpmtT4+fikAQNF5T7eLAwKilugBAIgqyrUv91MIYuoqtJSCEgC2d0cWFBYCNrzb7xdFkM401TaI6zl4WBGDNr9gTy+OWul2qGba3oggbULeNf/VC90lEi+5q7EX4VCRmvhCzGrh5pXqcrT3l3ZvdZ9dfybRmyIIkHknoVxz0to5ZGXR8tQj2zbOLBS+fnySIgBAfW1TH7MpXgMfbtzVzSM5ry8MpRfWuO75ODbg5B6t0gu+K92XyNy4MF+lXZG/EENY2Xr++MWqcr0a8++FbFkxq1Hu3mZLQQCovus9bekjTbdV+/3UpZqKMqpZbxKvvuHruuXdiB1hO0ylSpKD1q50FVa+6U3p/GVVAAB4/snVYQ0kVfjUPn2QV7z3UOZHIRk1ViL99e55nnFKy4LO2fZ6EbzC13Vrv7sBVqy3MnHH6wvzrnjZhxctiZFcvjd6HJHx7ozfmjkrZZOOT+pG112XErD+lRxZ6CNbGs+Kh3Bh5nkpfm7L6TKefniO95dRI/u0K4J0C72OKjTA1s1OO2LNZc487jrpb3nAcVH1sUucNPtJE2reXwnasmAeX1zi8m689Ks5PXh1PIEsA9WcOT/TL43KEN7wnuFzqAORsiGlfWLT5+v+rqPMdEm65jYuvhdyqDiO41lBtppTFnsMpxjbehyN3D7RwsBk4s7HtTiO4/lHHIl23qGbJg+hGOiZjfWIeFvXfoMc6i7Mx8z8nuF43UU3daLB+gcMnHHTQ0tnzV0GjuN4Q6wr0XRTfNKuubYUbU1tyjDfO3U4jlfFzCaa+j7FcRxnfL3lPVzP1u9eWbvtIkh7WUG2RKud6a3L1ItzMa3l15tZi7lh9kSr3W3ZXWKk+Jq122CrishpRPUFsdR2iSm+FKLj0aJ2aZ3j/ML4lyOORIrXXRqO4zjOeBtoRRwa+LYtG8Fx/FXAUOLIvdk4juN4bth4zGr765Y93Ipx10uXOD36G2ux+uxczGjtQ3q7MtzQ34dPtlp5802oQ0vng+M4nuJrSlx0hb0cU3PSWn3i+KOFzKWaC/O1NOdfqG1fhgOvL9wee8X7cngC0WLzk5asV1sHEScf/dJWlpeqpDXW48Oyb6zQIrpEVnBkdqh4SFeaHq410Zx7lvMviXyPiohpRP21SZzJXeLa33bu7hodotOpboQMDS932tluff5ouyXR9uB7ztz/ANeojFdcdGURkbLhIatMReS0tiMavej+gcUOA8kkHWPryWsiXle1bAn5Lr94GkxnGp9um7kqRXnBoSs3roav1nnrN8f/EfMiM+2r1ISjRyYLxG2LhHUxB0dVhB+/Xc9aK/vSLemN156+SD5s8ynAfe+L1ku2XIhimEJZQUEjvEtPE5eEt2l5UFr4pYmIYXwtRajxu0IbpuxPfPrywel1Vn3Y/1x4yR2f6Z7PhwRHbRoqy5aOIF1pptFwAWHhlupEIBAgLz2jtl2ZzjCqq+v4ZGW4vGi8uqYaxGRkhDnT/0/0N2/SQY9CYV6J49OlGBLy37zp/rSHPx1Oq8xJiLnzRZpMVgYAoKamvu07SPWN18ShJmbW9nO2xOYweyicRmsGYSEh1nrCBALft4z0wpbt8NCcFeYZobTRx6blLehsHm6x1CNThoye6ROT3jIA9+nNmxpFYyMl5pI4haJJe/Mms3UVLnh+4fbYKx6NRgOh1l8CBIIwZGR0OYGlMtFnY/aUwPkaXV9LQLqj9vrp+IaRU8dy6QyQn+77+ltGY1l6zPnkhn56ur058zhRn+1YnTh4+yoK6wpXj9JJXMSJnn1o3sJLwlMDLyYmRPoNLzow2zseHTh+RGd/5V+r/MKBKKHZgZsdjbH+qnp23l4T6y+cT8EBAPh0La3UjC31JXpThpqqDjbTZhQUtEyn6jXcbaGBOD+/hOHC+dblMdH3O3uMPIZheEFBYUVaWpPD5GG5b9/SCgoKhDBMubUEVXqc34bRJDkxUVmS7XBya7vBS+/6Tl/xdDCK1JEfIGFsrt106+SJzGo6oyE/MSjmrQBUlFdwFuOh+f2xw4miExZN7suZU3Un+NRHvYWug/7tSKimooImICMj8TpolKGVz8MGGVlpKC8v5yz2V3q101pDQ8vYzvOxtv/ZgJGiAAAlX7/iVXEhl2TnBkUc3TRR5Pqq2QEpDQDAb2BuIpIac/h5RTNO+5q67+QDPiiv6HzPN6UFeUZiGzfZdDjAy5m7bgk8cOj0yX3Lh9FvbHD2OMPsBysqKkBGRrY8brGZscvJzzIyMlBRXsaxcjs8vzC79hVP2dxcqeDq8bjPVAa9Lud88OV8gfqKCm4hfpvSuPWbPjkFLtT8tyvoX6s0NvpWL3unEZ1OcUJ+ju/pb5PWkjU0tM0ctn0aHhrtbdTFGnUPtq++N9R/lUkvzpwegVdc1BHtZkjo1wmbdrsM0lBRIVkv8pkpn3DhZnduoUE4/OI5653Izsykf0oeox7KlmacXwbKAEIEAj8AgUAQERQB4CMQhBoaWo4rimpqBOanXmpqCtRnn8sAeM7lk8Qw2cLCgrTmLIOBOwzezU5LKywsVdUgtjUkEUMj7dZh9jZVsV5LGxoEzOdhMpxZCNI19fl7tuV4+tsb+fPxi2lPnzNWKfszf7fOnPHS2+vdDtLmndjKGbs1ZBxZtOqhfuAF939/1BLHccCbm3HJPqpKfWVFBZpp3b8t8k9Hcj1+1aGqJPvekUD/dcdIUYv0hIDBYEBdn4nb1ztoAYCu/8IbJrtiU7ZYDgP5Kdt3pa3wm2ZyCAQIKvbujtovkjrd800v9648r74xwY7L0OmAMe4DmJ/0KaZSxYMWnrj4aepiIuA4DrRmWi8ZJaW+IpLCzXVd7i3eX7hFh4onYLL8gFfe6nUj9FbyC/amLJxiIxLWxNfZT/l6ce2WvOmnDqJQ/V/z8WxUqvxEr8E990D+x/rO/tbUMzZ+Vk1R+tWQQB8fHc2jzmpcAguW6qTNa5OHBl0z75mhOs+4iIvczMz6ipzZGjFsaVh+AYAmWwLSHT27jVvtSDvuxDFkkN1+kQlvfQ8rnd468aUbAYW6unrd7eTkMkWDRWr6b2g3b2TU8mF2am0FxCUk2hba4MpT/9mLhTlvX3V8YLSramcHKAThQoQ0dX+C066qkko+aQXC7cVn+RUUunH/Tvl9XxfPN9Yh0aso7dtFU3bEwlnhwmui9zso/YTqKCkrK8SoqKgiuhy+5gLAuHGiCmRl0TUlAACRPkTNPqCpY2gskGW46tAN19CxBGkZGQBRIpFVREZFRZRaXFwLIA78qmO3xo71qykpa5aUl3q12RwU5OXbbbC9kseP3pdlrrQkrQQAnE4D+jsXUoLz8SebLNuVE9XVVYVbhYUARJCVlYXKikrRQRsvxQPAh+BvIKPRafXq5AsDAI+KJ0lxD7+zoKGypEZIrg8tyjlYiqjAGirhKj3lUUV28gRyCAAAo7kJYJMl6dr6h6dndfrdEF4YL6LOZGlOCTb8CU0e6cz397diihpaiqClS9FteGMeeDTVeWv79svuw6OU4sKSWZSzAAA4vQkY+8eQri2+dG05ibPor8ElLuJjD94ZOPvDwvS8ki67//UPI/i/da+e/QoaWloCb5886fyqakdfMjNZT1KqzMwqEVVVZTsM0OvKi4tLqtlCeBkMk/qYmFhqaKgGugb6WdevFyhjWOs0TJ56m4+y1Jm+09csK9DzSHa3n8OEIOz4hKUUFCSFK69eTKIZmpuxXUzE6yuLi4u/tZ+HUPlwk8vSx2b7T/sOaT/KSss57e5ykL4s8vD0Ad2cPQkAwKgrKygorOxOExPQ19OBN8+fsc6EXz971txPT5/LWO/fDMdxnF5fTwMAaV2dvpCXl8vK+VZYSBVVUGAFvgAAghLyitIitPsXr5WrmVsotGXQakqLi8vq2voUxWmhNxMTrjL9M2cASNvvunp2qWHbKkzUd+9yoX///gAARD09ibLnz/KYOdXPnmUL6emxHec79oSdfmGeFQ8AgF9EWrGPuGDBxdinBAsLtq/VXPO1oKD4W1NbisWahBvXr7F+it8wITBcGn111/iO20S6pfH+6YtfjJ2mqHNmIP+Wji0FuuhvuXbd7BgMHBob6tmi2Q6r6LifvtnaUPY4yoHqrMNXD8/q0Q+pk5SUpNbVsRa+fClifVLV0hJ5/+QJmqX+/+u5I+tyk5ZNC5uxYQlx0/LRWhLU/Nd3zz+WW7XDmbMcB0ZyiF80cZkZPD0YmtJnaowV2/lewfFZw/aWzjz7ZLNJSxKGYV9iXg5x1+cDgoGBUu6NNGusZXSpS4qTAjbdHO3lGTzk0nLdriN85C9UU/guvwrPK20EWtnHjAzgk+qvrSwBQE059U9hf8sBktSs+P077so4HZ3C/vCvmivLBno/tg/JOTC6JeWpv8uCy9KLgpwVvr7L+ArQsik89/wily2fhgfsMaV/YN7gJyI/AJMTBgB6ZV5WUS3kVtKh/mtORkaFkIyahmLL0GjVpRVDfR6PD8vZZ8tKAZ5fuK/jjOEHvHduHCQ7V6v8wtaoCqPl08hta/2lHocuu0WwHajdT1qo6v39o3tuiAzaNkgcAMBwyjTNiGO++3Q3jiPWPg4+kio/PsKCudLrc3szeg8kyTFy74QFXKDb7ZvNPlz2Omi803GJlTcTl7JCMMHeyuqtE54EZQkgIKmkriYHAPSHB1amyo4y01IUpX68/8+eS7h1gKMqAIDA4OnT1CaFbzios26kyMuQ/Q9lHI+OFmvZCNeekOcX5lnxAEpuH4mt0zZR6fXtdcyuvRnqrltGsw245UbMGrm3Zu7ZRz4t/4moPFG99SJCrjgf1MupqStJMZd5VDyEp6prUdfqBm11ZN1HjPwQanHO5wpadXEd0KvyMzIyQLyvlop0y8SWji2ls/4WgFvXXXcrcMNLZVszDSUpvOzd9bADL+RGulPYxkk7rEKQUVFvnWBb3VsQhKT7q/fv2Se12vr69KD4xDIbO6nCi+GXi4AZEQnZLnZXcQhYFCjs5WgoQytKT758A5z3u+lxrI50qecG6yBi7hMZLO4f7DfzQDlDXBEzGDR5aW+ALm5N0JrmIndp2fhNlWIaI30OrzJh/4E1NTXAr6TENowFShgmAhUGBr0BQM3AQAq+YkS28a+uKEzYvvmG3cqVe6yvrDPo7AIw8pd6uHPcknjmMGmeh/15ELAPyzlgC8DPV5EcduBIfjWfrMag6Yf2e1qxxVLMqgpKSmx3kH6+m5DZUAX75jrsY6WwNtX0NOFOGQ3OrZ58rqWs9sqbV5eqA0D1tfX2Po+YieGz7cNBbu7ZJ62xE1e8vnCfSbuOlmzcEjhzXLWIisWssIB56LomyCiKfYjYc3n/1ypaLzkVPZvNp1Y6M/cZv9bi8OA6370bnA7Xi/cjjww47j2YdZIkUJt2Yu/x3ApcSs147O6YNePYJ8EwamrqgEBS6s69MHxS4tTkcN9TX6toogpq+nYB0SunsDo3QYPVR/dR1+/xmBRMl9UZtfmob7uHrHPpCXl+YZ4VD0AQ/5K4N2x/EVVYQddq8YkNi/T+jyELXhUP4aH4QtRdQdv9Y3p2DNfjZYS6OJ1i3nyd5mufCDBw66tIl5bHLnVsKZ31twDcum4heXn+t1E7zuSV1ODiCpjRpCB/z3Y3HHVc5TfUZ+JG3xRPnxEmmxW0x8wbT4m/xkwXIC09fkzAP2jPvONFjb36qOla2i9k73iQ7uJrm+39+ysInzj00vC7V5eqcuYAAEDR0QmDgolhD/bZfkc4jiD/vbqLboYb6rfdi5za2Wxm5M+TtsNq3DWbM3d8TH/iOArqCRGkO76/pfxA1/0DqyB/oZ94ROhpah+lvNOZt3dkd1sdgvwi9CepT/pOPzoJ9d1/m8LUlJKBSxb+zEgd9YQI0j3f31J+oOv+gVWQv9HfNLKOIAiCIAiCIL+VPypYRxAEQRAEQZA/Sc99dCOCIAiCIAiC/OVQsI4gCIIgCIIgPRQK1hEEQRAEQRCkh/rFwXrcYoybiceKOUv+HLnBYzEzv9TW5RueJMz5JHrbFvIv+ZZ8aKWr4zCKFoZZB2a0y2IUPzi4bMIQQ20tssmwKf53q9vldlCfdTFgyeQRFvraZBOr8UuCbhew3ibapvL2KgsM0/BIYC3fWUPibFlOp0rbrcLhpf8QzjVG7s0BAPj2InLT/PHWpmRtPbNhTquOPC5F97p0sVOachN3uI211COR9MztXIJfsF5Kmn5qmcuYIcZkkq7x4LHz/eM+8H7XYQtqduzmmXYDDbS1KdZT1kWlt71roi49eoOLjbmeNtnYynHZoUclLRmML0lBi8YNoejqGFjazd50Maer/6X0duC8STbmBtokPfPhTqv+edxWUZo+Xt3mOnqggY4uZaD9gsCbeS2vV03waFdV7PZ/aF2HO2pq6CInu4FGOiSyiZXj0qCkgpZNVZ52brct59OoF+7E9zdthLvG1ye9FkyxNdNWxwzW3ePM5aY4OWzd7LGDjXV1DCxtZ2yMfst6ZTpvvKt9l+g5hxy1McwuuKum9S/61VEZwt1PfURY16zWx8cvBQAoOu/pdnFAQNQSPQAAUUW59uUQ5LfUVNsgrufgYUUM2vyiXUbji0CXeWdkXFbvWqstC2XZJZJsr9rlpiI18YWY1cLNK9XlaO8v7d7qPrv+TKI3pa0Blyds2F6oRoLy1hQzz0vxc1veao2nH57j/WXUyD6t2VyQ5h2Ln9D6au3C6CULH9nZaQAAFDxIeK80xmOagVrvurRT/tvmujHiLrn/7e8572SnVN/1nrb0kabbqv1+6lJNRRnVIqx1GMLK1vPHL1aV69WYfy9ky4pZjXL3Nlt20hE3Pt0zb3Ui2XfPhWF9a14d9faas6lvUuAwMYDmh/5zN9438w+9aqVQ+/KI13I3L/l7JybLARScWu4ejrsGx4SRhAoSti5d4yqs9mA9hXPTbOggaTDRc5a6kpRgxduYwG2uHr1uRrsoAcC7A27LY/uvDokdr0LPid6wZPFSyZtX3NWYq0mObum0AUT69G/ZGg84Lqo+domTZj9pQs37K0FbFszji0tcrsXK7Tf9UNh01qu2xPq2vJYG4eL7mzbCHb2OKjTA1s1OO2LNZc487jLvJJRrTlo7h6wsWp56ZNvGmYXC149PYn//NKfOq30nmtODV8cTyDLQxUjOvwtFZT0U3jN8DnUgUjaktE9s+nzd33WUmS5J19zGxfdCDhXHcTwryFZzymKP4RRjW4+jkdsnWhiYTNz5uBbHcTz/iCPRzjt00+QhFAM9s7EeEW/r2m+wg88HxxBNfdv+28QVWsRpERU4jmcFjSBOjihhpaf4mhIXxDbjOJ7iSzGZ4eE62MjMwe/kiTVjTAwsZ4SnN7VuAUE6ygqyJVrtTG9L+HZ2rqbx6tvUtpTvwkjxNWu/weLz84fOPZsTM5s4YNm1tuRWTQ/XmmjOPVvBmc4bI333MMw+LJczHcfxpmvLNImOR4s40/9u7XZKbth4zGr762aOMpxeBQwljtybzZnczusdVsTRBz6xlppvriRrLoitw3Fm92W59RkrpyB8HJHil4rjOM5IXDGAOONMNSvnzhpdovPJ79j31AtziepL4mk4juNVMS5EDc8bDGZO3fl5xAGLE5i/69qyjp32d7i7RofodKoMx3EcrhkfLgAAIABJREFUr4icRhwRlMVRAumG72/aSAcVEdOI+muTOJO7VBE5jai+IPZ7OnL2at+phpc77Wy3Pn+03ZJoe/A9Z+5/gGtUhjfEuhJNN8Un7ZprS9HW1KYM871Th+P4lUVEyoaHrDIVkdOIVrtZxyd60f0Dix0Gkkk6xtaT10S8rmrZEvJdfvE0mM40Pt02c1WK8oJDV25cDV+t89Zvjv8j5rVc2lepCUePTBaI2xYJ62IOjqoIP367nrVW9qVb0huvPX2RfNjmU4D73hcd5gr8/8or+y85tWNY5clt19R3ntlsmhkS2TaRBkG6xniR8oRvEKnWf9pwU9PBo6evjez6Wio7RnV1HZ+sTMuLxvGC6LV7mtz9pyi1K8Wm9vrp+IaRU8d2/9Xk9EdR5/Itpk5ijXS2Q62ubhaSke3+q0L+Cuw7hZqa+rbvINU3XhOHmphZ28/ZEpvT0kO1wGmVOQkxd75Ik8nKHFnt0WhNICQkxFoSIBCEaOnp7wEAlIxNlEqTr6WUNQOjOj3u7ifFEcPIAAB8eiYmhIxbV95TcWgsun39CcN4xKBu7ns6tehZxOVXAiSytiAAgKSRqSb+LPH6l0Ycp36Ou/VGynqEsUBL6eqrHqZkson1uPn+Vz+2Tc/pCqOxLD3mfHJDPz3dtveuF5ycaUzWNxvhuGR/UuFP6Lj/TN/ftJF/T3VNNYjJyAhzpnPHtdrzQH22Y3Xi4O2rKC2X5HoSavyu0IYp+xOfvnxwep1Vn87CSHr2oXkLLwlPDbyYmBDpN7zowGzveDTF7Ud0cvX1Fyu/cCBKaHbcZkcSHwD09/Z6dMH1fMqWgcoAfLqWVmrG/PoSZwWGmqoOKtZmHCkoBiACAPQa7rbQQJwfwHDhfOvD66Pvb6AM73yCQdmp6dgptmVzts9cSRsOpqgZ5enAUw1rMiZjPKDqVkEtAApdkO6q+fqVyv827PDYNf7HdSAtYqPPrHUyd0PHdNmDAwBA8/tjhxNFJxyY3BcAABi5J1cFNXtcdFYEXtFSaWz0rV72/4wQ5czgiXoz6nL1iG3juFz5rH8ZcixFdWbkKFTj2bTfKSVfv+JVz0MuTfMOilCrfhyyftXsZsU7WyxZB95XO62nhOfRGcJqDv5nA0Z2vltIZuZSEbHh98avHypfl3YsPLEG6isqAACELDdG7fVd6Gam3SjA4Os7cttJfysxAADo6xJ6umbZ4tF6m4CPLqa38MixeVi7jXJFvehq4HWPzgBp4yUREQtZa2guO3mUumjFYF0PARyXtlgdET6RNeGin9XybeMstOT5K95eObB7mXNpr5v7hnc5fSVpLdntPJWOi2q7hEZ7GzHjfuEB9l7+ysYDpOlFT8/s3TdvRt256+spBI5VkQ6+v2kj/5qqO8GnPuotDBrUevLKG9dqz1Pdg+2r7w3dedWkF7zkzOsBqNLj/DaMJvEBAMl2OGcuO9rNkNCvE8KuuAwSAACVRT4zL426cJNq74Qq7PfqucF6dmYm/VPyGPVQtjTj/DJQBhAiEPgBCASCiKAIAB+BINTQ0HL/lKKaGquH76WmpkB99rkMoPO5fNL2AafcWbMuU3c7buMcAeuAQCAw/xEREWF+aGhoQME60n0MBg4NBFvvbU4WAgDkLSvvXV168TZ1zKSuezC89PZ6t4O0eSe22vQGAGB8DPc8IORxaVonw7Mfz0alyk/0Gtz91l526fRNgVGHR3WIvOh551csOi+39sxaUxRJteLcKcBgMKCuz8Tt6x20AEDXf+ENk12xKVsshzHLk1yPX3WoKsm+dyTQf90xUtQivZaBcy7EbNfvc/Ncv2BQJENASH6Ih6PFwxh+PgAAelbUhm2PB6w7vstUrubt6a2bXDf0ubJzWG+AiqTda080Ttx31mGAYMHdvT5L3OXORs/T6mwEDABEbLZevVpZnf/i7L693tt0z+6zUwCAwiubN1yTcjtyYZhy8/tLO3zdVvS5dGRSXwDQm7Sc1XHqmxoKfbZcd+Kq33Dnrs44TT1j42fVFKVfDQn08dHRPOqsxgcgZu7izszWNzDXbnxvHRyRtI5i18UXRr6/aSP/koaMI4tWPdQPvOCu0UXkDQA8qj0P1Umb1yYPDbpm3oszp4cQMTTS5v312eVmZtZX5MzWiGFLw/ILADTZEpDu6Nlt3GpH2nHOM7Ds9otMeOt7WOn01uunzbTWW+U6IyCtqqOjw/xcIMUHzGCdD9jrIs5ouZmHq7b/HkG6QVJGWgBUiERWJ99LRUUOHn39yro61Iny+74unm+sQ6JXUVjtouFFyquqxxkjSVsBAOjNQIflpBtX96YHj2FtnfEi6kyW5pRgw+5HPnlnox/JjT89lCMepxdeXjF9e/n0iJOuGp1El3+bjjsFpGVkAESJLbtTRkVFlFpc3Hr9TaQPUbMPaOoYGgtkGa46dMM1dGxnpz59rL0iH62ilpXWi/aRLQi22yWvrwAAzbdDdj7S2/p2hpUoAGhtXfvYaO7hyyuHzVb4ELUrqmn8FS97MgBok7Z/vjk05OTjedstOTbMgV9SWVNSGbTIJiqlI0ftiVpo50mCZ8f8E2QWPFhkowwAJG3fjITxh85kTVrBcX+cjI6uItwsLAToKlgXU9TQUgQtXYpuwxvzwKOpzls5vhafiq62WOOnwjIA+fY5SHs/0LSRf0VTdsTCWeHCa6L3Oyh174/fZbVn8+FRSnFhySzKWQAAnN4EjP1jSNcWX7q2nMRZ9NcQl5DgTOJjD5gYOHvApOeVdNmd23xK5Hv03GBdQ0tL4NqTJ/VO1t91dvklM7MKdKUAoDIzq0RUVZXtOj69rry0hi4qKy/ZdaQhISkJVCprWkF94ZdvPfhPhfxuBHR0SfAsN48OygIA0FhYWAby8gptBfD6yq9VjSK9FXuzzVisfLjJZeljs/3RvkPaJqj2sttx06iOtVCf4D1uv/j6qxtGKbYO9jTeP33xi/HSKR2f3MKoK/tS2SgmqyzdvokxXkfFpKtM2mnebsCIURS/arpf/oRjpzz0u74A8NfgulNAWlenL9zPywXQAAD4VlhIFVVS6HjxDcdxnF5fTwNoCdZpNaXldXwSfeTEOIbrBETlFEWBnnbxco6MxUYNAGisrm4A4dZQgU+Anx8aGhoBoLr6f+zdeSBU2x8A8K9d1iwhJDPCjN0QUdFKC+0UKkWKtKqolBZFaaMU8SRlS6VNJK/Squ21m5Q2W5YsMRnLmLm/P2aGMcbW+/XynvP5a+Ysd+7ce86555577r11wMccfQcAEBAQgObGJgzYIxDdtoQMBgMaGhoAAKurowA/f+uv8PPzM68kcqnJe1sGQ4aotoW0UMrLajEJBaWBnczoZTAwaGpsYHR4gnDR27x6UQ1VHlOwEE6dV23k/4RnTaHlJ3i6HKGvTIhxHtahbPNsujl1LPYdsuh4JmTNZQ81vj3utOqp/fHoRYbdPWzpt5KSkqLWsw9EX7+Wsj4N1dYWjX78uMZTDd1U8Tf13R6o/OyV8yLn+3vjtq+erC1JLXp569wj+XV7nLjTcWHcP7otCbfSDJ4cicgZNDfZmuN8rzh24diD3xakPN5h2hbYCQVDA6Wg65fyFq3Sanp+LD4HYDR3EgTpFqXkbVEtVvitCWiVn8hk4JMeQlSRBLUZ8yyOBO3eZbbLhQi5J0OzhCbs55x2Srm80nLTI7uj+Ycns0OeBLksvSTjFeqkWP6WXA7AWhSfpJJG6ygHdZAYgISihkbbg8Rq0xPT60cGzuRx72ntxTVWWx9Nj8w/ZMMZTLuTeK5Ez91Bh3OopPK6n9O6R9pbDk0RLSKTAQCEZNU1lfp5r72znQJg5DBPK+5EwCHdLdNwPx6FRz1UmB43AgDgUcTKP0VsLImqMkK1H+7EHLguOnLXSI5e/MvQ6Y6xkj5ZmSvaumCfroTfFiQZDhaoyDm5J6bCxH/pSAEAEDe3MhEJPrrl7GCv4YPq3yTuT6NqeVoPAQCCtbXiH2eCQkmbpmkKfs0+FPNMZuxio7b92bElLD2/49BX4nhjDUWx5rKXqUdOFqg5TdQBAD4jKyup8zHbYjR9xqm2fLocnFSkMnUcAQBqru4J/oSfQNIYJFSbd+3Y/ruyM09Mlm79DSiIWzjxIGVxyoOt7B+p/zPE/7mKjZmmsjRW+fZa5OFn8hM9SfwA8Cll28kaQ2sDdRm+by9SDx8l4xZut+7ZiGX/1UXVRnqMWpb/pZpWV1YP9NoiMpkMEoO11WTYZ8odawpWcM7LZefnccEHhtM/MptCUYVheHl2r71j0915se8si4ismoYsO7ZuoCAIyQzRGNK3e7tEAwN6aFpm5QRb6ZLU6EulwDy7EbJZ7qlmH+wVIuw700iWVpp7/9J1cArzYM2fQ3qu73bWQdR8a3y4RFD4tgWHqxgSSnjDkXNWDIRO76Fj0Z7nIn9x5fTtNeKaE7ceX2fK+QcpFArwKytzDGB2jp+0PNhtdYDziFOSQy1c7abIvqJwJ0GQbt3bO807jfkKjMJVdudAwC4y/7ANgLJz2B9VAcFB85PqRJQIo/1it9lxtsUUCgVAWZl5BykAAHy5lZHXWAuHFtsfYoWwF9WlsvOJtwRtwqb0vKGnXEtKqx2xmesxMLlZGYU0auE25z/ZIfKLUx63dsP6qc53Cr/28ujw+oCD/o7HGyRU9SYGx24aJQYAIKsk/jHuwKWw8lraAHk1/Qk7Tvs4cexmBoVSDyIE5dZDNQCAYNPH1D1/hFQ2i6kYTghI2LxAnXmkH7IoPKZpz8Fjq2aVUYUVNMyXHt+8nMAHAANGbj55UHRP1PYFUdUM6SH64wPjfDnvXu7YEg5Qkm84F7MztqSSyi89eJiZR6SvN/OuBFn7PSdrQ/ad8p27v5ZfFkeaFRbrYyYCAMIDRSsyj2yK+vYDkxysYTI3Yt/KMR3ucWhHSEGB/3XinjOFFRRMQhFvPDs0aC1zkr+YtODHE/vTjlTV88moapt7x/p5oLtLu9H7qo3wQI5wcTxdCQAAbwLsMgEsA1/Eu7ALcsea0vwk42YlDc6un3OWHUT0ybraem7dsenuvNizdMzyLzRo1paAnLVbx5vuUCROcZ9OSktnhgsQVsSeEAgKPeAeW9o0YJC6roXdsh51wRAufP+l6dbF0bOsLo67dXXFUO4YAAAojZkxMhwXefeQTcfL0QjSh9Snehj5N+y6HT8XTdrtX97ssZ6WPuHMza3Df+E4CmoJEaQnel9TfqLp/oksSD/0C48Ifc2PBzlvddwPTuxprUOQ34T++OHjwc4xs1Hb3d+UPMypsPRe9it76qglRJCe6X1N+Ymm+yeyIP1RfxpZRxAEQRAEQZB/lf9UZx1BEARBEARB/kvQDfcIgiAIgiAI0kehzjqCIAiCIAiC9FGos44gCIIgCIIgfRTqrHfmeaAlfn5CDXcwgiAIgiAIgvxTfndnve7MfDx+VUbr9+eBlnjbsPccKf62d6Hj8ZOOfmof+DTQDO9w6lv7QAT5P/t+/5iP28yxJG08fkwImSMCq8g5umqmtYkeQc988tJ92WUMjsgu0fOPzSTi8bbhH7ljam6sG4HHa7ZWp4Z3qcHec8aPMCDqmVpP9w69UdzSLj0vjK/ZoV7TRpN0dQwtbF23p+azXyz/8yv8X5Z7eqXLlNEmegRdk1FTlwRd+cjaXMWR0/BcTLY+YMY1f7q6y22ypaGOLsnSbmlIViHznVldoX2+EuA81phI0B810zchl/1iuO/P4rcvmT5muB5R32ys47qoR984nhZAzUsJWGhjpqtNNLScujSh+zaVUXprn5uNqQ5Bd8TU5ZFPOccpap6d8HUca6KjrUOymr7xcgkruOnlKd+lDjZmRA284cbbHOk7l39hi5fzZAu9YXj8sotNbeE1CU7ttpYTGifpys0NhHabC4/HO55Gh7Of0PsyXHY/cqPr1FEmujqGFjbztyS9ruVOwY36MMLL0dbSWIegZ2o9c0VodnH3VZ6l89b+17mynLts4fF4PH7WiTLulMg/6Zc+z7dvwGlo8BcXFwPg28KaSkqqJPD4QW0hCPILNP9olNC3X2WNC93xjDO8LNHH4xhl3sG4UKJIYXrQ+mWekpkXPdU5k/DWkhu+Pk1ETxbquGOqMvx3l6gToKo1pPph5jNx62U7fDTkaR8u7g/0dG04k7mJ1FWdLz692jMacwtPjiQIFWcErtjgJqx+dzPpb6zwfxtDWGXMkunLh8oPaCq6fXTnmoVN8rd3WAiCokNYmlUDO1Xttc0LEnRthwMAwNvDHqsvDFl/9MJ0NXp+kr/38hVSWZe73JL0l/vd115RXhl61mbAs/A1AW6BqreCrcUAiu9mfFCesmqeofrA+jeng3Yt9mBcueipAQBQdnbFvIBPFiu3HDNXFftR/B5jvvy7C59PeHnGwoL9yXOU80/6bnTbMPjWH9PlAICRf3yJy5F6e5/A1UZKAjWfiwaw38VOr6cKDbPxsCXGbbjEuaguUOsZaqMXTjO+5B3BHQWqzscinVkvzhUf3PXLUPs5s7UX0xazT5ex3OOLNn2dNBEdzn5C78tw3s2MKq3Zfov0VMSqHkbt2rKgRPha7Gwl7mQcMExMY6q3o5aqjAjlw+XQnUvd+a5krtbmTtZR5639r2S9OS1tBQBA6bm1HqnDghO99QEAxJTk26dD/mHY71Wb7ILDrUxv/f5spwXOJvQdhmHYu9DxuDlxFayInIDhuKUXWjDsXaiNlsPyVeNIJjarYuJ3zxphaDpr76MfrUvo6HWwFW5+QjWGvdljjcPNiSnHsE9H7XDTI0uY8dl+usNWpjw9vnyqua4WwWi094UyjLkmLvHVGIZhDW+jnUnDXePeN3EsFUF67F2oDc56b27rd2rqYrz26mstrK8FkXY46/1t0Z1qfL7X1ibwrwe7LXA2Rz5wxpSdW2K1OCU/2RU3jKM6cWDkBJi1WwdeGJlrhuHmn6ljfb25QRfndKoa+/kV7ldeBFvhJh58zx2MlcTM0RgV+IKOYRizxdNce53BjKo/544btjyDvV15asn2M8BNj2G1VpTzS7S1lpzv2OA1p6/Uws2MKcUwDGO8CB45zD7qC3eaLrzaa42z3vOGuV60OxuMcbP/KMYwDGu65WOo43b2W7vU7VTHzcMZ+GVzB3cl3QuHW3qhsS2gOn4ebjyz4Ud6p/men6nW4pRq7nCkF36iDGMYxiy3GksvULnDu3Brgw7O8XQld3BHnbf2/5AvEfY4kn8OV2jjBTfc8O1p2fsW25CIWkTS2ICb9RiGXfbCkfzvsdJUx89rO0DQS+8cXm5vqUfQMRkzZ0Pcy1r2kpBe+d3TYH4KrVx6RkzUHIEru+JhY/KRSdXRsTdaR7E6wuPxUFxcApTcN5VSUu9ev6FDSUmJKB4/uDUJlhO29/3Y3RcfPn9wfpe9GucoVGNezBKXKKHVCVELNYU5whHkp7XQaJiAsDC79omIiEBhLvlHuzQdUZ/uWZ85avc6kihXBFac5Heg2TPIQZkrggOjrq6eT05Whju8HT59U1MR8p+XP1AxaCq9ce0xw2T8SBn42RXuPzBaTX5G8s2vMnp6Ktxx75OS/9J0mGvI3HhSxsO1sKeZ1742YRj1y5U/X0mPGW/CHqrm6fOrVxQlE2PWvpUgkbRor17ltU8DANS6uhYhWTkJAICinJyvRAuZdC87S9MR46Z77ssqoXGnb6/21ctCEWNjHT4AABAkkfThzavXDAAg5+TUkYxETiyyNTe1tHFYfexhZY8v4vdO8akFJnoGZuNneodll3Q/YwsBAIAf1xLSGifOndp1zUZ+jTpKHYjLyvawZ8BoqsxNPne/UVVfdyB3HLdOW/u+gJq2L6LRISzzyfO7CRutB3XVjaS/P+a+7KLw3JDUzIz4beNKD7tuSkNT3H5GV1v5H5Pm3TovanZsD+ZF8elaWKubWBhIDiRZDR86yozIKC7uIpsYHq/0taSY8eYN2XDOnCFvXn+qLy7+jsPjmQcmAAAG39g1QXMMlSTEZPBWtiRZdnhT3gmP+ccFUU8d+b+SNDEnNv956mReHZ3RWJQZmvxaAKqrqrmTtVN/d/f621ZB60wHcEUwCk6tC21ZFeTUxZXYlg8njmeKzfCa03aCytNgl4gEj4Yjk/W1NHVHrns/OSrKHQ/wcyvcX7zYO0ZTU9vEdu0jYlBK8ESx9rH0R4lnPxk7OmiyA7RWnoqZ/Nl/lK6Wlv6EA3VucWGzup6/UF1dDbKyclVXlpuZuJz6IisrC9VVlVyJGp4fPZEzdMGySRIAAOUVFfAl6ViOzuqIU8f9xtUmey05+rbLmwyqq6pBRk6u8e620UaTwl4PkJUVbq6sogBAefk3gZcnwr+M8f8jLnyl3udji1fEf+XO/rcJD7PzDToQHpsQFeik/iHKfX7IM44Z7Uinvl1I+nOAneN4rmKH/BNqb4af/qS/zG1kl2fbTNl+epqaRDP7XZ/HRSRtMu4mR6etfd9AlZm2zX8yQV5cTI5gM06vi/MJWtbRiPIZ2/e7jNRUUyOM8dq6QCHjfBb7rhukF7qav/qPsdqU5juS+fFdlOu6t+1jOxISEeEHEBERERUUBeATERFqbGTfB8cLHo+jvSx5kZsrabjd+vuFU6/ftZQI4ByHciTRNTLi0Rl/ecjzUSNVdb6WCo9IBPlpGksO7MpfG2RnHMTHL050XjRV+f0X/q7OnOuyd/jdtwpNN+duvBmfotceFlp1cV6HEd1W2Lcbmz2O0NxPBk7objynOnu/38mmWYdS7IcJFt86uNXbUz4lyV2bv/cr3H8Q3GKv2tdWvL8dFRK08QQh0Uuf48pcQ1bihe+j/We2nSSVXN7hny7tEXV+rErLh4t7AjzWDLoYNbuLkygMw4DWQhsgq6w8WFRKuKW+wyA5vfDcGq9z8n5n/IaLAAAAg8GAH9qu+1ZOVAQw1Nn+Nn1y6kXyGqIeV8Y2GIZBC40mLK2kojxYRpSvpYU9fI5hDHrziBX7FlmJA+gTNj1Jc0lNL3Fd0nl5+xni5i6ezE8GhubEpg9jwuOyN5JsUQnrxqeUxIcKs3xH9YkDef/SSI7yWnfPIOS8p2Y3PW8AABi+9kLaQkpp7tWjIVu36mjFOKm3DRZy67S17ytEjYyJna8+p4K8vIbqfFfNZI4wfFExgBZHANITfaKOS6nq6OgwPzbJtR7o+ICzNGCMrgaGMIzjMQgdyOI1BhYXZL75ZDiZaFCj9+Z1luRXVTye478LSEryGpkQNdt4xv2jt+v63eMydo+W5I5GkJ8lSpgbluG4r7aihk9GUeTG8hR+RcWu7t/5+CCnrKRiISkFAACjNwMjbAohffnFdI83OS9qH5EnEgIBAOgtQIfVhOtXD+aGT2EeQqruBLisfTXmaNI6Eq8y3s7HxH2JzdMv+9rpAQCRsPtLltXRU4/cd1v0foX7D9FBOK1BoKVjZCLwzmjdsetuEVOZXWYAqElLvEa3CbVrO0l6eiIoQ3bpXa8JKgBAIAaQM6YfO/Nu9prObzeTk5ODmuoasZFbLqYBwMfw7yCr2bbp6SWX1jjvrnKOO+WmyW48ZWVkQAyHU2R9HTJkCJSVlQF03lmXk5eD2poaPgOv5HQvgLqEGrqwvJwkAMjIDAQFHE6cmU5ATU0ZrpeVA/x/O+uc+NR0ieJNn0sqARS44xBOjGeJZ95pOYQboZOaf1jz+7hlC6OFNySF2Sv3bOOLK2lqK4G2Lkm38ZV5SMxDp0AL7iStOm3tVxO4k/4eEpIdekN8nN01BsbZXdP3zb7kybpzHPlpfaKzzpuklBRQqazrJQ0lX7/3dGWbastqGkSkFGTE2LUIj8d/O5n5HO+6UVC6xlD0+JXnTXgrdc48vGmPm6RjKXbA7c5c34DxGYfGdTcuiSC9wScsragIUJOamk0z8jXjuJiINdSU1zaJDlQayArU8UzImsseUn173GnVU/vj0YsMh8AAlT1ZxvWsiIaMTdPCJDZf9Z+kxOyp19zb7rLikVlYUsDojnNaGfWVX2uaxOVUZNgDOHV1dcDH39rqCggIQHNjEwbs8+bOVxhh3qxPb2igAbA764UpCfcl7U5xTI3B6uoowN92TYKfnx/aXRekUb5V1fNJDpIXZw/X4fT1JSv/eloIpmoAUPf06XshfTfWQZtRmrbOeVvRjBOnVxlwnIqp6+qKUQsKKwHkAQBKSkpAcTS76w4A9PqqbxS6mJyCFLt7L61voEa7/NcrmGwEAC1Pn74E3dX6/ABA0NUVOFNYQAU9MQBglJSUgYJiTzrRLZTyslpMQkFpYG+vSxa9zasX1VBF54LdaLqTkPrVZIWDBncE8v/SsaYAAC0/wdPlCH1lQozzsA5lu0PTzY3BwKCpsYHRNgm5Q5ZOW/s+TEpKilrPPhB9/VrK+jRUW1s0+vHjGk+1jgcgpFd6dlL4WygYGii9v34prxEYtc+Pxedwx3fq9vbRlpYrL3A8/VQRjxcrLGw2NFQC0DI0rCgoGIzH9/QKkwhp3QEPqTQ//7S2h+IhSM9QSt6SyeRP35qAVvmJTCa/LaEAAAA15/Thc9lPXjy7fWane+AtWceVDpxTzimXV1pajg641RogIqum0UploCAIyQzRGCIjDHySSm0R+EFiABKKGhpK4gBAeRLksvSSjIe/k2L5WzKZ49eZai+usbIas/NuWwjB2lqx8ExQaNabT1/y7p3cHvNMZux4Iz6Able4f3oUsXL3iSu3cp6/eJp97uCy4OuiI21HSrBjMXJS8iuVmY6WHKMMfEZWVlIvY7bF3M37/PnNjbCgpCKV8eM4xstehk63tHSJ/dIWIjDKeZ56XrT/kTu5eY/j/cPuyc5cMFkcAKDyup/Tukfa6zZOES0ik8lkMjm/jAoAIDTacZby02Ob/rj37mPeneO7499rTp/GungJAFAcu9DS0u7Ay7YQ0Hecb1CZtGOTE0MFAAAgAElEQVT3tdfvXlzYuvcq39gFM1UAAKRt500akHnA/8zj/I9vru8POV9rMmOyKjMTtSyfTCa/K6sHem0RmUwmF9a03XxaELfQymrWkVetAQAAzZWfyGQyuZgCQPmaRyaTP1U2A8CnlG0Bx1Nv5Dx79jDzhK/nUTJu4QLrPnxw6hNq0xPT60fOndnFbeVIt7oswzxqClZwzstl5+dxm32G0z8yax2zDLN0aLqh/s+QNfsS0m8/fvHi0Z9JO7wPP5OfaEviKN0dsnTa2vdhRAMD+oO0zEoG0IpSoy+xO+tCNss91e4Ge4VcfpZf+IX86Gr05tXRr9vlRHqmh4PVvwM/aXmw2+oA5xGnJIdauNpNkX3F2dHoHJVCYYC0sgrnNX88HgeCyoa6ACBgaKgLl0VwOI7obgjrrz24Invm1o2pptGzUA8F6YV7e6d5pzEb/8JVdudAwC4y/7ANAD9f9f3Iw1FFdXxymiOdj4WttWbNM2CiUCgAyspdzGTugS+3MvIaa+HQYvtDrBD2r3dmwMjNJw+K7onaviCqmiE9RH98YJzvFOb1pG5WuH+SVRL/GHfgUlh5LW2AvJr+hB2nfZxa9xntQeLZAk3XuaR2kztl7fecrA3Zd8p37v5aflkcaVZYrI9Z67QZYFAo9SBCUG69xx0ABA3Xxxyibj6wanY4XU5n0o6YAGtm45ablVFIoxZuc/6TnVR+ccrjraYAIuabY/cxAo6smrG/RWaoyfQjUSv1OCbWUigU4FdW5hhrBz6cW0REtX+wv+OpRikNK5+YoBlyzBipKUGxZdt3hnvYV/IPGjbCLXqbK6uvDuQIF8fTzHtd3wTYZQJYBr6Id+nqCelFyV52B/OZn/fPtNsPRJ+sqys0xKQFP57Yn3akqp5PRlXb3DvWz4PUtlEQXsrOJ94StAmbgkYs/5auy3DHmtL8JONmJQ3Orp9zlh3ELMOsLx2bbiEFBf7XiXvOFFZQMAlFvPHs0KC17e4e6pjlX2jQrC0BOWu3jjfdoUic4j6dlJbODBcgrIg9IRAUesA9trRpwCB1XQu7ZZwND9JTfF3P9v4XYmT7miwhu1+/soLjaS8I8m9Sn+ph5N+w63b83J7MN0D+O97ssZ6WPuHMza3Df+E4SmnMjJHhuMi7h2xarwIgCNJB72vKTzTdP5EF6Yd+4RHhNyHnPAT7LYtQTx3516I/fvh4sHPMbNR29zclD3MqLL2X/cqeOsCPBzlvddwPTuxp/wNB+qfe15SfaLp/IgvSH/33RtYRBEEQBEEQ5D8C3cODIAiCIAiCIH0U6qwjCIIgCIIgSB+FOusIgiAIgiAI0kehzjqCIAiCIAiC9FG/u7Ned2Y+Hr8qo/X780BLvG3Ye44UCPLv9f3+MR+3mWNJ2nj8mBByuyhG2d0jK2eMNiJq65mOdQi6VdculoeS6yGrFkwbbaCJx886UcYRQSu6HrJ06ihjHYLBqGmrop7WsCM+htniOXFUtE7UJDi1y+GU0Lqw/AtbvJwnW+gNw+OXXWzizNR/NbxLDfaeM36EAVHP1Hq6d+iN4pa2yOaCzD0eUy30CQR9c1uX8GfMp+13mYUnekHWAR9nW0tjHR3jUVPcgq7kN7CjsIqco6tmWpvoEfTMJy/dl13G+ZJvAAAoPbvIEI832/aUO6JTNTfWjcDjNTnKyveXp33njjPTI+iYTli448oX9qsVobP/2CnqwwgvR1tLYx2Cnqn1zBWh2cWsDM+DRrcrd3g8fiL7cexIRzc3ELi3l+Ppb9ypkO41vTzlu9TBxoyogTfceJs7lpey+5EbXaeOMtHVMbSwmb8l6TXH6xd567TYd4+ef2wmEY+3Df/IHfPrXFnOXbbweDz3QQf5x/3SR4QhSD/X/KNRQt9+lTUudMezdhFNz0Jc3M/Iuqzf50eUg8r3FVLdPmu04UfzIDMHX8t7W/a1Oyy/P+7lnSy1+mDSNBzj7ZltGxb5yGXHzma/q13PM36PHesNHNI9el+1qvOxSGc15mfxwa1vuKHWM9RGL5xmfMk7gh3U71U/zHwmbr1sh4+GPO3Dxf2Bnq4NZzI3kQQBoO7WpnkrHmh5rAvbpiHdXEquY71JvIssnWh6kXWbRlq4ZZm2knDxn2E7Vy/4LnE9ZKwUQFmij8cxyryDcaFEkcL0oPXLPCUzL3qqt+bEik6tj2wkDIXPbUvrRlWG/+4SdQK0va257nqA28634/dE7hkuXXE/1M/HTVglaxNJADr/j53CMDGNqd6OWqoyIpQPl0N3LnXnu5K5WhuA4H4ibUbrSUBJkveyB7a2mpxZEU5may+mLWafmWG5xxdt+jpp4qB2SZAeoddThYbZeNgS4zZc4o7jLe9mRpXWbL9FeipiVQ+jdm1ZUCJ8LXZ2Vy9L7LTYd6clN3x9moieLHQ7kvP/ZL05LW0FAEDpubUeqcOCE731AQDElNjHFOT3wH6v2mQXHG5leuv3ZzstcDah7zAMw96FjsfNiatgReQEDMctvdCCYe9CbbQclq8aRzKxWRUTv3vWCEPTWXsf/WhdAoL0Oe9CbXDWe3PbAr6nLNYyWX+D2hbSYzkBJNzMmNLW71+Pz8CN2PGY/fVF4EjcnJivGIZh2IdQG9y81irUE9Xx83DjmfWvE+leONzSC43cwQjGyAkwa93LBZHT8da7X7ZwpeHSLkvPfAi1wRn6ZWMYhlFTF+O1V19j/0ZBpB3Oen/bsugfoudY+2S9irDHDQ940hrclbJzS6wWp+Qnu+KGsRtlxi1fXZxz0ndWirqUxXhjv3t0DOvpf+zcrQ06OMfTldzBjNz9Y/F2kQXc4Qhvzff8TLUWp1RzhyO9UB03D2fArFa9Uh0/D6ex9EJvGvJOin1Hjc/32toE/vVgtwXO5sgH7th/wJcIexzJP4crtPGCG2749rTsfYttSEQtImlswM16DMMue+FI/vdYaarj57W1RfTSO4eX21vqEXRMxszZEPeylr0kpFd+9zSYn0Irl54REzVH4MqueNiYfGRSdXTsjdYrwwjS5zGe5TzmG0n4ETRv3PDhoyY7+8V3fy21MzQaDYSEhNhfRUSEgUxum3Hz+rC9oZ6hpY3jhpgnVR1mSfBSfGqBiZ6B2fiZ3mHZJd3N0UBaMerq6vnkZGUAAKgPH74ePHLoK99ZVqZmY+wW7bzQNneFA2eWHqqro4CMrBwAQAuNhgkIC7PbcBERESjMJf9gfmt5F7k2TnnL1gmtl0a6gxUn+R1o9gxyUG4XSqO1gHBr+RIWEeH7Ts4tgR7/R54YTZW5yefuN6rq63K+dx0AgP4g8WzRiLmzWdd2kG78uJaQ1jhx7tTeFCLk/6WOUgfisrLC3OG8dVHsO6A+3bM+c9TudaTuLlf9DtS0fRGNDmGZT57fTdhoPairbiT9/TH3ZReF54akZmbEbxtXeth1U1rr3EqkF7rayv+YNO/WeVGzY3swL4pP18Ja3cTCQHIgyWr40FFmREZxcQ+yIUgfQSkvp/LfijzeMisoNna/q8pfOxZuTP/OnapnVMzNlYuvxl75QmXQ6/PPhV8qEmiorm4AAJDQn+sffOjY6dMRG+0HPto7f0lUfjfddeFhdr5BB8JjE6ICndQ/RLnPD3mGpqf3SMuHE8czxWZ4zRkMAFBRXo7VXjl6UW5xaFzM9lmi19a5Buc0dpmlJ7DSc0fP/xi1fIEeAICkiTmx+c9TJ/Pq6IzGoszQ5NcCUF1VDQDQ/CZ0bTx+y/YJ3fYJ2BgFp9aFtqwKcuK6ns9vaG4q+jD5+F/VLRit/OGhU3f5oKq6Gnr4H3nI9tPT1CSa2e/6PC4iaZOxQPtYalbipbrxjtPQJfee+XYh6c8Bdo7jxbgjkF+v9mb46U/6y9xGchViXrou9tzq7+5ef9sqaJ3pAO6YPoEqM22b/2SCvLiYHMFmnF4X5xO0rKMR5TO273cZqammRhjjtXWBQsb5LCp3MqR7XUyV/OdYbUrzHcn8+C7Kdd3b9rEdCYmI8AOIiIiICooC8ImICDU29uAggSB9BIOBQaOIzaZdjiMEAPR2+ty+uiL1BnXK7J845AqYrj7sW7h+43h9H37BgaRlDhNEI5v5+AEAFMe5uTMTGRibqdSOdziZ+MJzG4kzNxdxcxdP5icDQ3Ni04cx4XHZG0m2feKcvg/Dvt3Y7HGE5n4ykNU7ZjAYUD9o1u7N9toAoBu07Lrpvgs5Oy3Gdp6le3WP9y3Z+dHu8HkHVu9eY8mBXflrg+yMg/j4xYnOi6Yqv//Czw/Q/PygzzmNLRm2PR5tZXyKXntYaNXFeSrcMaDgsHvfmzXb5pkeAwERNTvPmcRn2fz80JP/yNvwtRfSFlJKc68eDdm6VUcrxkmd43aNyosJWQKTjk/q8fWAfu5TSuJDhVm+o/rEgbx/aSRHea27ZxBy3lOzm543AHRT7LnUZe/wu28Vmm7eN7vqAKJGxsTOV59TQV5eQ3W+q2YyRxi+qBhAiyMA6Yk+UcelVHV0dJgfm+Rar+fzAWdpwBhdjQliGMYdhCB9lpSsjACo4XCsRn6Ampo8PCgvB8C1T9czUiTP6JtLG2sqKELyg2iJTuHSOEUR7kSCOjpacKKkhAak1irWNT41XaJ40+eSSgAF7jiEQ9WdAJe1r8YcTVpHYp9sycjKAojh2LtTVk1NjFpW9gNAotMs3fjxLMx16RWt4DM7x8i2BooS5oZlOO6rrajhk1EUubE8hV9RUR6g4tGDD5V5PhYEHwDA6DSgv3UhZDjFPt5u0bbAdhqf5byofUSeSAgEAKC3AB1WE65fPZgbPkWAf+jUwAtTt1EqKlukFKRf7DAHRQUF6P4/dkZcSVNbCbR1SbqNr8xDYh46BbatVWFK0gP56QlWHYovwgvjWeKZd1oO4UbobPof1vw+btnCaOENSWH2yj3b+F0Ve24fH+SUlVQsJKUAAGD0ZmCETSGkL7+YvprAnfT3kJCU5A7i4+yuMTDO7pq+b/YlTzSt7e/qE5113iSlpIBKZV0vaSj5+r0vryyC9IKAji4BnhYU0kFFAACaSkoqQUFBsS0B1lBTXtskOlBpYBdXGNvhF5VREgUojrnwRGSEkxF3NNDfvs0HpfGqHD11Rn3l15omcTkVGd4DOEVv8+pFNVTRhISu1Nzb7rLikVlYUsBojnFsGV2dwXCnsABAEwDge0kJVUxZkdWL5Z2FhUb5VlXPJzlIXpxjuK7+Rbir+xnVHcn7p3bsGvAJSysqAtSkpmbTjHzNRAGU5kVkTWRfa/yavNw1VWdfymrLtrno9PqqbxS6mJyCFKs4DLDdk2Vcz4ptyNg0LUxi81X/SUpt6yAoqaAE0JSdml6l7jhCEbr5jwDQQikvq8UkFJQGdjKjl8HAoKmxgdE6G5PxMjE5V232XvOejFQi0HQnIfWryQoHDe4I5P+lQ00BAKDlJ3i6HKGvTIhxHtahbHfbdHco9h2z6HgmZM1lPxzp7XGnVU/tj0cvMuzRw7x+FykpKWo9uwn5+rWU9WmotrZo9OPHNZ5qHds6pFf6cP9XwdBAKej6pbxFq7Sanh+LzwEYzZ0EQfo4Ssnbolqs8FsT0Co/kcnAJz2EqCIJajPmWRwJ2r3LbJcLEXJPhmYJTdjPOe2Ucnml5aZHdkfzD09uDaPXFL4r/QEFNXRoKM8nk6uFZNU1lcQAKm5EXagnmqoN+P4yed9BsobbzsmSAAAvT2xI47MaqaMqRS9+FH/gVJmxj5Nh6+IAai+usdr6aHpk/iEbVsinlG0nawytDdRl+L69SD18lIxbuN2adUhprvz0oaIRiikA9K95ZLKQqMIwvHyHY1W/QnkS5LL0koxXqJNi+VtyOQB7/4KRwzytuBMBh3S3TMP9eBQe9VBhetyIrrMwvQyd7hgr6ZOVuYLdBWsiRy9yjWh2PLBU88c75q3DEoO11WQEAKg5p/8oGWIxTIr6Li1szy1ZxxgHJQAQHKii0Tq3RlBOBASklDXUOU66imMXjj34bUHK4x2mzAA+SSWN1lWgDhIDkFDU0GBNX3959iB5oCVBnlFwMzL4PN32kCtzfK/T/8hUELdw4kHK4pQHW1k/AvV/hvg/V7Ex01SWxirfXos8/Ex+oiep9eyDdifxXImeu4NOzy6w93u16Ynp9SMDZ7a7IRjpJWpZ/pdqWl1ZPdBri8hkcmvlAgAeNQWwgnNeLjs/jws+MJz+kVkd27WEHZvuboo9jywismoardfP6gYKgpDMEI0hfbu3SzQwoIemZVZOsJUuSY2+VArMsxshm+WeavbBXiHCvjONZGmlufcvXQenMA99ruxIt/pwZ52ftDzYbXWA84hTkkMtXO2myL6icCdBkD7u3t5p3mnMV2AUrrI7BwJ2kfmHbQCUncP+qAoIDpqfVCeiRBjtF7vNjrMtplAoAMrK7e48rEvfbLf1AfNztKtdNMgvTnm81RRAEPuaeTAyrJQqrKhrvfykv5c+s52UlKK/iNx9trSmUVBuqI7VpgTfhcM6jMu2IyYt+PHE/rQjVfV8Mqra5t6xfh4k9oyEomQvO/Z7avbPtNsPRJ+sq609yv7py62MvMZaOLTY/hArhL1/+bWXR4fXBxz0dzzeIKGqNzE4dtMosa6zAAAAg0KpBxGCcttUF/h2P+MvSgPELJ8eww6yDHwR7yIFwM9XfT/ycFRRHZ+c5kjnY2FrrcXb8nWBQqEAv7Iyx6Wcrgj8eHPyYGxBNSatbjJ1f/KGaaxZUZ3+x84IKSjwv07cc6awgoJJKOKNZ4cGrW2bsU+5lpRWO2IzegxMD5WdT7wlaBM2pW/34fo8coSL4+lKAAB4E2CX2Va5AIBXTWl+knGzkgZn1885yw5q1xJ2bLq7LvbAK8u/0KBZWwJy1m4db7pDkTjFfTopLZ0ZLkBYEXtCICj0gHtsadOAQeq6FnbLetjwIO3wodneCNLX1Kd6GPk37LodPxfNFu9f3uyxnpY+4czNrcN/4ThKacyMkeG4yLuHbLqZXo4g/Vrva8pPNN0/kQXph37hEQFBkJ9Cf/zw8WDnmNmo7e5vSh7mVFh6L/uVPXWAHw9y3uq4H5zY0/4HgvRPva8pP9F0/0QWpD9CI+sIgiAIgiAI0kd1PYUVQRAEQRAEQZDfBnXWEQRBEARBEKSPQp11BEEQBEEQBOmjUGcdQRAEQRAEQfqo39xZv7Icz8usE2XcKRHkX+j7/WM+bjPHkrTx+DEh5HZRjLK7R1bOGG1E1NYzHesQdKuuXWwHDe9Sg73njB9hQNQztZ7uHXqjuIUV8+1GiPvsCeaGRIK++TjHdX88+taaqeR6yKoF00YbaPa0TtUkOLWriU4JNcwI6sMIL0dbS2Mdgp6p9cwVodnFzIfH92+d7xQAaC7I3OMx1UKfQNA3t3UJf8baYLmnV7pMGW2iR9A1GTV1SdCVj+xXjXav9OwiQzzebNvTtiDepYhekHXAx9nW0lhHx3jUFLegK/kNbVk6xXuFu/iPTS9P+S51sDEjauANN95uXU6XeK8wFFzevGjamOH6BKKRpe38rUmv0Us1unJzA6FdPcXj8Y6n2+o90mO9L8Nl9yM3uk4dZaKrY2hhM39L0uta7hTc/kbjSc8/NpOIx9uGf+SO+XVQr6xv+qWPCOue9ea0tBUAAKXn1nqkDgtO9NYHABBTQq84R/4Lmn80Sujbr7LGhe541i6i6VmIi/sZWZf1+/yIclD5vkKqm9c2Vj/MfCZuvWyHj4Y87cPF/YGerg1nMjeRBAHoIGU4a+1CDWVpwerXySG73FYNyEpyUQYAaPjRPMjMwdfy3pZ9PT+Sqzofi3RmvZlGfDDr7SAYJqYx1dtRS1VGhPLhcujOpe58VzJXa7fl6pc63ylQd2vTvBUPtDzWhW3TkG4uJdexXz7OEFYZs2T68qHyA5qKbh/duWZhk/ztHRbdN8RY0an1kY2EofC5LayzUtT0Ius2jbRwyzJtJeHiP8N2rl7wXeJ6yFj2m1546myFu/iP9Hqq0DAbD1ti3IZL7ZbVqc5WGFr4FMznb3JXV5TEyh6d3L3VtXbgzcOTOd8cg3AwW3sxbTGD9QXLPb5o09dJEwe1S4L0SO/LcN7NjCqt2X6L9FTEqh5G7dqyoET4Wuxs1tt+efrpxrMlN3x9moieLHQzkvP/hXplfRTWN3yJsMeR/HPaBzZ/uRbkNslMl6BrPsEl4Hw+FcMw7F2ojZbD8lXjSCY2q2Lid88aYWg6a++jHxiGYUVRM3G2myK2zxlNMtQ3m7oq7nV9+wUiyG/xLtQGZ703ty3ge8piLZP1N6htIb3CyAkwa79ANur5xTgN7zRau8CcABJuZkxpuzDequPn4caHvuMO5nZrgw7O8XQld3D/1m6nFEROx1vvftnClYbbi2Ar3MSD77mDO6J/iJ5j7ZP1KsIeNzzgCSuwh6XoQ6gNztAvmzu4vZ6tMM+CVx03D2fQ3fIxDOvxCpdETseZbHnAHYzw1HzPz1RrcUo1dzjSCz0vw+1Vx8/DaSy90F2J5tTjxrPx+V5bm8C/Huy2wNkc+cAd+w/g2SvDGi+44YZvT8vet9iGRNQiksYG3KzHMOyyF47kf4+Vpjp+Hs56P6uZoJfeObzc3lKPoGMyZs6GuJe17CUhvfKbp8F0penJrgXrclSWHrt8/Wr0ep3X2xYFPWBeMaaVS8+IiZojcGVXPGxMPjKpOjr2Bvsy7/uLf8psSX/y7P7xCZ+DPQ8+47gsjSB9BONZzmO+kYQfQfPGDR8+arKzX3z311I5Merq6vnkZLleNE6nlj6Nu/RCgKBH7H6gtnPFpxaY6BmYjZ/pHZZd0qH+MJoqc5PP3W9U1ddF457tcO4U6sOHrwePHPrKd5aVqdkYu0U7L3SYiILRavIzkm9+ldHTU+GK6qDlXeTaOOUtWye0GxvvaSmqq6OAjKwcd3A7PVhhgM4KXk/1ZIVbfhTeib+WP0Bfn/3+dqRLP64lpDVOnDv1J/cJ8rfUUepAXFZWmDuct940ntSne9Znjtq9jsS+JNeXUNP2RTQ6hGU+eX43YaP1oK66kfT3x9yXXRSeG5KamRG/bVzpYddNaay5lUivdLWVf6+q84cThVxDdsw0wQ8Zqm+7yXdWw/lzORgAAJ+uhbW6iYWB5ECS1fCho8yIjOJi9nSqAeM8lhlK8PNLGi1bMqYqOekOeucT0udQysup/Lcij7fMCoqN3e+q8teOhRvTv3On6kzLhxPHM8VmeM0Z3BpETXXTHKalN3JuNHV+XNwyPEfqXhEeZucbdCA8NiEq0En9Q5T7/JBnTW2x2X56mppEM/tdn8dFJG0yFmiLQdrvlIrycqz2ytGLcotD42K2zxK9ts41OKdtcvqLvWM0NbVNbNc+IgalBE8Ua43gqflN6Np4/JbtE7gO8D0qRVjpuaPnf4xavkCPK6K9blaYiUfB65VuVrjk+CzNYdoGY9wvyKxNPOKI3ujYE98uJP05wM5xfDdlCPkVam+Gn/6kv8xtZA+awt41nvV3d6+/bRW0znQAd0yfQJWZts1/MkFeXEyOYDNOr4vzCVrW0YjyGdv3u4zUVFMjjPHaukAh43wWlTsZ0r2/MwL3a73Py6N/vj9FI4IjzKSoElQAhERE+AFEREREBUUB+EREhBob2ccVJXV1EeanAerqitSnXyoB0Fw+pG9hMDBoFLHZtMtxhACA3k6f21dXpN6gTpnd/SEX+3Zjs8cRmvvJQM6+m+iEwKtXa+qKnqUcOrhpl27KIVvFtsheEDd38WR+MjA0JzZ9GBMel72RZMs6px++9kLaQkpp7tWjIVu36mjFOKl3M9G+v+iwUxgMBtQPmrV7s702AOgGLbtuuu9Czk6Lscz0BLfYq/a1Fe9vR4UEbTxBSPTSF2pbGJfm5wd9zmlsybDtMHTag1JU93jfkp0f7Q6fd+imf93NCgOP/9h73aywomPoVevv1Z8ent53xPew7tnNFl1OskcA4FNK4kOFWb6j+u6B/D+rkRzlte6eQch5T81uet4A0LvGsy57h999q9B0877ZVQcQNTImdr76nAry8hqq8101kznC8EXFAFocAUhP9O06br3nTawjV//lffuvTBjGHkCn01sv3LfQaOyPCNKXSMnKCIAaDsdq5AeoqcnDg/JyAFz7dB1U3QlwWftqzNGkdaR29YJfSkVLSgW09UzVvk2cdCBxme1aAmf8z+BT0yWKN30uqQRgDXKKK2lqK4G2Lkm38ZV5SMxDp0CL9ln6Jx47RUZWFkAMx96dsmpqYtSysh8AEgAAIDoIpzUItHSMTATeGa07dt0tYipriKGjikcPPlTm+VgQfAAAo9OA/taFkOEU+3i7WTel6MezMNelV7SCz+wcI9u6uE50s8K8/mPvdVPsBWXUtGTUgGAwXLpwxMLQVA+LRWicpUuMZ4ln3mk5hBv13Svk/1HN7+OWLYwW3pAUZq/cs43fm8bz44OcspKKhaQUAACM3gyMsCmE9OUX01f/7Vb9/0NCUpI7iI+z887A2Hc/AwDo+2Zf8mQ9sgD5aX23s66prS2Q/vhxg+OYXp1dfs3LqwVdaQCoyXtXITZ0KLqDGelzBHR0CfC0oJAOKgIA0FRSUgkKChyD4VhDTXltk+hApYEcVxhr7m13WfHILCwpYHSHUdZWDAYDGhp4zTfugFFf+bWmSVxORYZ3FSt6m1cvqqHKowYxGBg0NTYw+vI8un8I750io6szGO4UFgBoAgB8Lymhiikrsjq+HDAMw+gNDTQAdmedRvlWVc8nOUhenNWlVZoXkTWRfeHwa/Jy11SdfSmrLZW7KUX1L8Jd3c+o7kjeP7Vjb4JeX/WNQheTU5Bij+h3ucK8/2N3WijlZbWYhILSQPaM3i5XmBODgWENjRwTsBBemu4kpH41WeGAZvf/Mh1rCgDQ8hM8XY7QVybEOA/rMFudZ9PNqWPj2SGLjmdC1lz2UOPb46cI2fUAACAASURBVE6rntofj15kOIQV0idJSUlR6+tZX75+LWV9GqqtLRr9+HGNp1ovmg6El77bWZefvXJe5Hx/b9z21ZO1JalFL2+deyS/bo8TdzoujPtHtyXhVprBkyMROYPmJlv37GINgvwSlJK3RbVY4bcmoFV+IpOBT3oIUUUS1GbMszgStHuX2S4XIuSeDM0SmrCfc9op5fJKy02P7I7mH57MDnkS5LL0koxXqJNi+VtyOQB7UaXndxz6ShxvrKEo1lz2MvXIyQI1p4k6zEz0msJ3pT+goIYODeX5ZHK1kKy6phL7d2ovrrHa+mh6ZP4hG1bIp5RtJ2sMrQ3UZfi+vUg9fJSMW7jdmh8A6v8M8X+uYmOmqSyNVb69Fnn4mfxET1KHTmB/0+lOASOHeVpxJwIO6W6ZhvvxKDzqocL0uBEAAI8iVv4pYmNJVJURqv1wJ+bAddGRu0Zy9OJfhk53jJX0ycpcweqCCQ5U0WiddyIoJwICUsoa6vIA0HkpaiJHL3KNaHY8sFTzxzsyGQBAYrC2mgz7cn1x7MKxB78tSHm8w5S95E5XuPP/CEAty/9STasrqwd6bRGZTG73KwVxCycepCxOebC19Uc6XWHyKb/kBjNrfZycKLXoceKBsz/01o5VZWdDeKpNT0yvHxk4U5k7AumFLsswj5qCFZzzctn5eVzwgeH0j8y6JaowDC/P7rV3bLq7bTw7ZBGRVdNovRhWN1AQhGSGaAzp271dooEBPTQts3KCrXRJavSlUmCe3QjZLPdUsw/2ChH2nWkkSyvNvX/pOjiFeehzZUe61Xc76yBqvjU+XCIofNuCw1UMCSW84cg5KwYCdHNrgvY8F/mLK6dvrxHXnLj1+DrTPvwHkX7g3t5p3mnMV2AUrrI7BwJ2kfmHbQCUncP+qAoIDpqfVCeiRBjtF7vNjrMtplAoAMrKHBONv9zKyGushUOL7Q+xQliLGqAk33AuZmdsSSWVX3rwMDOPSF/v4axx2rr0zXZbHzA/R7vaRYP84pTHbX2nDsSkBT+e2J92pKqeT0ZV29w71s+DJAIAIKSgwP86cc+ZwgoKJqGIN54dGrT2p6cu/3d0ulOAX3t5dHh9wEF/x+MNEqp6E4NjN40SAwCQVRL/GHfgUlh5LW2AvJr+hB2nfZw4djODQqkHEYJyt/NWAKDzUvTtfsZflAaIWT49hp3UMvBFvAt7DjiFQgF+ZWXOMe1OV7jz/whAjnBxPF0JAABvAuwyuX6Fh85WWFpRpuKPiC2RpdWNgrKqhNEbTqxb0oPnUPdrZecTbwnahE3p2324Pq/rMtyxpjQ/ybhZSYOz6+ecZQcRfbKuss+teTTd3TaeHbP8Cw2atSUgZ+3W8aY7FIlT3KeT0tKZ4QKEFbEnBIJCD7jHljYNGKSua2G3jMfFNKRbfG2zvf/9iqNnWV0cd+vqiqHcMQjyb1Kf6mHk37Drdvxc9EiM/uXNHutp6RPO3Nw6/BcOM5TGzBgZjou8e8im48QcBEHYel9TfqLp/oksSD/0C48ICIL8FPrjh48HO8fMRm13f1PyMKfC0nvZr+ypA/x4kPNWx/3gxJ72PxCkf+p9TfmJpvsnsiD9ERpZRxAEQRAEQZA+6j/VWUcQBEEQBEGQ/5J+/zwHBEEQBEEQBOmrUGcdQRAEQRAEQfoo1FlHEARBEARBkD7qX9lZv76WoLkqgzsUQRAEQRAEQf5bfm9nPcffBL8gsaZdGOP6Ku1hy680twtEkH+l7/eP+bjNHEvSxuPHhJA5IrCKnKOrZlqb6BH0zCcv3ZddxuCI5OljmC2eE8fpKqP01j43G1Mdgu6Iqcsjn7ZWqNzTK12mjDbRI+iajJq6JOjKR/Zb6ztVk+DU7kecElgLoz6M8HK0tTTWIeiZWs9cEZpdzHzTUz/XxRaueRztM2eMqR5Rz2zcXN9Tz+taY6jk+A2zR+kTiMZjnLddLmhpjehEweXNi6aNGa5PIBpZ2s7fmvSa0hpVn5vk7zLBXJ+oZ2I9c+WxBxXM4OdBo9vtRjweP/FgfmsuHoojp3HnMGG9Tqvzgkcruh6ydOooYx2Cwahpq6LaCl5nvj+L375k+pjhekR9s7GO66IefWM93oBekHXAx9nW0lhHx3jUFLegK/kN7XMi7dzcQGi3T/B4vOPpb9ypkO41vTzlu9TBxoyogTfceJs7lpey+5EbXaeOMtHVMbSwmb8l6XUtdwpuf6PxpOcfm0nE423DP3LH/DpXlnOXLTwej8fPOlHGnRL5J/3S5/l2S0MDDw+KSwA4XsJWUVJCU7XAs1/eiyD/Ys0/GiX07VdZ40J3POMML0v08ThGmXcwLpQoUpgetH6Zp2TmRU91ziS86HnG77FjvftOegg79PMJL89YWLA/eY5y/knfjW4bBt/6Y7ocADCEVcYsmb58qPyApqLbR3euWdgkf3uHRXd1XtX5WKSzGvOz+GDWq/wwTExjqrejlqqMCOXD5dCdS935rmSu7vcvmex0C3+/stk95NP00JNhJOmK+wfX+LkFqj7YN24AAPXW9sXb7hlvjb4wvPlm8BqfJeJDr/kasl9vzksLn4L5/E3u6oqSWNmjk7u3utYOvHl48kCAlntBi7fcMQuKuGqt+ON5lO9qD1+F2yfnyAPB/UTaDBo7f0mS97IHtraanMvkpugQlmbV2kGuvbZ5QYKu7fDWaJ4F7/1xL+9kqdUHk6bhGG/PbNuwyEcuO3a2fGumjorvZnxQnrJqnqH6wPo3p4N2LfZgXLnoqQHQ9CLrNo20cMsybSXh4j/Ddq5e8F3iesjYLt6F2r+Zrb2Ytph9fo/lHl+06eukiYPaJUF6hF5PFRpm42FLjNtwiTuOt7ybGVVas/0W6amIVT2M2rVlQYnwtdjZStzJOPx049mSG74+TURPFtrO9P8B1pvT0lYAAJSeW+uROiw40VsfAEBMqauqjfx62G91a4O+1qoMBobd8jXADfO43IBhfwWa4xafr8cwDMMaL7jhhm9Py9632IZE1CKSxgbcrMcwLHON9rCV6RiGYVjto73TDEatvFLcwrFUBOlb3oXa4Kz35rZ+p6YuxmuvvsYutAWRdjjr/W3RPH0ItcHNi6vgDsawV3utcdZ73jAwDMMw2p0NxrjZfxRzpcEw7EWwFW7iwffcwe1Vx8/DjQ99xx3M7dYGHZzj6Uru4H6Ocws/2WmBmxpewIp5HTQaZxv6HsMwjHLBTVPLI7WWGVH8x2yc0YY7vWi9SiKn40y2PMAwDMO+HJmCswh8yoopjp6GI2172JaUiZG7fyzeLpK9Kj1REjNHY1TgCzrzW2cF7+vxGbgROx6zv74IHImbE/OVM0XXmtNXauFmxpRyhzN/0dAvmzsY4an5np+p1uKUau5wpBeq4+bhDH6iyFXHz8NpLL1A5Q7vQo8bz8bne21tAv96sNsCZ3PkA3fsP+BLhD2O5J/DFdpJr+yyF47kf4+Vpjp+XtsRjV565/Bye0s9go7JmDkb4l6y2j6kl37vNBjA43G04uJyKMzN5ZMSf/P6LTSXlHxTwuPFWpNQ0/ZFNDqEZT55fjdho/UgzhWmPNm/0OPK0N3Jh+xUuhqZQpC+pYVGwwSEhdmFWUREBApzyT/apeHl9WF7Qz1DSxvHDTFPqlgDa7WvXhaKGBvr8AEAgCCJpA9vXr1uN6sGo9XkZyTf/Cqjp6fCGc5b8akFJnoGZuNneodll3SYo8FoqsxNPne/UVVflzXSivDYwpqmplKfb6e9/k4HetXjq/erNMZbqwMAvH31qmUYicQaM1YxNlasffWqgL2crrX8KLwTfy1/gL6+BgAAKJuYKn+7n55T2QKMutwrtz4rjR+rx5WH/iDxbNGIubNZl0p64n1S8l+aDnMNOdpaXgWPRqOBkJAQO4mIiDCQyZxTvbpBratrEZKV4/F2yLo6CsjIynEHI7z8uJaQ1jhx7lSOq9PIP6aOUgfisrI9nAjQm8aT+nTP+sxRu9eRRLlj+oAuemXc6O+PuS+7KDw3JDUzI37buNLDrpvSup0vh/DQ3SXxX0wFjxcuLi6hvXlTMGrOjGdv3lR+/VGC4Ufh2pJQZaZt859M4AMAgs24tnDKkwMLl1xSQz115N9H0sSc2Hzi1Mk8k4Vawl+zQpNfCwCxqhqAR8+FTUJ/rn+wpvFQicYv907u3zt/CS3tvKcmP1RXVYMMUa7x7jablY/mnE4nygo3V1RRAKQBAODF3jEO0YV0hrC6fVBK8MS2s2CehIfZ+QapmAyToZc+OXPwkPv8+rPXNpNEWLHZfnoe56h0TIzoEpG0yRhVOwDoZAtLT96bVL3Bcw7pEEOALoxzPBC33kgIAKC6qgZkZWULTzrNjJTblr5BThaqqqoA8O2W2UHJ8Vlj9r2kM/gVx/glHnZkvppcyGJL4sGAZR5mxCYBBt/gibtOBVmLt89HzUq8VDd+17SeX8GmP0o8+8l4mUPrrJnOCp6KubnygauxV5yCpw7BPl4Iv1Qk0KBe3QAwgHNxnWl4fvREztAF8ZO4izxWeu7o+R+j/Bdwn3YgvHy7kPTnALs/xndTsZFfofZm+OlP+stCR/agKexd41l/d/f621Z7r5oOgOfccX1AZ72yjmhZRyPKZ0RedhkpAABqXlsXXJx0Potq54gKbG/95s66AB4/tPJVyes3uZqGvsPps++9KRYukcXhmf0MAAAQNTImMgcNOTFuBS5pbGwijtVU7KbUI0jfo7HkwK78tUF2xkF8/OJE50VTld9/4e9qfAJAcZybO/OTgbGZSu14h5OJLzy3kQDDMGih0YSllVSUB8uI8rW0tLt7ieAWe9W+tuL97aiQoI0nCIle+q1joTyIm7t4Mj8ZGJoTmz6MCY/L3kiyZa3Z8LUX0hZSSnOvHg3ZulVHK8ZJvWPN7H94bmHqsyi/sM9WuxOc9CW/PYratt7twKCL601EAQOAFlqLuNyQwYPFJQRptA7XLnhSdAy9av29+tPD0/uO+B7WPbvZQgqA/i7Rf9ejYRtj9w2Xp7xOCNzu5j/o8t6xHIN2lRcTsgQmHZ/U88nfDVmJF76P9p85uDWks4InYLr6sG/h+o3j9X34BQeSljlMEI1s5uu6ELPQC8+t8Ton73fGbzj7RJCl7vG+JTs/2h0+79C2AkjnPqUkPlSY5TvqNx/I+6NGcpTXunsGIec9NXvSB+lN41mXvcPvvlVounmPznt/A969Ml4K8vIaqvNdNZM5wvBFxQBaHAFIT/zuOq6ugedPz81sphl64wxalCIf31eswVtxDKyDhKQkxzc2TGbC/qhJaa4r1oRaX1pv2MOrUAjSR4gS5oZlOO6rrajhk1EUubE8hV9Rseejn4I6OlpwoqSEBiQhOXk5qK2p4TPwSk73AqhLqKELy8u1VhrRQTitQaClY2Qi8M5o3bHrbhFTufpHneFT0yWKN30uqQRgDuSCuJKmthJo65J0G1+Zh8Q8dAq0aJ+lX+K1hWsuHAwvGBN1cY4FPwBo71lx22DzH1mrTeyF5ORkIK+mWs4lJM0eAJ7erwE5ue5nfAjKqGnJqAHBYLh04YiFoakeFosGtdw4uveBfuDr+dZiAKAd6PfIePHxSz5jXRXZuQpTkh7IT0+w6uEeB4CatMRrdJtQ9s2k3DgLHoAUyTP65tLGmgqKkPwgWqJTuDROsfufopdcWuO8u8o57pSbZvsTxx/PwlyXXtEKPrNzjGy7CIQ3xrPEM++0HMKNenSKhPz/NL+PW7YwWnhDUpi9cs82fm8az48PcspKKhaSUgAAMHozMMKmENKXX0xfTeBO+nvw6JXxcXbeGRjnPEx93+xLnr2Yh4fw1LNy9usI4vFDijMz8wyN9EDd0PBbxrWPYnh8V3dWMwkY2Uwk2O7cM/P7cZ/9f6HHfCH/RnzC0oqKUsI1V1OzaUbmZhyTE7GGmrKysu+dPWqR/vZtPigNURUCAGl9AzXaX3+9Ysa0PH36EnT19TtWbAzDMHpDQ+szQgAY9ZXFxSU1ndaeord59aKqqjzOIRgMDJoaG7p93GT/wrGF6yl1dL62w5eAgAAfvamRBgBEfX3BT3/99Z0ZUfj0SaWUgf5QdkIAGuVbWVllfefPdmMwMKyhsQkAmurqGqHtegyfAD8/NDY2taV8mZicqzZ7rnmHgT96fVVZWUUdR1lgKUxJuC9pN7fT2VKcBY+FX1RGaZCEYHHqhSciI0YYtUW0UMqLi8u+t38IL6M0bZ3ztqIZMbGrDNr/SP2LcFf3M6o7/tfevQdClf0BAP+Od0JLQoqaQWY8EolQ6amtUHqoKKVWUdEvPaw8eiiUCHlm0UMUrWpXpPe2lUe7bW3b9FBtyDMpxgyaZub3x3iMYZBd7ez6fv6aOeeemTv3nnvme889595Th+b1MvwZ8JpvncosH2+/hDuDAfWDLo8UZtEpV8cjLPeUeAfNTv2EPTTdXTWenYrouJ66cin7IleonSKMcoq/GO/Uw1C5f5acnByDTm95U15e0fJqlLa21IvCQhyl/tf90z3rMJpEYpRcV1tqIA0w1kCn5MzPust7XSeHTPMPXvT1Ws/AadkBZnyDNRESArSyJ6V1nJK3zcCseUWlAmGIGmWELAAj7+R3ZWpmmnKMZ1kRwTcU7BOX8J6i0n5wN/cusI4uipzTkvIwaXsWYYqFzkg51puClNATlYaeyw0AAEDffsXYpMN79hvvXazy4tiBi4RpB+1GAAAUxLpflbQyp4yUF697cSsx9LKUxT4LniHCdef/N8WvYH5c0WGrlpRX6buOvTewHDtanvD2QWZkNJXotNtSBADoVw/6/DbCykRLdQin5smluMj7irNcjQZ8TCVwC4+YZKkRmhS2b5Kco75szb2E6BuSE3ebSQOAzOwVC4Jdwr1PjPIw/ngzOIFKcgjgHfL6MHy+fbKs55XcTa0hGPWE1+lGE0t94lApRmlhamhGg96WaSMBYLDplPGSQdG+GcPdJgyj/5F6KIsxxtWy7Y6ezFupZ8v01i5pmXrM602y07SwtyvTC/cY8yZzqGmnfx9h52/O+7cguOJB9bWj5+gUY/VBHx6eDgmjaqzZO4enw634uNOsMJpz+l2/ti+puey1fGuBtu/huVKl3Lmo4gqjtVSkoZmasHpV7Ef70HVaDc+4OTLDtdXlO51moHZ12anZdIsAO1X+DPQZGJVFr2uZ9ZV0YNWVUqnUjhWv85HCKT7r5rj3z+lBoRNYL7lVVUpJk6TYGrV3brp7bDw7FZFUUNdou7ZU/5UYiMuraagJ9xRiytixrPCs3JqZs4eUZSZcqADuCb241QZXdZsgt4MSO+zGKTArHt+5cBmWR7jo8xVHPfrHg3UpEkkVfjUwGA0AMgYGJCggEntxx4pWMpZ+Icvmrty2Z0bOwam9H5iJ0Jdx+4DtxixuN2mJh/VZELWOK4q0AhAh1N6JizxaWk8YqmXhEBOxpePMQBqNBqCqyjNuV1aO9SBuf0bF+yaxoaN0pnif2uGkyW3vCcQ1sbG1PkE+9iea5DSmeCYGLuAOq1BQGfzyeOiFiKo65iBFdf2Ze056Lu9+JLD0ELGXSYeyjryjE+RHaptuTPZy4c4uFVdSEnmUGnympJrGkVEmGS4KD9wyU8BQiQFE4BYm6G1OjIagqBCX9LfN0iqUyTsSvR1GAgCA9PTdSXv8/WK/WRAoomI4P+y7Lbw3WWfTaHSQJKvyDAMZoixf/V2sb1xFbZOYwkjy5O1JW7/h3qNZbXVUYnNwWIzHwkqGhJKG6br4nRvIraE57VJaVt3EnV3eBoZGo4GIqmrbcBku5t3UjGKtVUuNOkT3giseiHHKc8PiIioYEsq6lhuO+XQ/HwIAHl/JKWEySnY5XG1NUXROL/Qzhrd3cn6lNULihvmJrTnmAQ9SHLFJF6zy+9QbYlYRc4U7hhN61FhH+5M1AADwh791Ll/F63ykfLyXc72GCRnbFme0JlE8r1xsO7fu3HT32Hh2LvIvNGyhr3/eFr8ZxnuUKXPXzjfKyuami5I3JSeJBoaHrk2uaB40bLSumfV6voYH9QqBw2l5hhxCSEjQM13G+TTu+yllactocTRA/BFsaZs988x1vwn92I9SkbjAIooY9/NhK/5bsSCE2n3+kdKHprsPRdAA1I//CAihPmEV5hcOd0hchG33QFOWn1dtvnF9f0bqAA13857orA2b1dv4A6GB6fOPlD403X0oggYi7FlHCCGEEEJISA34KWIIIYQQQggJKwzWEUIIIYQQElIYrCOEEEIIISSkhCRYfxkxm0QikUikFWfqeZKL4+Zxk5ckveVJRgghhBBCaCAQkmAdAMB0d8GrVylLee+sO8r14qtXlzZr8SQh9C/y4U6M5xq7aUbaJNLUg9QOWezKn4+4L5g8jqKtZzxtSeAN3rPULpVdPuix0nbyWC0SaWFSJU8Gs/TywXXzJhnqkMdOsvU4+kvr0+Ian2UGbVw8Y+JYip6x5fyN4dfefOIp1TWBK8ypzov2sLMcr0fWM52zLuRmJT6+tIct/LE4N9hlnpk+maxvOtsx6j73bvvdFhFA4E4B+uM0H8eZpvoUvfGWdu4xd6vbsxhP0/2drEx0tSkG5vPWnXrentM1QbWovSelhUcObzEAgPfXtk4kkbQ6Z3RWdM7XzWGOmZ4mibT+fPvDVrv7jaiz69vJHfYJiUSyP4kdWn3Q/PDEjnVLrEwoGiSDb3/iz+1K5Z24b1fNmzReV8fAzGqFb9qjOv4l+DHyY93sZ5sb6pD1jC3tNoXffCP4AcV8WEUxdhQSaXbUS/6c/vPjBv66RSKR+P900BfXr7cIQ2iA+9jQJKNv42FJDN9zv0NG8/2DjmvPKDhuC/GiDIWa59VynZ8zyaex4eMwkyU7zG/7hnT4W34e77bxtNzmsDRbIvvJmV3bV3sOvZm8SBGgNj/3/mDL9Xs8NRSZL84fCnBd1Xgm19uo22Ne0ApXpnq6xNCWhR0Pp0iWZAduW+8qm3vedTTvIgNQN1u4/ob3sk13x7hsjdilMeRjBbVeqsciAgnaKZ9uBzr73jIJjL1oqdzw29Edm112KP10bLEiAFRmbFrm/8rM3TfGdKR0w5vnnB4eVyS4FgEAgJ5rSrB1y3NchrQ9I5XrXY7P/rLRZHjXMblrDDpbfbKTreGFjbEdMwT9RtQVky3ns5xbT5c5j+NXe5d/PWtYh0VQr7DoDHFNK5fZlOPbL/Dnde3p9Zx3YxZ5rdYbIf0u/+g+35VlEpeSF/E+f5ofhyOtMW+j/ZiR8pK0Fz+E7123lvBj7mbug8269elx1LYsST0F6LEn5+9kuTMraxMAQMXZLS6ZmkGpG/UBAKRVWlsD9M/gCIUX4VbEZcer+ZM5HA6H8yzcirg4ses8hP4NnoVbES0PPG5P+JDuPGb8tmuM9pRey/M3ItolVrS9L49fQJy4p7D17YMAC+LixPK27FbsPH+TjuvQHf4VZmQ6k7Q3X/rU8rY4zppoeaiXnzVQdNjCxXHzSZb7H7ZuMAH+2k7hvD4yl2gW8EvLuzcJtkSjXfkcDofDfhBkoWlz9HX7oj3pphZ11zhzOJVnv5ninF50ehVR0z2bP1OgbDcicd25Jv7kLn4j6snH217GY5zTa/nT0WeoPb6MONbrJn9yj2pTlhE11p37nIb8xnYdov3JGv7kzpp+OzDbKuDXu/vNiFZHXvDnfgGvY22IRj55fKlN59YQJ+zOuhnibGVEGUMxmuZ/nc7hcH5wIxr53G5ZpjZlWfsfBKviVuQGG3M9ss74qYu3H39Y1/pJ6LMI0TAYhAYK9v28QoIFuSFw2fQJEybNcfBK6flaqiBMJhPExds6TiUlJYBK7TyOgF1fTycMVejjs8k/MZkcUQmJ1uZCUlISSh5TGzosM9DxbmFGfv6j4Rajft+xcIqxyVTr1XvPFTXyLw9/daeA6nhj1bd3svNqPgG7/vGPN/5UmTFNDwCgNC+vnGImn+1mbW48cfp815ArZUz+wh31UIseRdoY6BmYW9lvT7z3rn0AFOdNmlfoR9fAJaptSegLa7h0Kqtp1tJ5fa1E6K+op9XDYAUFCf70rrGbax6fPnunaaS+bstlKsEYvwRvy520f6tRyyU5ocLIColtWhKRe++3n099azmsuzCS9Txm7frzEksPZubmpOyaXhG5yjurbYgd+gzdbWWEUL+gVVUxRG7ExX9aGJicfGjViF/3OH2b/YF/qd4ZYWqq+uZi8o+vGWwWvehs1IVS0cbaWr7Q8NOLpPhc6QVui4d3TO8t2fGmlI9XTxx7Ws9iN5Xmhp9+JAq172r5FxvAOm7h6qoqTt2P0eeHOocfT9y9UOrS1lVBeU3dFukDcTPf1LBxd11MKFrahnapsr4nAi0HAwBUVVfD67SYPJ3NsSfivabXnXb7JvpJt5MMuqlFMvpLfYIOx5w8GfutzVcFB1Z8c7SI+1Hs4hNbwz95BC7vbggA6l9vz6VdHWRtP0OaPwP1v7rrUSdf6a9fYyHKn9PZTS89LS2Kic2+P6fHpnkb9lCC/vP+bT9NCdxqPIg/Rygw5G13+cwhKw6WHkq2mq7XzfkE80p0bNWC3YccLbTU1clT3fxWKuV8f4XBvxjqGQbrCH1xbDYHmiStvPfZT9TTm7hsr+fM5tzMa31rwUSNN0fuoDz6doa+NtnIIYNkO1MKCATeA5vz9tpOlyPMtXEBM3vszxFE45vQfZMrw60Nydr6NtESX89TBRERbD1adNrCbDYb6MMW7t9pY6SrP3VN4HqTysxzed0W6QPWs1SffQWa3yafyzqfEjipZO8anxsfALhf36C9KsR9loGOwezNu1dqPMs83/lqC49uapHy9DVrbSYbjTU0t3WPOeyk8vBY6gMAYL9K2BIp7hG0bATfR6Ev6FV6ar7SwqWTup3zgPpDE/Wo29bbYw/Gumr1EHkDAMCELeeyfjibXLEdQAAACHNJREFUFLxUOsfPL/11tw+Or7+5x+vOlOBtpsIZqgNIjTOk9DjJCgAAip8+baw9vUqrdZrq1xFFUFr6hn8x1DM8xhH64uQU5EVBnUhsaeQHqasrwt2qKgBix+V6R87INeH6uqb31TRxxWHM1OVRQ4jKkm257275O275fWp02lajv9L7JkVeGpFjH1JX/Z4gryx5bUO6iLIyTjgCgC63sLyCAoA0sXV3KqirSzMqKxsAZAQW+XyfrkUfuKsf8GiFpTQAaAd4FRg6x1/wnLZKWUFeHqSJROWWBdXU1KCyshJAj7c4n+5rUQsxHZ0xkFRWxgQj5v28B3UF1FnkAAAA1idgwWby5Ythj6Pm9iZ2QX8D9v3UM8/GLIkah6fNX9jH58fXOyVIbE+LsFHt3cYfrKKlrQLauka6Tb+bHkzMXx5gxr9Im5d38yrLqp2M0gEAOKyPwI6YS87ecD57M5l/0X+GjKwsfxKBN3hnc3iv4+nvuHnBVZ0nAfUFBusIfXGiOrpk+KW4hAUjRAGguaysBpSUWmMrAOA0vq+qa5b6SuWrbq4wdiAiJa8iBfAm8dw9yYnLx7Wkvr+923FTgUlEmv/kzmNa2fSa8vfNg4eOkO9tBw5BYoiyMsD7zMybzHE7THq7bv9lXW9heV2d4XCrpBhACwDgQ1kZQ1pVuSVS77pICybt7Ts6QXaY4uAeQ97m+vomaJtHAARRERFoamoGgNG6utKM4pIaAEUAgLKyMlCezFO9WPR3b2ks6aFKcnw3iem6FrVjPXlSBCozRooDiM0OvmJIb0lvzPG2jZDZedHna5W21f5Eq6qs48goqXzVyxG96DM13zqVWT5+0xIN/gz0d+nySGEWnXJ1PMJyP5XooNmpbvfYdLPZHGhuamS3j2voVETH9dSVpa2zTJ7EL/f4xSY+YbUB322YhIucnByD3toelJdXtLwapa0tlVBY+N5VvXNbhz4LBusI9SNa2ZPSOk7J22Zg1ryiUoEwRI0yQhbUFywzOxK4f5/JPkcKPD4WfkV85iHeYae0H9zNvQuso4si57Slsd6XPKtogOL3LGisKqJSa8UVRmupSANUXzt6jk4xVh/04eHpkDCqxpq9c2QBAGj3Ah3XXZB3C1+uXPWEWgXQ+u0t6s7/b4pfwfy4osNWbV8iaIWBkXfyuzI1M005xrOsiOAbCvaJS3CosuAtPG7JsjHHk/wP6/raEhsKoo7mK80/PrH7IlwPw+fbJ8t6XsndxBOCdb1TBptOGS8ZFO2bMdxtwjD6H6mHshhjXC3VAEB8sv1CVYcY7+9Gb5umWHU1OOW5ln2ITvvnvUl2mhb2dmV64R7jtjRBtehh0vYswhQLnZFyrDcFKaEnKg09lxsAAEFWRaNtrRnDpAFklDU0eOpE8XGnWWE05/S7fu1fAh9rXr2oboI3NABW+VMqVVxKSZOkKAGCfmN7ScSvLjs1m24RYIeze/8KRmXR61pmfSUdWHWlVCoVZIZrq8u3nnJ2PlI4xWfdHPf+OT0odALrJXcOdlsdBuiq6aZfPejz2wgrEy3VIZyaJ5fiIu8rznI14umP71REUkFdQ6E1t/4rMRCXV9NQE+5olzJ2LCs8K7dm5uwhZZkJFyqAe3YjbrXBVd0myO2gxA67cQrMisd3LlyG5REu+nzFUY8wWEeoH90+YLsxi/sIjBIP67Mgah1XFGkFoOoQ8d07/6DAFWn1kirkyV7Ju6x522IajQagqtph5mF99k5rv7vc1wmrrBNA0Tm90M8YQIxTnhsWF1HBkFDWtdxwzMdNn9tOvr6R87SpDg472xxu+YjWb++GoBUWIdTeiYs8WlpPGKpl4RATsYU7lXFgE7yFRbQ3JETR/cN87OMbZUbqzQpK9p4k3X0RAABg02h0kCSrtv1VA4DAnaK2OiqxOTgsxmNhJUNCScN0XfzODWQCAICk6c7kELb/EY8Fhz7Jjxo//8hRdz2ennoajQYiqqo8fe2Ca5GsHOtB3P6MivdNYkNH6UzxPrXDSbN3F/67UnrazTqsiPv6kJ31IaB4Xrm4SQME/kYkSOX3qTfErCLmCncMJ/SosY72J2sAAOAPf+tcAPOABymOrc9m7HykfLyXc72GCRnbFme0JrXVYYCumm5xJSWRR6nBZ0qqaRwZZZLhovDALR0mqnQu8i80bKGvf94WvxnGe5Qpc9fON8rK5qaLkjclJ4kGhoeuTa5oHjRstK6Z9foODQ/qJQKH0+1Mhy/kZcTsWfmOBWlOXTzX4XnE7K9vLy3IWNNFHkL/RfRMl3E+jft+SlmqxJ+F/tP+CLa0zZ555rrfhH7sR6lIXGARRYz7+bBVy8AchFAXPv9I6UPT3YciaADqexfJ34pAEBP9Zf9kMnnNWRpPckmCHZlsG/1KVEykd1OPEfoPYBXmFw53+N8ibLsHmrL8vGrzjev7M1IHaLib90Rnrfus3sYfCA1Mn3+k9KHp7kMRNBAJSc86QgghhBBCiJ+Q9KwjhBBCCCGE+GGwjhBCCCGEkJDCYB0hhBBCCCEhhcE6QgghhBBCQgqDdYQQQgghhIQUBusIIYQQQggJKQzWEUIIIYQQElIYrCOEEEIIISSkMFhHCCGEEEJISAlFsP7r/slaLdxzeTNoGataM+ZFFvHmIIQQQggh9J9H4HA4/GlfXNO7krIPTAAAkFHRUB7clsGmVfxZzQAAAAkFdTV58bYchBBCCCGE/vOEIlhHCCGEEEIIdSYUw2AQQgghhBBCnWGwjhBCCCGEkJDCYB0hhBBCCCEhhcE6QgghhBBCQgqDdYQQQgghhIQUBusIIYQQQggJKQzWEUIIIYQQElIYrCOEEEIIISSkMFhHCCGEEEJISGGwjhBCCCGEkJDCYB0hhBBCCCEh9X+mKGFpWENMIgAAAABJRU5ErkJggg==)"
      ],
      "metadata": {
        "id": "MiPmPcJ-z718"
      }
    },
    {
      "cell_type": "code",
      "source": [
        "import numpy as np\n",
        "a = np.array([1,2,3])\n",
        "a.mean()"
      ],
      "metadata": {
        "colab": {
          "base_uri": "https://localhost:8080/"
        },
        "id": "WxYKNOCL0cCN",
        "outputId": "82c46631-6606-4e7c-828a-988c6d3a5a9b"
      },
      "execution_count": null,
      "outputs": [
        {
          "output_type": "execute_result",
          "data": {
            "text/plain": [
              "2.0"
            ]
          },
          "metadata": {},
          "execution_count": 74
        }
      ]
    },
    {
      "cell_type": "code",
      "source": [
        "from prompt_toolkit.shortcuts.prompt import E\n",
        "from sklearn.metrics import mean_squared_error\n",
        "from statsmodels.tools.eval_measures import rmse\n",
        "import numpy as np\n",
        "\n",
        "from scipy.stats import t\n",
        "def confidence_interval(x:list, confidence = 0.95):\n",
        "  x = np.array(x)\n",
        "  m = x.mean()\n",
        "  s = x.std()\n",
        "  dof = len(x)-1\n",
        "  t_crit = np.abs(t.ppf((1-confidence)/2,dof))\n",
        "  return (m-s*t_crit/np.sqrt(len(x)), m+s*t_crit/np.sqrt(len(x)))\n",
        "\n",
        "\n",
        "rng = np.random.default_rng(seed=64429)\n",
        "\n",
        "\n",
        "# print(f'Endogs                            RMSE                     MSE      Window               Lags    Seasonal')\n",
        "\n",
        "data = {'vars':[], 'mse': [], 'cut': [],}\n",
        "lags = [1,2,3, 4, 5]\n",
        "repetitions=20\n",
        "for _ in range(repetitions):\n",
        "  cut_year_in = rng.integers(low=0, high=365,size=1)[0]\n",
        "  for seasonal in [True]:\n",
        "    for window in [7]:\n",
        "\n",
        "      train = df.iloc[:-cut_year_in].iloc[:-window,:]\n",
        "      test  = df.iloc[:-cut_year_in].iloc[-window:,:]\n",
        "\n",
        "      endog='DemGBA'\n",
        "      for exog_vars in [['l.Temp', 'l.Hum', 'Wrk'], ['l.Temp', 'Wrk'],['l.Temp', 'l.Hum'],['l.Hum', 'Wrk'],['l.Hum'], ['l.Temp'],['Wrk'], []]:\n",
        "\n",
        "        if len(exog_vars)>0:\n",
        "          res = AutoReg(endog=train[endog], lags = lags, exog=train[exog_vars],seasonal=seasonal, ).fit()\n",
        "          yhat = res.predict(start=len(train), end=len(train)+window-1, exog_oos=test[exog_vars], dynamic=True)\n",
        "        else:\n",
        "          res = AutoReg(endog=train[endog], lags = lags, seasonal=seasonal, ).fit()\n",
        "          yhat = res.predict(start=len(train), end=len(train)+window-1, dynamic=True)\n",
        "\n",
        "        rmse_=rmse(test[endog], yhat)\n",
        "        mse=mean_squared_error(test[endog], yhat)\n",
        "        data['vars'].append(tuple(exog_vars))\n",
        "        data['mse'].append(mse)\n",
        "        data['cut'].append(cut_year_in)\n",
        "    #     print(f\"{','.join(exog_vars) if len(exog_vars)>0 else '[]':20}        {rmse_:>10,.2f}\"\\\n",
        "    #           f\"    {mse:>20,.2f}          {window:>2}       {(','.join([str(elem) for elem in lags])):>12}    {seasonal}\")\n",
        "\n",
        "    # print('--')\n",
        "\n",
        "\n",
        "print('vars'+' '*25+'MSE'+' '*19+'CI')\n",
        "for vars, auxdf in pd.DataFrame(data).groupby(by='vars'):\n",
        "  ini, fin = confidence_interval(list(auxdf['mse']))\n",
        "  print(f\"{str(list(vars)):28} {np.average(auxdf['mse']):,.2f}\"+' '*8+f'({ini:,},{fin:,})')"
      ],
      "metadata": {
        "colab": {
          "base_uri": "https://localhost:8080/"
        },
        "id": "gd1niryNTcmP",
        "outputId": "bd5fa704-9e09-4987-f674-0c2903b7aa20"
      },
      "execution_count": null,
      "outputs": [
        {
          "output_type": "stream",
          "name": "stdout",
          "text": [
            "vars                         MSE                   CI\n",
            "[]                           242,795,803.78        (130,668,754.35900296,354,922,853.2047734)\n",
            "['Wrk']                      227,003,567.08        (146,453,822.87841243,307,553,311.2756745)\n",
            "['l.Hum']                    244,398,637.10        (130,524,598.60302591,358,272,675.60133344)\n",
            "['l.Hum', 'Wrk']             230,282,529.02        (148,572,493.24888217,311,992,564.7867166)\n",
            "['l.Temp']                   240,778,422.67        (129,183,882.48319857,352,372,962.8528298)\n",
            "['l.Temp', 'Wrk']            226,344,788.74        (143,962,610.30977634,308,726,967.1604446)\n",
            "['l.Temp', 'l.Hum']          244,109,905.44        (129,960,191.18876693,358,259,619.68469596)\n",
            "['l.Temp', 'l.Hum', 'Wrk']   230,828,717.97        (148,110,491.19677544,313,546,944.7387802)\n"
          ]
        }
      ]
    },
    {
      "cell_type": "markdown",
      "source": [
        "# AUTO ARIMA"
      ],
      "metadata": {
        "id": "PlvIeaKhR4iq"
      }
    },
    {
      "cell_type": "code",
      "source": [
        "import pmdarima as pmdarima\n",
        "model = pmdarima.auto_arima(df['DemGBA'], seasonal=True, m=7)\n",
        "model.summary()\n",
        "\n",
        "\n",
        "# OLD RESULTS\n",
        "# ARIMA\n",
        "\n",
        "#  ARIMA(4,1,3)(2,0,2)[7]"
      ],
      "metadata": {
        "colab": {
          "base_uri": "https://localhost:8080/",
          "height": 555
        },
        "id": "aUyzBiDsuZUI",
        "outputId": "f111ada9-0ffa-4916-97d5-65eedcd7ab67"
      },
      "execution_count": null,
      "outputs": [
        {
          "output_type": "execute_result",
          "data": {
            "text/plain": [
              "<class 'statsmodels.iolib.summary.Summary'>\n",
              "\"\"\"\n",
              "                                     SARIMAX Results                                     \n",
              "=========================================================================================\n",
              "Dep. Variable:                                 y   No. Observations:                 2556\n",
              "Model:             SARIMAX(5, 1, 0)x(2, 0, 0, 7)   Log Likelihood              -27358.243\n",
              "Date:                           Tue, 23 May 2023   AIC                          54732.487\n",
              "Time:                                   14:55:52   BIC                          54779.253\n",
              "Sample:                               01-02-2012   HQIC                         54749.446\n",
              "                                    - 12-31-2018                                         \n",
              "Covariance Type:                             opg                                         \n",
              "==============================================================================\n",
              "                 coef    std err          z      P>|z|      [0.025      0.975]\n",
              "------------------------------------------------------------------------------\n",
              "ar.L1          0.0531      0.021      2.537      0.011       0.012       0.094\n",
              "ar.L2         -0.2500      0.021    -12.026      0.000      -0.291      -0.209\n",
              "ar.L3         -0.1264      0.019     -6.519      0.000      -0.164      -0.088\n",
              "ar.L4         -0.1338      0.021     -6.486      0.000      -0.174      -0.093\n",
              "ar.L5         -0.1869      0.021     -8.834      0.000      -0.228      -0.145\n",
              "ar.S.L7        0.2422      0.021     11.606      0.000       0.201       0.283\n",
              "ar.S.L14       0.3486      0.018     18.936      0.000       0.312       0.385\n",
              "sigma2      1.406e+08   2.16e-11   6.52e+18      0.000    1.41e+08    1.41e+08\n",
              "===================================================================================\n",
              "Ljung-Box (L1) (Q):                   0.10   Jarque-Bera (JB):               348.49\n",
              "Prob(Q):                              0.76   Prob(JB):                         0.00\n",
              "Heteroskedasticity (H):               1.09   Skew:                            -0.14\n",
              "Prob(H) (two-sided):                  0.19   Kurtosis:                         4.79\n",
              "===================================================================================\n",
              "\n",
              "Warnings:\n",
              "[1] Covariance matrix calculated using the outer product of gradients (complex-step).\n",
              "[2] Covariance matrix is singular or near-singular, with condition number    inf. Standard errors may be unstable.\n",
              "\"\"\""
            ],
            "text/html": [
              "<table class=\"simpletable\">\n",
              "<caption>SARIMAX Results</caption>\n",
              "<tr>\n",
              "  <th>Dep. Variable:</th>                 <td>y</td>               <th>  No. Observations:  </th>    <td>2556</td>   \n",
              "</tr>\n",
              "<tr>\n",
              "  <th>Model:</th>           <td>SARIMAX(5, 1, 0)x(2, 0, 0, 7)</td> <th>  Log Likelihood     </th> <td>-27358.243</td>\n",
              "</tr>\n",
              "<tr>\n",
              "  <th>Date:</th>                  <td>Tue, 23 May 2023</td>        <th>  AIC                </th>  <td>54732.487</td>\n",
              "</tr>\n",
              "<tr>\n",
              "  <th>Time:</th>                      <td>14:55:52</td>            <th>  BIC                </th>  <td>54779.253</td>\n",
              "</tr>\n",
              "<tr>\n",
              "  <th>Sample:</th>                   <td>01-02-2012</td>           <th>  HQIC               </th>  <td>54749.446</td>\n",
              "</tr>\n",
              "<tr>\n",
              "  <th></th>                         <td>- 12-31-2018</td>          <th>                     </th>      <td> </td>    \n",
              "</tr>\n",
              "<tr>\n",
              "  <th>Covariance Type:</th>              <td>opg</td>              <th>                     </th>      <td> </td>    \n",
              "</tr>\n",
              "</table>\n",
              "<table class=\"simpletable\">\n",
              "<tr>\n",
              "      <td></td>        <th>coef</th>     <th>std err</th>      <th>z</th>      <th>P>|z|</th>  <th>[0.025</th>    <th>0.975]</th>  \n",
              "</tr>\n",
              "<tr>\n",
              "  <th>ar.L1</th>    <td>    0.0531</td> <td>    0.021</td> <td>    2.537</td> <td> 0.011</td> <td>    0.012</td> <td>    0.094</td>\n",
              "</tr>\n",
              "<tr>\n",
              "  <th>ar.L2</th>    <td>   -0.2500</td> <td>    0.021</td> <td>  -12.026</td> <td> 0.000</td> <td>   -0.291</td> <td>   -0.209</td>\n",
              "</tr>\n",
              "<tr>\n",
              "  <th>ar.L3</th>    <td>   -0.1264</td> <td>    0.019</td> <td>   -6.519</td> <td> 0.000</td> <td>   -0.164</td> <td>   -0.088</td>\n",
              "</tr>\n",
              "<tr>\n",
              "  <th>ar.L4</th>    <td>   -0.1338</td> <td>    0.021</td> <td>   -6.486</td> <td> 0.000</td> <td>   -0.174</td> <td>   -0.093</td>\n",
              "</tr>\n",
              "<tr>\n",
              "  <th>ar.L5</th>    <td>   -0.1869</td> <td>    0.021</td> <td>   -8.834</td> <td> 0.000</td> <td>   -0.228</td> <td>   -0.145</td>\n",
              "</tr>\n",
              "<tr>\n",
              "  <th>ar.S.L7</th>  <td>    0.2422</td> <td>    0.021</td> <td>   11.606</td> <td> 0.000</td> <td>    0.201</td> <td>    0.283</td>\n",
              "</tr>\n",
              "<tr>\n",
              "  <th>ar.S.L14</th> <td>    0.3486</td> <td>    0.018</td> <td>   18.936</td> <td> 0.000</td> <td>    0.312</td> <td>    0.385</td>\n",
              "</tr>\n",
              "<tr>\n",
              "  <th>sigma2</th>   <td> 1.406e+08</td> <td> 2.16e-11</td> <td> 6.52e+18</td> <td> 0.000</td> <td> 1.41e+08</td> <td> 1.41e+08</td>\n",
              "</tr>\n",
              "</table>\n",
              "<table class=\"simpletable\">\n",
              "<tr>\n",
              "  <th>Ljung-Box (L1) (Q):</th>     <td>0.10</td> <th>  Jarque-Bera (JB):  </th> <td>348.49</td>\n",
              "</tr>\n",
              "<tr>\n",
              "  <th>Prob(Q):</th>                <td>0.76</td> <th>  Prob(JB):          </th>  <td>0.00</td> \n",
              "</tr>\n",
              "<tr>\n",
              "  <th>Heteroskedasticity (H):</th> <td>1.09</td> <th>  Skew:              </th>  <td>-0.14</td>\n",
              "</tr>\n",
              "<tr>\n",
              "  <th>Prob(H) (two-sided):</th>    <td>0.19</td> <th>  Kurtosis:          </th>  <td>4.79</td> \n",
              "</tr>\n",
              "</table><br/><br/>Warnings:<br/>[1] Covariance matrix calculated using the outer product of gradients (complex-step).<br/>[2] Covariance matrix is singular or near-singular, with condition number    inf. Standard errors may be unstable."
            ]
          },
          "metadata": {},
          "execution_count": 53
        }
      ]
    },
    {
      "cell_type": "code",
      "source": [
        "\n",
        " model"
      ],
      "metadata": {
        "colab": {
          "base_uri": "https://localhost:8080/",
          "height": 75
        },
        "id": "CdAWovz606xk",
        "outputId": "88f67663-026f-4c52-e3c9-6bcad8623ee0"
      },
      "execution_count": null,
      "outputs": [
        {
          "output_type": "execute_result",
          "data": {
            "text/plain": [
              "ARIMA(order=(5, 1, 0), scoring_args={}, seasonal_order=(2, 0, 0, 7),\n",
              "      suppress_warnings=True, with_intercept=False)"
            ],
            "text/html": [
              "<style>#sk-container-id-1 {color: black;background-color: white;}#sk-container-id-1 pre{padding: 0;}#sk-container-id-1 div.sk-toggleable {background-color: white;}#sk-container-id-1 label.sk-toggleable__label {cursor: pointer;display: block;width: 100%;margin-bottom: 0;padding: 0.3em;box-sizing: border-box;text-align: center;}#sk-container-id-1 label.sk-toggleable__label-arrow:before {content: \"▸\";float: left;margin-right: 0.25em;color: #696969;}#sk-container-id-1 label.sk-toggleable__label-arrow:hover:before {color: black;}#sk-container-id-1 div.sk-estimator:hover label.sk-toggleable__label-arrow:before {color: black;}#sk-container-id-1 div.sk-toggleable__content {max-height: 0;max-width: 0;overflow: hidden;text-align: left;background-color: #f0f8ff;}#sk-container-id-1 div.sk-toggleable__content pre {margin: 0.2em;color: black;border-radius: 0.25em;background-color: #f0f8ff;}#sk-container-id-1 input.sk-toggleable__control:checked~div.sk-toggleable__content {max-height: 200px;max-width: 100%;overflow: auto;}#sk-container-id-1 input.sk-toggleable__control:checked~label.sk-toggleable__label-arrow:before {content: \"▾\";}#sk-container-id-1 div.sk-estimator input.sk-toggleable__control:checked~label.sk-toggleable__label {background-color: #d4ebff;}#sk-container-id-1 div.sk-label input.sk-toggleable__control:checked~label.sk-toggleable__label {background-color: #d4ebff;}#sk-container-id-1 input.sk-hidden--visually {border: 0;clip: rect(1px 1px 1px 1px);clip: rect(1px, 1px, 1px, 1px);height: 1px;margin: -1px;overflow: hidden;padding: 0;position: absolute;width: 1px;}#sk-container-id-1 div.sk-estimator {font-family: monospace;background-color: #f0f8ff;border: 1px dotted black;border-radius: 0.25em;box-sizing: border-box;margin-bottom: 0.5em;}#sk-container-id-1 div.sk-estimator:hover {background-color: #d4ebff;}#sk-container-id-1 div.sk-parallel-item::after {content: \"\";width: 100%;border-bottom: 1px solid gray;flex-grow: 1;}#sk-container-id-1 div.sk-label:hover label.sk-toggleable__label {background-color: #d4ebff;}#sk-container-id-1 div.sk-serial::before {content: \"\";position: absolute;border-left: 1px solid gray;box-sizing: border-box;top: 0;bottom: 0;left: 50%;z-index: 0;}#sk-container-id-1 div.sk-serial {display: flex;flex-direction: column;align-items: center;background-color: white;padding-right: 0.2em;padding-left: 0.2em;position: relative;}#sk-container-id-1 div.sk-item {position: relative;z-index: 1;}#sk-container-id-1 div.sk-parallel {display: flex;align-items: stretch;justify-content: center;background-color: white;position: relative;}#sk-container-id-1 div.sk-item::before, #sk-container-id-1 div.sk-parallel-item::before {content: \"\";position: absolute;border-left: 1px solid gray;box-sizing: border-box;top: 0;bottom: 0;left: 50%;z-index: -1;}#sk-container-id-1 div.sk-parallel-item {display: flex;flex-direction: column;z-index: 1;position: relative;background-color: white;}#sk-container-id-1 div.sk-parallel-item:first-child::after {align-self: flex-end;width: 50%;}#sk-container-id-1 div.sk-parallel-item:last-child::after {align-self: flex-start;width: 50%;}#sk-container-id-1 div.sk-parallel-item:only-child::after {width: 0;}#sk-container-id-1 div.sk-dashed-wrapped {border: 1px dashed gray;margin: 0 0.4em 0.5em 0.4em;box-sizing: border-box;padding-bottom: 0.4em;background-color: white;}#sk-container-id-1 div.sk-label label {font-family: monospace;font-weight: bold;display: inline-block;line-height: 1.2em;}#sk-container-id-1 div.sk-label-container {text-align: center;}#sk-container-id-1 div.sk-container {/* jupyter's `normalize.less` sets `[hidden] { display: none; }` but bootstrap.min.css set `[hidden] { display: none !important; }` so we also need the `!important` here to be able to override the default hidden behavior on the sphinx rendered scikit-learn.org. See: https://github.com/scikit-learn/scikit-learn/issues/21755 */display: inline-block !important;position: relative;}#sk-container-id-1 div.sk-text-repr-fallback {display: none;}</style><div id=\"sk-container-id-1\" class=\"sk-top-container\"><div class=\"sk-text-repr-fallback\"><pre> ARIMA(5,1,0)(2,0,0)[7]          </pre><b>In a Jupyter environment, please rerun this cell to show the HTML representation or trust the notebook. <br />On GitHub, the HTML representation is unable to render, please try loading this page with nbviewer.org.</b></div><div class=\"sk-container\" hidden><div class=\"sk-item\"><div class=\"sk-estimator sk-toggleable\"><input class=\"sk-toggleable__control sk-hidden--visually\" id=\"sk-estimator-id-1\" type=\"checkbox\" checked><label for=\"sk-estimator-id-1\" class=\"sk-toggleable__label sk-toggleable__label-arrow\">ARIMA</label><div class=\"sk-toggleable__content\"><pre> ARIMA(5,1,0)(2,0,0)[7]          </pre></div></div></div></div></div>"
            ]
          },
          "metadata": {},
          "execution_count": 54
        }
      ]
    },
    {
      "cell_type": "markdown",
      "source": [
        "# Regresiones lineales"
      ],
      "metadata": {
        "id": "QFnpXqf-_B5K"
      }
    },
    {
      "cell_type": "code",
      "source": [
        "# import numpy as np\n",
        "# from sklearn.linear_model import LinearRegression\n",
        "# y=train['DemGBA']\n",
        "# x=train[['Temp','Hum','Wrk']]\n",
        "# x = sm.add_constant(x) # adding a constant\n",
        "# lm = sm.OLS(y,x).fit() # fitting the model\n",
        "\n",
        "# #lm.predict(x)\n",
        "# lm.summary()\n",
        "\n",
        "\n",
        "# In [2]\n",
        "# import statsmodels.api as sm\n",
        "\n",
        "# X_test=test[['Temp','Hum','Wrk']]\n",
        "# X_test = sm.add_constant(X_test) # adding a constant\n",
        "\n",
        "# yhat = lm.predict(X_test)\n",
        "# #yhat\n",
        "# rmse_=rmse(test[endog], yhat)\n",
        "# mse=mean_squared_error(test[endog], yhat)\n",
        "# mse\n",
        "# # old value:\n",
        "# # 289487758.7546725"
      ],
      "metadata": {
        "id": "inPhtzrm2Cch"
      },
      "execution_count": null,
      "outputs": []
    },
    {
      "cell_type": "code",
      "source": [],
      "metadata": {
        "colab": {
          "base_uri": "https://localhost:8080/"
        },
        "id": "GI40MSEU82sx",
        "outputId": "d5818669-d545-4742-acc8-55ea14e765b7"
      },
      "execution_count": null,
      "outputs": [
        {
          "output_type": "execute_result",
          "data": {
            "text/plain": [
              "503051.82002960815"
            ]
          },
          "metadata": {},
          "execution_count": 125
        }
      ]
    },
    {
      "cell_type": "code",
      "source": [
        "# x=train[['Temp','Wrk']]\n",
        "# x = sm.add_constant(x) # adding a constant\n",
        "# lm = sm.OLS(y,x).fit() # fitting the model\n",
        "\n",
        "# #lm.predict(x)\n",
        "# lm.summary()\n",
        "\n",
        "# X_test=test[['Temp','Wrk']]\n",
        "# X_test = sm.add_constant(X_test) # adding a constant\n",
        "\n",
        "# yhat = lm.predict(X_test)\n",
        "# #yhat\n",
        "# rmse_=rmse(test[endog], yhat)\n",
        "# mse=mean_squared_error(test[endog], yhat)\n",
        "# mse\n",
        "\n",
        "# # old value\n",
        "# # 292743334.166985"
      ],
      "metadata": {
        "colab": {
          "base_uri": "https://localhost:8080/"
        },
        "id": "ugp_Me1mCdC-",
        "outputId": "a65d9685-8139-44f4-8e86-2f3ab2310608"
      },
      "execution_count": null,
      "outputs": [
        {
          "output_type": "execute_result",
          "data": {
            "text/plain": [
              "508608.22706233914"
            ]
          },
          "metadata": {},
          "execution_count": 126
        }
      ]
    },
    {
      "cell_type": "code",
      "source": [
        "# x=train[['Temp']]\n",
        "# x = sm.add_constant(x) # adding a constant\n",
        "# lm = sm.OLS(y,x).fit() # fitting the model\n",
        "\n",
        "# #lm.predict(x)\n",
        "# lm.summary()\n",
        "\n",
        "# X_test=test[['Temp']]\n",
        "# X_test = sm.add_constant(X_test) # adding a constant\n",
        "\n",
        "# yhat = lm.predict(X_test)\n",
        "# #yhat\n",
        "# rmse_=rmse(test[endog], yhat)\n",
        "# mse=mean_squared_error(test[endog], yhat)\n",
        "# mse\n",
        "\n",
        "# # old value\n",
        "# # 546328776.5171226"
      ],
      "metadata": {
        "colab": {
          "base_uri": "https://localhost:8080/"
        },
        "id": "y0Xo4mIzEkrO",
        "outputId": "a0d3c177-e201-449b-f522-3e801f64f502"
      },
      "execution_count": null,
      "outputs": [
        {
          "output_type": "execute_result",
          "data": {
            "text/plain": [
              "948381.9767118525"
            ]
          },
          "metadata": {},
          "execution_count": 127
        }
      ]
    },
    {
      "cell_type": "code",
      "source": [
        "import statsmodels.api as sm\n",
        "import numpy as np\n",
        "from sklearn.linear_model import LinearRegression\n",
        "from sklearn.metrics import mean_squared_error\n",
        "\n",
        "rng = np.random.default_rng(seed=64429)\n",
        "data= {'Endogenous Variables':[], 'MSE':[], 'window':[], 'cut':[]}\n",
        "repetitions=20\n",
        "\n",
        "for _ in range(repetitions):\n",
        "  cut_year_in = rng.integers(low=0, high=365,size=1)[0]\n",
        "  for window in [7]:\n",
        "\n",
        "    for vars in [['l.Temp', 'l.Hum', 'Wrk'], ['l.Temp', 'Wrk'],['l.Temp', 'l.Hum'],['l.Hum', 'Wrk'],['l.Hum'], ['l.Temp'],['Wrk'],]:\n",
        "      X_train = df.iloc[:-cut_year_in].iloc[:-window,:][vars]\n",
        "      y_train = df.iloc[:-cut_year_in].iloc[:-window,:][['DemGBA']]\n",
        "      X_test  = df.iloc[:-cut_year_in].iloc[-window:,:][vars]\n",
        "      y_test = df.iloc[:-cut_year_in].iloc[-window:,:][['DemGBA']]\n",
        "\n",
        "      model = LinearRegression()\n",
        "      model.fit(X_train, y_train)\n",
        "\n",
        "      yhat = model.predict(X_test)\n",
        "      # train = sm.add_constant(X_train)\n",
        "      # lm = sm.OLS(y_train,X_train).fit()\n",
        "      # yhat = lm.predict(X_test)\n",
        "      mse = mean_squared_error(y_test, yhat)\n",
        "      data['MSE'].append(mse)\n",
        "      data['Endogenous Variables'].append(tuple(vars))\n",
        "      data['window'].append(window)\n",
        "      data['cut'].append(cut_year_in)\n",
        "\n",
        "print('Endogenous Variables'+' '*26+'MSE'+' '*19 + 'CI')\n",
        "for vars, auxdf in pd.DataFrame(data).groupby(by='Endogenous Variables'):\n",
        "  ini, fin = confidence_interval(list(auxdf['MSE']))\n",
        "  print(f\"{str(list(vars)):29} {np.average(auxdf['MSE']):25,}\"+' '*8+f'({ini:<22,},{fin:,})')"
      ],
      "metadata": {
        "colab": {
          "base_uri": "https://localhost:8080/"
        },
        "id": "XA01dSSr2rrq",
        "outputId": "fbc49834-0468-4589-d976-7dc713d4e099"
      },
      "execution_count": null,
      "outputs": [
        {
          "output_type": "stream",
          "name": "stdout",
          "text": [
            "Endogenous Variables                          MSE                   CI\n",
            "['Wrk']                            459,148,906.13201773        (291,122,733.63997185  ,627,175,078.6240636)\n",
            "['l.Hum']                           568,970,208.9257091        (373,144,063.0374247   ,764,796,354.8139936)\n",
            "['l.Hum', 'Wrk']                    458,693,930.7754267        (290,826,958.81477475  ,626,560,902.7360786)\n",
            "['l.Temp']                          544,874,815.8283508        (342,430,492.5343542   ,747,319,139.1223474)\n",
            "['l.Temp', 'Wrk']                  438,062,536.70992136        (272,121,563.58455443  ,604,003,509.8352883)\n",
            "['l.Temp', 'l.Hum']                 545,797,088.2874951        (342,595,776.89520645  ,748,998,399.6797838)\n",
            "['l.Temp', 'l.Hum', 'Wrk']          440,757,896.9773342        (272,254,042.51328975  ,609,261,751.4413786)\n"
          ]
        }
      ]
    },
    {
      "cell_type": "code",
      "source": [
        "# vars                                   window                    avg RMSE                    MSE\n",
        "# Temp,Hum,Wrk                  \t\t 7\t\t840.3568722707041\t\t606,840.8500495497\n",
        "# Temp,Wrk                      \t\t 7\t\t1,579.2915114910752\t\t2,502,740.180471883\n",
        "# Temp,Hum                      \t\t 7\t\t774.419218863958\t\t1,072,263.669604333\n",
        "# Hum,Wrk                       \t\t 7\t\t871.149737748942\t\t429,995.33436274837\n",
        "# Hum                           \t\t 7\t\t763.4880959408973\t\t923,440.955557714\n",
        "# Temp                          \t\t 7\t\t1,527.2640576143535\t\t3,435,952.236507993\n",
        "# Wrk                           \t\t 7\t\t2,859.427866500739\t\t11,150,422.099275736"
      ],
      "metadata": {
        "colab": {
          "base_uri": "https://localhost:8080/"
        },
        "id": "XMBZXhDf5YBe",
        "outputId": "53ed6357-bee0-4d28-8572-3f0631e50419"
      },
      "execution_count": null,
      "outputs": [
        {
          "output_type": "execute_result",
          "data": {
            "text/plain": [
              "array([1396.88645221, 1070.14867679, 1131.56439202, 1106.76162641,\n",
              "        965.05311309, 1221.67944128, 1730.3735113 ])"
            ]
          },
          "metadata": {},
          "execution_count": 134
        }
      ]
    },
    {
      "cell_type": "code",
      "source": [
        "df.to_excel(\"cammesa.xlsx\")\n",
        "from google.colab import files\n",
        "files.download(\"cammesa.xlsx\")"
      ],
      "metadata": {
        "id": "dWd8bP3C6PL-",
        "colab": {
          "base_uri": "https://localhost:8080/",
          "height": 17
        },
        "outputId": "f3bd41d1-98ed-4bb4-a394-60117245b489"
      },
      "execution_count": null,
      "outputs": [
        {
          "output_type": "display_data",
          "data": {
            "text/plain": [
              "<IPython.core.display.Javascript object>"
            ],
            "application/javascript": [
              "\n",
              "    async function download(id, filename, size) {\n",
              "      if (!google.colab.kernel.accessAllowed) {\n",
              "        return;\n",
              "      }\n",
              "      const div = document.createElement('div');\n",
              "      const label = document.createElement('label');\n",
              "      label.textContent = `Downloading \"${filename}\": `;\n",
              "      div.appendChild(label);\n",
              "      const progress = document.createElement('progress');\n",
              "      progress.max = size;\n",
              "      div.appendChild(progress);\n",
              "      document.body.appendChild(div);\n",
              "\n",
              "      const buffers = [];\n",
              "      let downloaded = 0;\n",
              "\n",
              "      const channel = await google.colab.kernel.comms.open(id);\n",
              "      // Send a message to notify the kernel that we're ready.\n",
              "      channel.send({})\n",
              "\n",
              "      for await (const message of channel.messages) {\n",
              "        // Send a message to notify the kernel that we're ready.\n",
              "        channel.send({})\n",
              "        if (message.buffers) {\n",
              "          for (const buffer of message.buffers) {\n",
              "            buffers.push(buffer);\n",
              "            downloaded += buffer.byteLength;\n",
              "            progress.value = downloaded;\n",
              "          }\n",
              "        }\n",
              "      }\n",
              "      const blob = new Blob(buffers, {type: 'application/binary'});\n",
              "      const a = document.createElement('a');\n",
              "      a.href = window.URL.createObjectURL(blob);\n",
              "      a.download = filename;\n",
              "      div.appendChild(a);\n",
              "      a.click();\n",
              "      div.remove();\n",
              "    }\n",
              "  "
            ]
          },
          "metadata": {}
        },
        {
          "output_type": "display_data",
          "data": {
            "text/plain": [
              "<IPython.core.display.Javascript object>"
            ],
            "application/javascript": [
              "download(\"download_03373bd6-bd28-4469-b11b-d40730cf4e0f\", \"cammesa.xlsx\", 96686)"
            ]
          },
          "metadata": {}
        }
      ]
    }
  ]
}